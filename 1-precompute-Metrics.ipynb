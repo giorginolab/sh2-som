{
 "cells": [
  {
   "cell_type": "code",
   "execution_count": 9,
   "metadata": {},
   "outputs": [
    {
     "name": "stderr",
     "output_type": "stream",
     "text": [
      "/Users/toni/Apps/anaconda-m1/lib/python3.9/site-packages/conda/models/match_spec.py:773: UserWarning: 'name' specified both inside (htmd) and outside (*) of brackets. the value outside of brackets ({components['name']}) will be used.\n",
      "  warnings.warn(\n"
     ]
    },
    {
     "name": "stdout",
     "output_type": "stream",
     "text": [
      "You are on the latest HTMD version (unpackaged : /Users/toni/Apps/anaconda-m1/envs/htmd/lib/python3.10/site-packages/htmd).\n",
      "\n"
     ]
    }
   ],
   "source": [
    "%matplotlib inline\n",
    "\n",
    "from htmd.ui import *\n",
    "from glob import *\n",
    "from sklearn.cluster import * \n",
    "import os\n",
    "\n",
    "path = os.environ[\"HOME\"]+'/work/sh2-reconstructed/'"
   ]
  },
  {
   "cell_type": "code",
   "execution_count": 10,
   "metadata": {},
   "outputs": [
    {
     "data": {
      "application/vnd.jupyter.widget-view+json": {
       "model_id": "ae69acdf3a0e4652b8038eb044dfd7aa",
       "version_major": 2,
       "version_minor": 0
      },
      "text/plain": []
     },
     "metadata": {},
     "output_type": "display_data"
    },
    {
     "data": {
      "application/vnd.jupyter.widget-view+json": {
       "model_id": "76164fd8db184b1484fff80df1cee0e1",
       "version_major": 2,
       "version_minor": 0
      },
      "text/plain": [
       "NGLWidget()"
      ]
     },
     "metadata": {},
     "output_type": "display_data"
    }
   ],
   "source": [
    "filtered=Molecule(path+\"filtered.pdb\")\n",
    "filtered.view(viewer=\"webgl\")"
   ]
  },
  {
   "cell_type": "code",
   "execution_count": 11,
   "metadata": {},
   "outputs": [
    {
     "name": "stderr",
     "output_type": "stream",
     "text": [
      "Creating simlist: 100%|██████████████████████████████████████████████████████████████████████████████| 772/772 [00:00<00:00, 5265.06it/s]\n"
     ]
    }
   ],
   "source": [
    "# Where I can find my data\n",
    "\n",
    "simul = simlist(glob(path + 'traj/s*'), path + 'filtered.pdb')"
   ]
  },
  {
   "cell_type": "code",
   "execution_count": 37,
   "metadata": {},
   "outputs": [],
   "source": [
    "prot_asl = [(134,\"CZ\"),(154,\"CZ\"),(157,\"CA\"),(157,\"CD\"),\n",
    "              (158,\"OG\"),(164,\"OG\"),(179,\"CA\"),(180,\"CA\"),\n",
    "              (180,\"NE2\"),(181,\"CA\"),(181,\"OH\"),(182,\"CA\"),\n",
    "              (182,\"NZ\"),(184,\"CZ\"),(193,\"CB\"),(194,\"CA\"),\n",
    "             (194,\"OG\"),(196,\"CZ\"),(209,\"OH\"),(215,\"CA\"),\n",
    "             (216,\"CA\"),(216,\"CG\")]\n",
    "lig_asl=[(252,\"CA\"),(252,\"P1\"),(252,\"OY\"),\n",
    "         (253,\"CA\"),(253,\"CD\"),\n",
    "         (254,\"CA\"),(254,\"CD\"),\n",
    "         (255,\"CA\"),(255,\"CD\"),(255,\"NT\")]"
   ]
  },
  {
   "cell_type": "code",
   "execution_count": 38,
   "metadata": {},
   "outputs": [],
   "source": [
    "def asl2sel(asl):\n",
    "    tmp1=[f\"(resid {_[0]} and name {_[1]})\" for _ in asl]\n",
    "    tmp2=\" or \".join(tmp1)\n",
    "    return tmp2\n",
    "\n",
    "prot_sel=asl2sel(prot_asl)\n",
    "lig_sel=asl2sel(lig_asl)"
   ]
  },
  {
   "cell_type": "code",
   "execution_count": 39,
   "metadata": {},
   "outputs": [
    {
     "data": {
      "text/plain": [
       "220"
      ]
     },
     "execution_count": 39,
     "metadata": {},
     "output_type": "execute_result"
    }
   ],
   "source": [
    "len(prot_asl)*len(lig_asl)"
   ]
  },
  {
   "cell_type": "code",
   "execution_count": 42,
   "metadata": {},
   "outputs": [
    {
     "data": {
      "text/plain": [
       "220"
      ]
     },
     "execution_count": 42,
     "metadata": {},
     "output_type": "execute_result"
    }
   ],
   "source": [
    "np.sum(filtered.atomselect(prot_sel))*np.sum(filtered.atomselect(lig_sel))"
   ]
  },
  {
   "cell_type": "code",
   "execution_count": 43,
   "metadata": {},
   "outputs": [
    {
     "name": "stderr",
     "output_type": "stream",
     "text": [
      "Projecting trajectories:   0%|                                                                                   | 0/772 [00:00<?, ?it/s]2023-06-27 16:17:57,125 - moleculekit.molecule - WARNING - Different timesteps in Molecule.time for file /Users/toni/work/sh2-reconstructed/traj/s0r1/s0r1.xtc. Cannot calculate fstep.\n",
      "2023-06-27 16:17:57,205 - moleculekit.molecule - WARNING - Different timesteps in Molecule.time for file /Users/toni/work/sh2-reconstructed/traj/s0r2/s0r2.xtc. Cannot calculate fstep.\n",
      "Projecting trajectories:   0%|▏                                                                          | 2/772 [00:00<01:03, 12.12it/s]2023-06-27 16:17:57,284 - moleculekit.molecule - WARNING - Different timesteps in Molecule.time for file /Users/toni/work/sh2-reconstructed/traj/s0r3/s0r3.xtc. Cannot calculate fstep.\n",
      "2023-06-27 16:17:57,364 - moleculekit.molecule - WARNING - Different timesteps in Molecule.time for file /Users/toni/work/sh2-reconstructed/traj/s0r4/s0r4.xtc. Cannot calculate fstep.\n",
      "Projecting trajectories:   1%|▍                                                                          | 4/772 [00:00<01:01, 12.40it/s]2023-06-27 16:17:57,438 - moleculekit.molecule - WARNING - Different timesteps in Molecule.time for file /Users/toni/work/sh2-reconstructed/traj/s0r5/s0r5.xtc. Cannot calculate fstep.\n",
      "2023-06-27 16:17:57,513 - moleculekit.molecule - WARNING - Different timesteps in Molecule.time for file /Users/toni/work/sh2-reconstructed/traj/s0r6/s0r6.xtc. Cannot calculate fstep.\n",
      "Projecting trajectories:   1%|▌                                                                          | 6/772 [00:00<00:59, 12.81it/s]2023-06-27 16:17:57,588 - moleculekit.molecule - WARNING - Different timesteps in Molecule.time for file /Users/toni/work/sh2-reconstructed/traj/s0r7/s0r7.xtc. Cannot calculate fstep.\n",
      "2023-06-27 16:17:57,672 - moleculekit.molecule - WARNING - Different timesteps in Molecule.time for file /Users/toni/work/sh2-reconstructed/traj/s0r8/s0r8.xtc. Cannot calculate fstep.\n",
      "Projecting trajectories:   1%|▊                                                                          | 8/772 [00:00<01:00, 12.72it/s]2023-06-27 16:17:57,755 - moleculekit.molecule - WARNING - Different timesteps in Molecule.time for file /Users/toni/work/sh2-reconstructed/traj/s0r9/s0r9.xtc. Cannot calculate fstep.\n",
      "2023-06-27 16:17:57,834 - moleculekit.molecule - WARNING - Different timesteps in Molecule.time for file /Users/toni/work/sh2-reconstructed/traj/s0r10/s0r10.xtc. Cannot calculate fstep.\n",
      "Projecting trajectories:   1%|▉                                                                         | 10/772 [00:00<01:00, 12.59it/s]2023-06-27 16:17:57,922 - moleculekit.molecule - WARNING - Different timesteps in Molecule.time for file /Users/toni/work/sh2-reconstructed/traj/s0r11/s0r11.xtc. Cannot calculate fstep.\n",
      "2023-06-27 16:17:58,026 - moleculekit.molecule - WARNING - Different timesteps in Molecule.time for file /Users/toni/work/sh2-reconstructed/traj/s0r12/s0r12.xtc. Cannot calculate fstep.\n",
      "Projecting trajectories:   2%|█▏                                                                        | 12/772 [00:00<01:04, 11.75it/s]2023-06-27 16:17:58,111 - moleculekit.molecule - WARNING - Different timesteps in Molecule.time for file /Users/toni/work/sh2-reconstructed/traj/s0r14/s0r14.xtc. Cannot calculate fstep.\n",
      "2023-06-27 16:17:58,191 - moleculekit.molecule - WARNING - Different timesteps in Molecule.time for file /Users/toni/work/sh2-reconstructed/traj/s0r15/s0r15.xtc. Cannot calculate fstep.\n",
      "Projecting trajectories:   2%|█▎                                                                        | 14/772 [00:01<01:03, 11.87it/s]2023-06-27 16:17:58,267 - moleculekit.molecule - WARNING - Different timesteps in Molecule.time for file /Users/toni/work/sh2-reconstructed/traj/s0r17/s0r17.xtc. Cannot calculate fstep.\n",
      "2023-06-27 16:17:58,347 - moleculekit.molecule - WARNING - Different timesteps in Molecule.time for file /Users/toni/work/sh2-reconstructed/traj/s0r18/s0r18.xtc. Cannot calculate fstep.\n",
      "Projecting trajectories:   2%|█▌                                                                        | 16/772 [00:01<01:02, 12.17it/s]2023-06-27 16:17:58,422 - moleculekit.molecule - WARNING - Different timesteps in Molecule.time for file /Users/toni/work/sh2-reconstructed/traj/s0r19/s0r19.xtc. Cannot calculate fstep.\n",
      "2023-06-27 16:17:58,495 - moleculekit.molecule - WARNING - Different timesteps in Molecule.time for file /Users/toni/work/sh2-reconstructed/traj/s0r20/s0r20.xtc. Cannot calculate fstep.\n",
      "Projecting trajectories:   2%|█▋                                                                        | 18/772 [00:01<01:00, 12.55it/s]2023-06-27 16:17:58,570 - moleculekit.molecule - WARNING - Different timesteps in Molecule.time for file /Users/toni/work/sh2-reconstructed/traj/s0r21/s0r21.xtc. Cannot calculate fstep.\n",
      "2023-06-27 16:17:58,644 - moleculekit.molecule - WARNING - Different timesteps in Molecule.time for file /Users/toni/work/sh2-reconstructed/traj/s0r22/s0r22.xtc. Cannot calculate fstep.\n",
      "Projecting trajectories:   3%|█▉                                                                        | 20/772 [00:01<00:58, 12.82it/s]2023-06-27 16:17:58,718 - moleculekit.molecule - WARNING - Different timesteps in Molecule.time for file /Users/toni/work/sh2-reconstructed/traj/s0r23/s0r23.xtc. Cannot calculate fstep.\n",
      "2023-06-27 16:17:58,800 - moleculekit.molecule - WARNING - Different timesteps in Molecule.time for file /Users/toni/work/sh2-reconstructed/traj/s0r24/s0r24.xtc. Cannot calculate fstep.\n",
      "Projecting trajectories:   3%|██                                                                        | 22/772 [00:01<00:58, 12.83it/s]2023-06-27 16:17:58,876 - moleculekit.molecule - WARNING - Different timesteps in Molecule.time for file /Users/toni/work/sh2-reconstructed/traj/s0r25/s0r25.xtc. Cannot calculate fstep.\n",
      "2023-06-27 16:17:58,957 - moleculekit.molecule - WARNING - Different timesteps in Molecule.time for file /Users/toni/work/sh2-reconstructed/traj/s0r26/s0r26.xtc. Cannot calculate fstep.\n",
      "Projecting trajectories:   3%|██▎                                                                       | 24/772 [00:01<00:58, 12.79it/s]2023-06-27 16:17:59,032 - moleculekit.molecule - WARNING - Different timesteps in Molecule.time for file /Users/toni/work/sh2-reconstructed/traj/s0r27/s0r27.xtc. Cannot calculate fstep.\n",
      "2023-06-27 16:17:59,106 - moleculekit.molecule - WARNING - Different timesteps in Molecule.time for file /Users/toni/work/sh2-reconstructed/traj/s0r28/s0r28.xtc. Cannot calculate fstep.\n",
      "Projecting trajectories:   3%|██▍                                                                       | 26/772 [00:02<00:57, 12.98it/s]2023-06-27 16:17:59,179 - moleculekit.molecule - WARNING - Different timesteps in Molecule.time for file /Users/toni/work/sh2-reconstructed/traj/s0r29/s0r29.xtc. Cannot calculate fstep.\n",
      "2023-06-27 16:17:59,253 - moleculekit.molecule - WARNING - Different timesteps in Molecule.time for file /Users/toni/work/sh2-reconstructed/traj/s0r30/s0r30.xtc. Cannot calculate fstep.\n",
      "Projecting trajectories:   4%|██▋                                                                       | 28/772 [00:02<00:56, 13.16it/s]2023-06-27 16:17:59,326 - moleculekit.molecule - WARNING - Different timesteps in Molecule.time for file /Users/toni/work/sh2-reconstructed/traj/s0r31/s0r31.xtc. Cannot calculate fstep.\n",
      "2023-06-27 16:17:59,401 - moleculekit.molecule - WARNING - Different timesteps in Molecule.time for file /Users/toni/work/sh2-reconstructed/traj/s0r32/s0r32.xtc. Cannot calculate fstep.\n",
      "Projecting trajectories:   4%|██▉                                                                       | 30/772 [00:02<00:55, 13.27it/s]2023-06-27 16:17:59,477 - moleculekit.molecule - WARNING - Different timesteps in Molecule.time for file /Users/toni/work/sh2-reconstructed/traj/s0r33/s0r33.xtc. Cannot calculate fstep.\n",
      "2023-06-27 16:17:59,555 - moleculekit.molecule - WARNING - Different timesteps in Molecule.time for file /Users/toni/work/sh2-reconstructed/traj/s0r34/s0r34.xtc. Cannot calculate fstep.\n",
      "Projecting trajectories:   4%|███                                                                       | 32/772 [00:02<00:56, 13.19it/s]2023-06-27 16:17:59,636 - moleculekit.molecule - WARNING - Different timesteps in Molecule.time for file /Users/toni/work/sh2-reconstructed/traj/s0r35/s0r35.xtc. Cannot calculate fstep.\n",
      "2023-06-27 16:17:59,717 - moleculekit.molecule - WARNING - Different timesteps in Molecule.time for file /Users/toni/work/sh2-reconstructed/traj/s0r36/s0r36.xtc. Cannot calculate fstep.\n",
      "Projecting trajectories:   4%|███▎                                                                      | 34/772 [00:02<00:57, 12.92it/s]2023-06-27 16:17:59,793 - moleculekit.molecule - WARNING - Different timesteps in Molecule.time for file /Users/toni/work/sh2-reconstructed/traj/s0r37/s0r37.xtc. Cannot calculate fstep.\n",
      "2023-06-27 16:17:59,866 - moleculekit.molecule - WARNING - Different timesteps in Molecule.time for file /Users/toni/work/sh2-reconstructed/traj/s0r38/s0r38.xtc. Cannot calculate fstep.\n",
      "Projecting trajectories:   5%|███▍                                                                      | 36/772 [00:02<00:56, 13.05it/s]2023-06-27 16:17:59,941 - moleculekit.molecule - WARNING - Different timesteps in Molecule.time for file /Users/toni/work/sh2-reconstructed/traj/s0r39/s0r39.xtc. Cannot calculate fstep.\n",
      "2023-06-27 16:18:00,015 - moleculekit.molecule - WARNING - Different timesteps in Molecule.time for file /Users/toni/work/sh2-reconstructed/traj/s0r40/s0r40.xtc. Cannot calculate fstep.\n",
      "Projecting trajectories:   5%|███▋                                                                      | 38/772 [00:02<00:55, 13.18it/s]2023-06-27 16:18:00,089 - moleculekit.molecule - WARNING - Different timesteps in Molecule.time for file /Users/toni/work/sh2-reconstructed/traj/s0r41/s0r41.xtc. Cannot calculate fstep.\n",
      "2023-06-27 16:18:00,163 - moleculekit.molecule - WARNING - Different timesteps in Molecule.time for file /Users/toni/work/sh2-reconstructed/traj/s0r42/s0r42.xtc. Cannot calculate fstep.\n",
      "Projecting trajectories:   5%|███▊                                                                      | 40/772 [00:03<00:55, 13.26it/s]2023-06-27 16:18:00,240 - moleculekit.molecule - WARNING - Different timesteps in Molecule.time for file /Users/toni/work/sh2-reconstructed/traj/s0r43/s0r43.xtc. Cannot calculate fstep.\n",
      "2023-06-27 16:18:00,317 - moleculekit.molecule - WARNING - Different timesteps in Molecule.time for file /Users/toni/work/sh2-reconstructed/traj/s0r44/s0r44.xtc. Cannot calculate fstep.\n",
      "Projecting trajectories:   5%|████                                                                      | 42/772 [00:03<00:55, 13.19it/s]2023-06-27 16:18:00,353 - moleculekit.molecule - WARNING - Different timesteps in Molecule.time for file /Users/toni/work/sh2-reconstructed/traj/s0r45/s0r45.xtc. Cannot calculate fstep.\n",
      "2023-06-27 16:18:00,435 - moleculekit.molecule - WARNING - Different timesteps in Molecule.time for file /Users/toni/work/sh2-reconstructed/traj/s0r46/s0r46.xtc. Cannot calculate fstep.\n",
      "Projecting trajectories:   6%|████▏                                                                     | 44/772 [00:03<00:51, 14.13it/s]2023-06-27 16:18:00,518 - moleculekit.molecule - WARNING - Different timesteps in Molecule.time for file /Users/toni/work/sh2-reconstructed/traj/s0r47/s0r47.xtc. Cannot calculate fstep.\n",
      "2023-06-27 16:18:00,593 - moleculekit.molecule - WARNING - Different timesteps in Molecule.time for file /Users/toni/work/sh2-reconstructed/traj/s0r48/s0r48.xtc. Cannot calculate fstep.\n",
      "Projecting trajectories:   6%|████▍                                                                     | 46/772 [00:03<00:53, 13.65it/s]2023-06-27 16:18:00,670 - moleculekit.molecule - WARNING - Different timesteps in Molecule.time for file /Users/toni/work/sh2-reconstructed/traj/s0r49/s0r49.xtc. Cannot calculate fstep.\n",
      "2023-06-27 16:18:00,743 - moleculekit.molecule - WARNING - Different timesteps in Molecule.time for file /Users/toni/work/sh2-reconstructed/traj/s0r50/s0r50.xtc. Cannot calculate fstep.\n",
      "Projecting trajectories:   6%|████▌                                                                     | 48/772 [00:03<00:53, 13.54it/s]2023-06-27 16:18:00,818 - moleculekit.molecule - WARNING - Different timesteps in Molecule.time for file /Users/toni/work/sh2-reconstructed/traj/s0r51/s0r51.xtc. Cannot calculate fstep.\n",
      "2023-06-27 16:18:00,892 - moleculekit.molecule - WARNING - Different timesteps in Molecule.time for file /Users/toni/work/sh2-reconstructed/traj/s0r52/s0r52.xtc. Cannot calculate fstep.\n",
      "Projecting trajectories:   6%|████▊                                                                     | 50/772 [00:03<00:53, 13.51it/s]2023-06-27 16:18:00,966 - moleculekit.molecule - WARNING - Different timesteps in Molecule.time for file /Users/toni/work/sh2-reconstructed/traj/s0r53/s0r53.xtc. Cannot calculate fstep.\n",
      "2023-06-27 16:18:01,040 - moleculekit.molecule - WARNING - Different timesteps in Molecule.time for file /Users/toni/work/sh2-reconstructed/traj/s0r54/s0r54.xtc. Cannot calculate fstep.\n",
      "Projecting trajectories:   7%|████▉                                                                     | 52/772 [00:04<00:53, 13.50it/s]2023-06-27 16:18:01,117 - moleculekit.molecule - WARNING - Different timesteps in Molecule.time for file /Users/toni/work/sh2-reconstructed/traj/s0r55/s0r55.xtc. Cannot calculate fstep.\n",
      "2023-06-27 16:18:01,147 - moleculekit.molecule - WARNING - Different timesteps in Molecule.time for file /Users/toni/work/sh2-reconstructed/traj/s0r56/s0r56.xtc. Cannot calculate fstep.\n",
      "Projecting trajectories:   7%|█████▏                                                                    | 54/772 [00:04<00:48, 14.75it/s]2023-06-27 16:18:01,230 - moleculekit.molecule - WARNING - Different timesteps in Molecule.time for file /Users/toni/work/sh2-reconstructed/traj/s0r57/s0r57.xtc. Cannot calculate fstep.\n",
      "2023-06-27 16:18:01,312 - moleculekit.molecule - WARNING - Different timesteps in Molecule.time for file /Users/toni/work/sh2-reconstructed/traj/s0r58/s0r58.xtc. Cannot calculate fstep.\n",
      "Projecting trajectories:   7%|█████▎                                                                    | 56/772 [00:04<00:51, 13.83it/s]2023-06-27 16:18:01,387 - moleculekit.molecule - WARNING - Different timesteps in Molecule.time for file /Users/toni/work/sh2-reconstructed/traj/s0r59/s0r59.xtc. Cannot calculate fstep.\n",
      "2023-06-27 16:18:01,461 - moleculekit.molecule - WARNING - Different timesteps in Molecule.time for file /Users/toni/work/sh2-reconstructed/traj/s0r60/s0r60.xtc. Cannot calculate fstep.\n",
      "Projecting trajectories:   8%|█████▌                                                                    | 58/772 [00:04<00:51, 13.73it/s]2023-06-27 16:18:01,536 - moleculekit.molecule - WARNING - Different timesteps in Molecule.time for file /Users/toni/work/sh2-reconstructed/traj/s0r61/s0r61.xtc. Cannot calculate fstep.\n",
      "2023-06-27 16:18:01,609 - moleculekit.molecule - WARNING - Different timesteps in Molecule.time for file /Users/toni/work/sh2-reconstructed/traj/s0r62/s0r62.xtc. Cannot calculate fstep.\n",
      "Projecting trajectories:   8%|█████▊                                                                    | 60/772 [00:04<00:52, 13.65it/s]2023-06-27 16:18:01,684 - moleculekit.molecule - WARNING - Different timesteps in Molecule.time for file /Users/toni/work/sh2-reconstructed/traj/s0r63/s0r63.xtc. Cannot calculate fstep.\n",
      "2023-06-27 16:18:01,758 - moleculekit.molecule - WARNING - Different timesteps in Molecule.time for file /Users/toni/work/sh2-reconstructed/traj/s0r64/s0r64.xtc. Cannot calculate fstep.\n",
      "Projecting trajectories:   8%|█████▉                                                                    | 62/772 [00:04<00:52, 13.58it/s]2023-06-27 16:18:01,836 - moleculekit.molecule - WARNING - Different timesteps in Molecule.time for file /Users/toni/work/sh2-reconstructed/traj/s0r65/s0r65.xtc. Cannot calculate fstep.\n",
      "2023-06-27 16:18:01,918 - moleculekit.molecule - WARNING - Different timesteps in Molecule.time for file /Users/toni/work/sh2-reconstructed/traj/s0r66/s0r66.xtc. Cannot calculate fstep.\n"
     ]
    },
    {
     "name": "stderr",
     "output_type": "stream",
     "text": [
      "Projecting trajectories:   8%|██████▏                                                                   | 64/772 [00:04<00:53, 13.25it/s]2023-06-27 16:18:02,000 - moleculekit.molecule - WARNING - Different timesteps in Molecule.time for file /Users/toni/work/sh2-reconstructed/traj/s0r67/s0r67.xtc. Cannot calculate fstep.\n",
      "2023-06-27 16:18:02,082 - moleculekit.molecule - WARNING - Different timesteps in Molecule.time for file /Users/toni/work/sh2-reconstructed/traj/s0r68/s0r68.xtc. Cannot calculate fstep.\n",
      "Projecting trajectories:   9%|██████▎                                                                   | 66/772 [00:05<00:54, 12.90it/s]2023-06-27 16:18:02,157 - moleculekit.molecule - WARNING - Different timesteps in Molecule.time for file /Users/toni/work/sh2-reconstructed/traj/s0r69/s0r69.xtc. Cannot calculate fstep.\n",
      "2023-06-27 16:18:02,233 - moleculekit.molecule - WARNING - Different timesteps in Molecule.time for file /Users/toni/work/sh2-reconstructed/traj/s0r70/s0r70.xtc. Cannot calculate fstep.\n",
      "Projecting trajectories:   9%|██████▌                                                                   | 68/772 [00:05<00:54, 13.00it/s]2023-06-27 16:18:02,306 - moleculekit.molecule - WARNING - Different timesteps in Molecule.time for file /Users/toni/work/sh2-reconstructed/traj/s0r71/s0r71.xtc. Cannot calculate fstep.\n",
      "2023-06-27 16:18:02,379 - moleculekit.molecule - WARNING - Different timesteps in Molecule.time for file /Users/toni/work/sh2-reconstructed/traj/s0r73/s0r73.xtc. Cannot calculate fstep.\n",
      "Projecting trajectories:   9%|██████▋                                                                   | 70/772 [00:05<00:53, 13.20it/s]2023-06-27 16:18:02,453 - moleculekit.molecule - WARNING - Different timesteps in Molecule.time for file /Users/toni/work/sh2-reconstructed/traj/s0r74/s0r74.xtc. Cannot calculate fstep.\n",
      "2023-06-27 16:18:02,526 - moleculekit.molecule - WARNING - Different timesteps in Molecule.time for file /Users/toni/work/sh2-reconstructed/traj/s0r75/s0r75.xtc. Cannot calculate fstep.\n",
      "Projecting trajectories:   9%|██████▉                                                                   | 72/772 [00:05<00:52, 13.33it/s]2023-06-27 16:18:02,599 - moleculekit.molecule - WARNING - Different timesteps in Molecule.time for file /Users/toni/work/sh2-reconstructed/traj/s0r76/s0r76.xtc. Cannot calculate fstep.\n",
      "2023-06-27 16:18:02,675 - moleculekit.molecule - WARNING - Different timesteps in Molecule.time for file /Users/toni/work/sh2-reconstructed/traj/s0r77/s0r77.xtc. Cannot calculate fstep.\n",
      "Projecting trajectories:  10%|███████                                                                   | 74/772 [00:05<00:52, 13.36it/s]2023-06-27 16:18:02,754 - moleculekit.molecule - WARNING - Different timesteps in Molecule.time for file /Users/toni/work/sh2-reconstructed/traj/s0r78/s0r78.xtc. Cannot calculate fstep.\n",
      "2023-06-27 16:18:02,836 - moleculekit.molecule - WARNING - Different timesteps in Molecule.time for file /Users/toni/work/sh2-reconstructed/traj/s0r79/s0r79.xtc. Cannot calculate fstep.\n",
      "Projecting trajectories:  10%|███████▎                                                                  | 76/772 [00:05<00:53, 13.07it/s]2023-06-27 16:18:02,917 - moleculekit.molecule - WARNING - Different timesteps in Molecule.time for file /Users/toni/work/sh2-reconstructed/traj/s0r80/s0r80.xtc. Cannot calculate fstep.\n",
      "2023-06-27 16:18:02,993 - moleculekit.molecule - WARNING - Different timesteps in Molecule.time for file /Users/toni/work/sh2-reconstructed/traj/s0r81/s0r81.xtc. Cannot calculate fstep.\n",
      "Projecting trajectories:  10%|███████▍                                                                  | 78/772 [00:05<00:53, 12.96it/s]2023-06-27 16:18:03,068 - moleculekit.molecule - WARNING - Different timesteps in Molecule.time for file /Users/toni/work/sh2-reconstructed/traj/s0r82/s0r82.xtc. Cannot calculate fstep.\n",
      "2023-06-27 16:18:03,130 - moleculekit.molecule - WARNING - Different timesteps in Molecule.time for file /Users/toni/work/sh2-reconstructed/traj/s0r83/s0r83.xtc. Cannot calculate fstep.\n",
      "Projecting trajectories:  10%|███████▋                                                                  | 80/772 [00:06<00:51, 13.42it/s]2023-06-27 16:18:03,202 - moleculekit.molecule - WARNING - Different timesteps in Molecule.time for file /Users/toni/work/sh2-reconstructed/traj/s0r84/s0r84.xtc. Cannot calculate fstep.\n",
      "2023-06-27 16:18:03,276 - moleculekit.molecule - WARNING - Different timesteps in Molecule.time for file /Users/toni/work/sh2-reconstructed/traj/s0r85/s0r85.xtc. Cannot calculate fstep.\n",
      "Projecting trajectories:  11%|███████▊                                                                  | 82/772 [00:06<00:51, 13.50it/s]2023-06-27 16:18:03,349 - moleculekit.molecule - WARNING - Different timesteps in Molecule.time for file /Users/toni/work/sh2-reconstructed/traj/s0r86/s0r86.xtc. Cannot calculate fstep.\n",
      "2023-06-27 16:18:03,422 - moleculekit.molecule - WARNING - Different timesteps in Molecule.time for file /Users/toni/work/sh2-reconstructed/traj/s0r87/s0r87.xtc. Cannot calculate fstep.\n",
      "Projecting trajectories:  11%|████████                                                                  | 84/772 [00:06<00:50, 13.55it/s]2023-06-27 16:18:03,523 - moleculekit.molecule - WARNING - Different timesteps in Molecule.time for file /Users/toni/work/sh2-reconstructed/traj/s0r88/s0r88.xtc. Cannot calculate fstep.\n",
      "2023-06-27 16:18:03,606 - moleculekit.molecule - WARNING - Different timesteps in Molecule.time for file /Users/toni/work/sh2-reconstructed/traj/s0r89/s0r89.xtc. Cannot calculate fstep.\n",
      "Projecting trajectories:  11%|████████▏                                                                 | 86/772 [00:06<00:54, 12.62it/s]2023-06-27 16:18:03,687 - moleculekit.molecule - WARNING - Different timesteps in Molecule.time for file /Users/toni/work/sh2-reconstructed/traj/s0r90/s0r90.xtc. Cannot calculate fstep.\n",
      "2023-06-27 16:18:03,762 - moleculekit.molecule - WARNING - Different timesteps in Molecule.time for file /Users/toni/work/sh2-reconstructed/traj/s0r91/s0r91.xtc. Cannot calculate fstep.\n",
      "Projecting trajectories:  11%|████████▍                                                                 | 88/772 [00:06<00:53, 12.67it/s]2023-06-27 16:18:03,835 - moleculekit.molecule - WARNING - Different timesteps in Molecule.time for file /Users/toni/work/sh2-reconstructed/traj/s0r92/s0r92.xtc. Cannot calculate fstep.\n",
      "2023-06-27 16:18:03,909 - moleculekit.molecule - WARNING - Different timesteps in Molecule.time for file /Users/toni/work/sh2-reconstructed/traj/s0r93/s0r93.xtc. Cannot calculate fstep.\n",
      "Projecting trajectories:  12%|████████▋                                                                 | 90/772 [00:06<00:52, 12.95it/s]2023-06-27 16:18:03,983 - moleculekit.molecule - WARNING - Different timesteps in Molecule.time for file /Users/toni/work/sh2-reconstructed/traj/s0r94/s0r94.xtc. Cannot calculate fstep.\n",
      "2023-06-27 16:18:04,057 - moleculekit.molecule - WARNING - Different timesteps in Molecule.time for file /Users/toni/work/sh2-reconstructed/traj/s0r95/s0r95.xtc. Cannot calculate fstep.\n",
      "Projecting trajectories:  12%|████████▊                                                                 | 92/772 [00:07<00:51, 13.10it/s]2023-06-27 16:18:04,130 - moleculekit.molecule - WARNING - Different timesteps in Molecule.time for file /Users/toni/work/sh2-reconstructed/traj/s0r96/s0r96.xtc. Cannot calculate fstep.\n",
      "2023-06-27 16:18:04,204 - moleculekit.molecule - WARNING - Different timesteps in Molecule.time for file /Users/toni/work/sh2-reconstructed/traj/s0r97/s0r97.xtc. Cannot calculate fstep.\n",
      "Projecting trajectories:  12%|█████████                                                                 | 94/772 [00:07<00:51, 13.24it/s]2023-06-27 16:18:04,281 - moleculekit.molecule - WARNING - Different timesteps in Molecule.time for file /Users/toni/work/sh2-reconstructed/traj/s0r98/s0r98.xtc. Cannot calculate fstep.\n",
      "2023-06-27 16:18:04,361 - moleculekit.molecule - WARNING - Different timesteps in Molecule.time for file /Users/toni/work/sh2-reconstructed/traj/s0r99/s0r99.xtc. Cannot calculate fstep.\n",
      "Projecting trajectories:  12%|█████████▏                                                                | 96/772 [00:07<00:51, 13.09it/s]2023-06-27 16:18:04,440 - moleculekit.molecule - WARNING - Different timesteps in Molecule.time for file /Users/toni/work/sh2-reconstructed/traj/s0r100/s0r100.xtc. Cannot calculate fstep.\n",
      "2023-06-27 16:18:04,516 - moleculekit.molecule - WARNING - Different timesteps in Molecule.time for file /Users/toni/work/sh2-reconstructed/traj/s0r101/s0r101.xtc. Cannot calculate fstep.\n",
      "Projecting trajectories:  13%|█████████▍                                                                | 98/772 [00:07<00:51, 13.04it/s]2023-06-27 16:18:04,585 - moleculekit.molecule - WARNING - Different timesteps in Molecule.time for file /Users/toni/work/sh2-reconstructed/traj/s0r102/s0r102.xtc. Cannot calculate fstep.\n",
      "2023-06-27 16:18:04,658 - moleculekit.molecule - WARNING - Different timesteps in Molecule.time for file /Users/toni/work/sh2-reconstructed/traj/s0r103/s0r103.xtc. Cannot calculate fstep.\n",
      "Projecting trajectories:  13%|█████████▍                                                               | 100/772 [00:07<00:50, 13.34it/s]2023-06-27 16:18:04,731 - moleculekit.molecule - WARNING - Different timesteps in Molecule.time for file /Users/toni/work/sh2-reconstructed/traj/s0r104/s0r104.xtc. Cannot calculate fstep.\n",
      "2023-06-27 16:18:04,804 - moleculekit.molecule - WARNING - Different timesteps in Molecule.time for file /Users/toni/work/sh2-reconstructed/traj/s0r105/s0r105.xtc. Cannot calculate fstep.\n",
      "Projecting trajectories:  13%|█████████▋                                                               | 102/772 [00:07<00:49, 13.44it/s]2023-06-27 16:18:04,877 - moleculekit.molecule - WARNING - Different timesteps in Molecule.time for file /Users/toni/work/sh2-reconstructed/traj/s0r106/s0r106.xtc. Cannot calculate fstep.\n",
      "2023-06-27 16:18:04,949 - moleculekit.molecule - WARNING - Different timesteps in Molecule.time for file /Users/toni/work/sh2-reconstructed/traj/s0r107/s0r107.xtc. Cannot calculate fstep.\n",
      "Projecting trajectories:  13%|█████████▊                                                               | 104/772 [00:07<00:49, 13.54it/s]2023-06-27 16:18:05,025 - moleculekit.molecule - WARNING - Different timesteps in Molecule.time for file /Users/toni/work/sh2-reconstructed/traj/s0r108/s0r108.xtc. Cannot calculate fstep.\n",
      "2023-06-27 16:18:05,106 - moleculekit.molecule - WARNING - Different timesteps in Molecule.time for file /Users/toni/work/sh2-reconstructed/traj/s0r109/s0r109.xtc. Cannot calculate fstep.\n",
      "Projecting trajectories:  14%|██████████                                                               | 106/772 [00:08<00:50, 13.29it/s]2023-06-27 16:18:05,187 - moleculekit.molecule - WARNING - Different timesteps in Molecule.time for file /Users/toni/work/sh2-reconstructed/traj/s0r110/s0r110.xtc. Cannot calculate fstep.\n",
      "2023-06-27 16:18:05,268 - moleculekit.molecule - WARNING - Different timesteps in Molecule.time for file /Users/toni/work/sh2-reconstructed/traj/s0r111/s0r111.xtc. Cannot calculate fstep.\n",
      "Projecting trajectories:  14%|██████████▏                                                              | 108/772 [00:08<00:51, 13.01it/s]2023-06-27 16:18:05,342 - moleculekit.molecule - WARNING - Different timesteps in Molecule.time for file /Users/toni/work/sh2-reconstructed/traj/s0r112/s0r112.xtc. Cannot calculate fstep.\n",
      "2023-06-27 16:18:05,417 - moleculekit.molecule - WARNING - Different timesteps in Molecule.time for file /Users/toni/work/sh2-reconstructed/traj/s0r113/s0r113.xtc. Cannot calculate fstep.\n",
      "Projecting trajectories:  14%|██████████▍                                                              | 110/772 [00:08<00:50, 13.13it/s]2023-06-27 16:18:05,491 - moleculekit.molecule - WARNING - Different timesteps in Molecule.time for file /Users/toni/work/sh2-reconstructed/traj/s0r114/s0r114.xtc. Cannot calculate fstep.\n",
      "2023-06-27 16:18:05,564 - moleculekit.molecule - WARNING - Different timesteps in Molecule.time for file /Users/toni/work/sh2-reconstructed/traj/s0r116/s0r116.xtc. Cannot calculate fstep.\n",
      "Projecting trajectories:  15%|██████████▌                                                              | 112/772 [00:08<00:49, 13.26it/s]2023-06-27 16:18:05,637 - moleculekit.molecule - WARNING - Different timesteps in Molecule.time for file /Users/toni/work/sh2-reconstructed/traj/s0r117/s0r117.xtc. Cannot calculate fstep.\n",
      "2023-06-27 16:18:05,710 - moleculekit.molecule - WARNING - Different timesteps in Molecule.time for file /Users/toni/work/sh2-reconstructed/traj/s0r118/s0r118.xtc. Cannot calculate fstep.\n",
      "Projecting trajectories:  15%|██████████▊                                                              | 114/772 [00:08<00:49, 13.39it/s]2023-06-27 16:18:05,783 - moleculekit.molecule - WARNING - Different timesteps in Molecule.time for file /Users/toni/work/sh2-reconstructed/traj/s0r119/s0r119.xtc. Cannot calculate fstep.\n",
      "2023-06-27 16:18:05,858 - moleculekit.molecule - WARNING - Different timesteps in Molecule.time for file /Users/toni/work/sh2-reconstructed/traj/s0r120/s0r120.xtc. Cannot calculate fstep.\n",
      "Projecting trajectories:  15%|██████████▉                                                              | 116/772 [00:08<00:48, 13.41it/s]2023-06-27 16:18:05,939 - moleculekit.molecule - WARNING - Different timesteps in Molecule.time for file /Users/toni/work/sh2-reconstructed/traj/s0r121/s0r121.xtc. Cannot calculate fstep.\n",
      "2023-06-27 16:18:06,019 - moleculekit.molecule - WARNING - Different timesteps in Molecule.time for file /Users/toni/work/sh2-reconstructed/traj/s0r122/s0r122.xtc. Cannot calculate fstep.\n",
      "Projecting trajectories:  15%|███████████▏                                                             | 118/772 [00:08<00:49, 13.12it/s]2023-06-27 16:18:06,094 - moleculekit.molecule - WARNING - Different timesteps in Molecule.time for file /Users/toni/work/sh2-reconstructed/traj/s0r123/s0r123.xtc. Cannot calculate fstep.\n",
      "2023-06-27 16:18:06,167 - moleculekit.molecule - WARNING - Different timesteps in Molecule.time for file /Users/toni/work/sh2-reconstructed/traj/s0r124/s0r124.xtc. Cannot calculate fstep.\n",
      "Projecting trajectories:  16%|███████████▎                                                             | 120/772 [00:09<00:49, 13.22it/s]2023-06-27 16:18:06,240 - moleculekit.molecule - WARNING - Different timesteps in Molecule.time for file /Users/toni/work/sh2-reconstructed/traj/s0r125/s0r125.xtc. Cannot calculate fstep.\n",
      "2023-06-27 16:18:06,272 - moleculekit.molecule - WARNING - Different timesteps in Molecule.time for file /Users/toni/work/sh2-reconstructed/traj/s0r127/s0r127.xtc. Cannot calculate fstep.\n",
      "Projecting trajectories:  16%|███████████▌                                                             | 122/772 [00:09<00:44, 14.55it/s]2023-06-27 16:18:06,349 - moleculekit.molecule - WARNING - Different timesteps in Molecule.time for file /Users/toni/work/sh2-reconstructed/traj/s0r128/s0r128.xtc. Cannot calculate fstep.\n",
      "2023-06-27 16:18:06,422 - moleculekit.molecule - WARNING - Different timesteps in Molecule.time for file /Users/toni/work/sh2-reconstructed/traj/s0r129/s0r129.xtc. Cannot calculate fstep.\n",
      "Projecting trajectories:  16%|███████████▋                                                             | 124/772 [00:09<00:45, 14.17it/s]2023-06-27 16:18:06,496 - moleculekit.molecule - WARNING - Different timesteps in Molecule.time for file /Users/toni/work/sh2-reconstructed/traj/s0r130/s0r130.xtc. Cannot calculate fstep.\n",
      "2023-06-27 16:18:06,568 - moleculekit.molecule - WARNING - Different timesteps in Molecule.time for file /Users/toni/work/sh2-reconstructed/traj/s0r131/s0r131.xtc. Cannot calculate fstep.\n",
      "Projecting trajectories:  16%|███████████▉                                                             | 126/772 [00:09<00:46, 14.02it/s]2023-06-27 16:18:06,648 - moleculekit.molecule - WARNING - Different timesteps in Molecule.time for file /Users/toni/work/sh2-reconstructed/traj/s0r132/s0r132.xtc. Cannot calculate fstep.\n",
      "2023-06-27 16:18:06,721 - moleculekit.molecule - WARNING - Different timesteps in Molecule.time for file /Users/toni/work/sh2-reconstructed/traj/s0r133/s0r133.xtc. Cannot calculate fstep.\n"
     ]
    },
    {
     "name": "stderr",
     "output_type": "stream",
     "text": [
      "Projecting trajectories:  17%|████████████                                                             | 128/772 [00:09<00:46, 13.72it/s]2023-06-27 16:18:06,801 - moleculekit.molecule - WARNING - Different timesteps in Molecule.time for file /Users/toni/work/sh2-reconstructed/traj/s0r134/s0r134.xtc. Cannot calculate fstep.\n",
      "2023-06-27 16:18:06,874 - moleculekit.molecule - WARNING - Different timesteps in Molecule.time for file /Users/toni/work/sh2-reconstructed/traj/s0r135/s0r135.xtc. Cannot calculate fstep.\n",
      "Projecting trajectories:  17%|████████████▎                                                            | 130/772 [00:09<00:47, 13.54it/s]2023-06-27 16:18:06,946 - moleculekit.molecule - WARNING - Different timesteps in Molecule.time for file /Users/toni/work/sh2-reconstructed/traj/s0r136/s0r136.xtc. Cannot calculate fstep.\n",
      "2023-06-27 16:18:07,018 - moleculekit.molecule - WARNING - Different timesteps in Molecule.time for file /Users/toni/work/sh2-reconstructed/traj/s0r137/s0r137.xtc. Cannot calculate fstep.\n",
      "Projecting trajectories:  17%|████████████▍                                                            | 132/772 [00:09<00:46, 13.62it/s]2023-06-27 16:18:07,083 - moleculekit.molecule - WARNING - Different timesteps in Molecule.time for file /Users/toni/work/sh2-reconstructed/traj/s0r138/s0r138.xtc. Cannot calculate fstep.\n",
      "2023-06-27 16:18:07,156 - moleculekit.molecule - WARNING - Different timesteps in Molecule.time for file /Users/toni/work/sh2-reconstructed/traj/s0r139/s0r139.xtc. Cannot calculate fstep.\n",
      "Projecting trajectories:  17%|████████████▋                                                            | 134/772 [00:10<00:45, 13.89it/s]2023-06-27 16:18:07,229 - moleculekit.molecule - WARNING - Different timesteps in Molecule.time for file /Users/toni/work/sh2-reconstructed/traj/s0r140/s0r140.xtc. Cannot calculate fstep.\n",
      "2023-06-27 16:18:07,303 - moleculekit.molecule - WARNING - Different timesteps in Molecule.time for file /Users/toni/work/sh2-reconstructed/traj/s0r141/s0r141.xtc. Cannot calculate fstep.\n",
      "Projecting trajectories:  18%|████████████▊                                                            | 136/772 [00:10<00:46, 13.80it/s]2023-06-27 16:18:07,380 - moleculekit.molecule - WARNING - Different timesteps in Molecule.time for file /Users/toni/work/sh2-reconstructed/traj/s0r142/s0r142.xtc. Cannot calculate fstep.\n",
      "2023-06-27 16:18:07,460 - moleculekit.molecule - WARNING - Different timesteps in Molecule.time for file /Users/toni/work/sh2-reconstructed/traj/s0r143/s0r143.xtc. Cannot calculate fstep.\n",
      "Projecting trajectories:  18%|█████████████                                                            | 138/772 [00:10<00:47, 13.47it/s]2023-06-27 16:18:07,540 - moleculekit.molecule - WARNING - Different timesteps in Molecule.time for file /Users/toni/work/sh2-reconstructed/traj/s0r144/s0r144.xtc. Cannot calculate fstep.\n",
      "2023-06-27 16:18:07,557 - moleculekit.molecule - WARNING - Different timesteps in Molecule.time for file /Users/toni/work/sh2-reconstructed/traj/s0r145/s0r145.xtc. Cannot calculate fstep.\n",
      "2023-06-27 16:18:07,631 - moleculekit.molecule - WARNING - Different timesteps in Molecule.time for file /Users/toni/work/sh2-reconstructed/traj/s0r146/s0r146.xtc. Cannot calculate fstep.\n",
      "Projecting trajectories:  18%|█████████████▎                                                           | 141/772 [00:10<00:42, 14.80it/s]2023-06-27 16:18:07,705 - moleculekit.molecule - WARNING - Different timesteps in Molecule.time for file /Users/toni/work/sh2-reconstructed/traj/s0r147/s0r147.xtc. Cannot calculate fstep.\n",
      "2023-06-27 16:18:07,777 - moleculekit.molecule - WARNING - Different timesteps in Molecule.time for file /Users/toni/work/sh2-reconstructed/traj/s0r148/s0r148.xtc. Cannot calculate fstep.\n",
      "Projecting trajectories:  19%|█████████████▌                                                           | 143/772 [00:10<00:43, 14.49it/s]2023-06-27 16:18:07,850 - moleculekit.molecule - WARNING - Different timesteps in Molecule.time for file /Users/toni/work/sh2-reconstructed/traj/s0r149/s0r149.xtc. Cannot calculate fstep.\n",
      "2023-06-27 16:18:07,879 - moleculekit.molecule - WARNING - Different timesteps in Molecule.time for file /Users/toni/work/sh2-reconstructed/traj/s0r150/s0r150.xtc. Cannot calculate fstep.\n",
      "Projecting trajectories:  19%|█████████████▋                                                           | 145/772 [00:10<00:40, 15.62it/s]2023-06-27 16:18:07,953 - moleculekit.molecule - WARNING - Different timesteps in Molecule.time for file /Users/toni/work/sh2-reconstructed/traj/s0r151/s0r151.xtc. Cannot calculate fstep.\n",
      "2023-06-27 16:18:08,027 - moleculekit.molecule - WARNING - Different timesteps in Molecule.time for file /Users/toni/work/sh2-reconstructed/traj/s0r152/s0r152.xtc. Cannot calculate fstep.\n",
      "Projecting trajectories:  19%|█████████████▉                                                           | 147/772 [00:10<00:41, 14.98it/s]2023-06-27 16:18:08,100 - moleculekit.molecule - WARNING - Different timesteps in Molecule.time for file /Users/toni/work/sh2-reconstructed/traj/s0r153/s0r153.xtc. Cannot calculate fstep.\n",
      "2023-06-27 16:18:08,176 - moleculekit.molecule - WARNING - Different timesteps in Molecule.time for file /Users/toni/work/sh2-reconstructed/traj/s0r154/s0r154.xtc. Cannot calculate fstep.\n",
      "Projecting trajectories:  19%|██████████████                                                           | 149/772 [00:11<00:43, 14.49it/s]2023-06-27 16:18:08,257 - moleculekit.molecule - WARNING - Different timesteps in Molecule.time for file /Users/toni/work/sh2-reconstructed/traj/s0r155/s0r155.xtc. Cannot calculate fstep.\n",
      "2023-06-27 16:18:08,337 - moleculekit.molecule - WARNING - Different timesteps in Molecule.time for file /Users/toni/work/sh2-reconstructed/traj/s0r156/s0r156.xtc. Cannot calculate fstep.\n",
      "Projecting trajectories:  20%|██████████████▎                                                          | 151/772 [00:11<00:44, 13.80it/s]2023-06-27 16:18:08,410 - moleculekit.molecule - WARNING - Different timesteps in Molecule.time for file /Users/toni/work/sh2-reconstructed/traj/s0r157/s0r157.xtc. Cannot calculate fstep.\n",
      "2023-06-27 16:18:08,482 - moleculekit.molecule - WARNING - Different timesteps in Molecule.time for file /Users/toni/work/sh2-reconstructed/traj/s0r158/s0r158.xtc. Cannot calculate fstep.\n",
      "Projecting trajectories:  20%|██████████████▍                                                          | 153/772 [00:11<00:44, 13.80it/s]2023-06-27 16:18:08,555 - moleculekit.molecule - WARNING - Different timesteps in Molecule.time for file /Users/toni/work/sh2-reconstructed/traj/s0r159/s0r159.xtc. Cannot calculate fstep.\n",
      "2023-06-27 16:18:08,628 - moleculekit.molecule - WARNING - Different timesteps in Molecule.time for file /Users/toni/work/sh2-reconstructed/traj/s0r160/s0r160.xtc. Cannot calculate fstep.\n",
      "Projecting trajectories:  20%|██████████████▋                                                          | 155/772 [00:11<00:44, 13.77it/s]2023-06-27 16:18:08,702 - moleculekit.molecule - WARNING - Different timesteps in Molecule.time for file /Users/toni/work/sh2-reconstructed/traj/s0r161/s0r161.xtc. Cannot calculate fstep.\n",
      "2023-06-27 16:18:08,774 - moleculekit.molecule - WARNING - Different timesteps in Molecule.time for file /Users/toni/work/sh2-reconstructed/traj/s0r162/s0r162.xtc. Cannot calculate fstep.\n",
      "Projecting trajectories:  20%|██████████████▊                                                          | 157/772 [00:11<00:44, 13.75it/s]2023-06-27 16:18:08,847 - moleculekit.molecule - WARNING - Different timesteps in Molecule.time for file /Users/toni/work/sh2-reconstructed/traj/s0r163/s0r163.xtc. Cannot calculate fstep.\n",
      "2023-06-27 16:18:08,923 - moleculekit.molecule - WARNING - Different timesteps in Molecule.time for file /Users/toni/work/sh2-reconstructed/traj/s0r164/s0r164.xtc. Cannot calculate fstep.\n",
      "Projecting trajectories:  21%|███████████████                                                          | 159/772 [00:11<00:44, 13.67it/s]2023-06-27 16:18:08,998 - moleculekit.molecule - WARNING - Different timesteps in Molecule.time for file /Users/toni/work/sh2-reconstructed/traj/s0r165/s0r165.xtc. Cannot calculate fstep.\n"
     ]
    },
    {
     "name": "stderr",
     "output_type": "stream",
     "text": [
      "2023-06-27 16:18:09,078 - moleculekit.molecule - WARNING - Different timesteps in Molecule.time for file /Users/toni/work/sh2-reconstructed/traj/s0r166/s0r166.xtc. Cannot calculate fstep.\n",
      "Projecting trajectories:  21%|███████████████▏                                                         | 161/772 [00:12<00:45, 13.42it/s]2023-06-27 16:18:09,153 - moleculekit.molecule - WARNING - Different timesteps in Molecule.time for file /Users/toni/work/sh2-reconstructed/traj/s0r167/s0r167.xtc. Cannot calculate fstep.\n",
      "2023-06-27 16:18:09,225 - moleculekit.molecule - WARNING - Different timesteps in Molecule.time for file /Users/toni/work/sh2-reconstructed/traj/s0r168/s0r168.xtc. Cannot calculate fstep.\n",
      "Projecting trajectories:  21%|███████████████▍                                                         | 163/772 [00:12<00:45, 13.46it/s]2023-06-27 16:18:09,298 - moleculekit.molecule - WARNING - Different timesteps in Molecule.time for file /Users/toni/work/sh2-reconstructed/traj/s0r169/s0r169.xtc. Cannot calculate fstep.\n",
      "2023-06-27 16:18:09,356 - moleculekit.molecule - WARNING - Different timesteps in Molecule.time for file /Users/toni/work/sh2-reconstructed/traj/s0r170/s0r170.xtc. Cannot calculate fstep.\n",
      "Projecting trajectories:  21%|███████████████▌                                                         | 165/772 [00:12<00:43, 13.97it/s]2023-06-27 16:18:09,429 - moleculekit.molecule - WARNING - Different timesteps in Molecule.time for file /Users/toni/work/sh2-reconstructed/traj/s0r171/s0r171.xtc. Cannot calculate fstep.\n",
      "2023-06-27 16:18:09,501 - moleculekit.molecule - WARNING - Different timesteps in Molecule.time for file /Users/toni/work/sh2-reconstructed/traj/s0r172/s0r172.xtc. Cannot calculate fstep.\n",
      "Projecting trajectories:  22%|███████████████▊                                                         | 167/772 [00:12<00:43, 13.92it/s]2023-06-27 16:18:09,574 - moleculekit.molecule - WARNING - Different timesteps in Molecule.time for file /Users/toni/work/sh2-reconstructed/traj/s0r173/s0r173.xtc. Cannot calculate fstep.\n",
      "2023-06-27 16:18:09,650 - moleculekit.molecule - WARNING - Different timesteps in Molecule.time for file /Users/toni/work/sh2-reconstructed/traj/s0r174/s0r174.xtc. Cannot calculate fstep.\n",
      "Projecting trajectories:  22%|███████████████▉                                                         | 169/772 [00:12<00:43, 13.77it/s]2023-06-27 16:18:09,729 - moleculekit.molecule - WARNING - Different timesteps in Molecule.time for file /Users/toni/work/sh2-reconstructed/traj/s0r175/s0r175.xtc. Cannot calculate fstep.\n",
      "2023-06-27 16:18:09,809 - moleculekit.molecule - WARNING - Different timesteps in Molecule.time for file /Users/toni/work/sh2-reconstructed/traj/s0r176/s0r176.xtc. Cannot calculate fstep.\n",
      "Projecting trajectories:  22%|████████████████▏                                                        | 171/772 [00:12<00:44, 13.39it/s]2023-06-27 16:18:09,892 - moleculekit.molecule - WARNING - Different timesteps in Molecule.time for file /Users/toni/work/sh2-reconstructed/traj/s0r177/s0r177.xtc. Cannot calculate fstep.\n",
      "2023-06-27 16:18:09,967 - moleculekit.molecule - WARNING - Different timesteps in Molecule.time for file /Users/toni/work/sh2-reconstructed/traj/s0r178/s0r178.xtc. Cannot calculate fstep.\n",
      "Projecting trajectories:  22%|████████████████▎                                                        | 173/772 [00:12<00:45, 13.15it/s]2023-06-27 16:18:10,043 - moleculekit.molecule - WARNING - Different timesteps in Molecule.time for file /Users/toni/work/sh2-reconstructed/traj/s0r179/s0r179.xtc. Cannot calculate fstep.\n",
      "2023-06-27 16:18:10,116 - moleculekit.molecule - WARNING - Different timesteps in Molecule.time for file /Users/toni/work/sh2-reconstructed/traj/s0r180/s0r180.xtc. Cannot calculate fstep.\n",
      "Projecting trajectories:  23%|████████████████▌                                                        | 175/772 [00:13<00:45, 13.24it/s]2023-06-27 16:18:10,169 - moleculekit.molecule - WARNING - Different timesteps in Molecule.time for file /Users/toni/work/sh2-reconstructed/traj/s0r181/s0r181.xtc. Cannot calculate fstep.\n",
      "2023-06-27 16:18:10,242 - moleculekit.molecule - WARNING - Different timesteps in Molecule.time for file /Users/toni/work/sh2-reconstructed/traj/s0r182/s0r182.xtc. Cannot calculate fstep.\n",
      "Projecting trajectories:  23%|████████████████▋                                                        | 177/772 [00:13<00:42, 13.92it/s]2023-06-27 16:18:10,315 - moleculekit.molecule - WARNING - Different timesteps in Molecule.time for file /Users/toni/work/sh2-reconstructed/traj/s0r183/s0r183.xtc. Cannot calculate fstep.\n",
      "2023-06-27 16:18:10,387 - moleculekit.molecule - WARNING - Different timesteps in Molecule.time for file /Users/toni/work/sh2-reconstructed/traj/s0r184/s0r184.xtc. Cannot calculate fstep.\n",
      "Projecting trajectories:  23%|████████████████▉                                                        | 179/772 [00:13<00:42, 13.88it/s]2023-06-27 16:18:10,464 - moleculekit.molecule - WARNING - Different timesteps in Molecule.time for file /Users/toni/work/sh2-reconstructed/traj/s0r185/s0r185.xtc. Cannot calculate fstep.\n",
      "2023-06-27 16:18:10,543 - moleculekit.molecule - WARNING - Different timesteps in Molecule.time for file /Users/toni/work/sh2-reconstructed/traj/s0r186/s0r186.xtc. Cannot calculate fstep.\n",
      "Projecting trajectories:  23%|█████████████████                                                        | 181/772 [00:13<00:43, 13.57it/s]2023-06-27 16:18:10,623 - moleculekit.molecule - WARNING - Different timesteps in Molecule.time for file /Users/toni/work/sh2-reconstructed/traj/s0r187/s0r187.xtc. Cannot calculate fstep.\n",
      "2023-06-27 16:18:10,703 - moleculekit.molecule - WARNING - Different timesteps in Molecule.time for file /Users/toni/work/sh2-reconstructed/traj/s0r188/s0r188.xtc. Cannot calculate fstep.\n",
      "Projecting trajectories:  24%|█████████████████▎                                                       | 183/772 [00:13<00:44, 13.21it/s]2023-06-27 16:18:10,779 - moleculekit.molecule - WARNING - Different timesteps in Molecule.time for file /Users/toni/work/sh2-reconstructed/traj/s0r189/s0r189.xtc. Cannot calculate fstep.\n",
      "2023-06-27 16:18:10,853 - moleculekit.molecule - WARNING - Different timesteps in Molecule.time for file /Users/toni/work/sh2-reconstructed/traj/s0r190/s0r190.xtc. Cannot calculate fstep.\n",
      "Projecting trajectories:  24%|█████████████████▍                                                       | 185/772 [00:13<00:44, 13.26it/s]2023-06-27 16:18:10,925 - moleculekit.molecule - WARNING - Different timesteps in Molecule.time for file /Users/toni/work/sh2-reconstructed/traj/s0r191/s0r191.xtc. Cannot calculate fstep.\n",
      "2023-06-27 16:18:10,998 - moleculekit.molecule - WARNING - Different timesteps in Molecule.time for file /Users/toni/work/sh2-reconstructed/traj/s0r192/s0r192.xtc. Cannot calculate fstep.\n",
      "Projecting trajectories:  24%|█████████████████▋                                                       | 187/772 [00:13<00:43, 13.41it/s]2023-06-27 16:18:11,071 - moleculekit.molecule - WARNING - Different timesteps in Molecule.time for file /Users/toni/work/sh2-reconstructed/traj/s0r193/s0r193.xtc. Cannot calculate fstep.\n",
      "2023-06-27 16:18:11,143 - moleculekit.molecule - WARNING - Different timesteps in Molecule.time for file /Users/toni/work/sh2-reconstructed/traj/s0r194/s0r194.xtc. Cannot calculate fstep.\n",
      "Projecting trajectories:  24%|█████████████████▊                                                       | 189/772 [00:14<00:43, 13.51it/s]2023-06-27 16:18:11,217 - moleculekit.molecule - WARNING - Different timesteps in Molecule.time for file /Users/toni/work/sh2-reconstructed/traj/s0r196/s0r196.xtc. Cannot calculate fstep.\n",
      "2023-06-27 16:18:11,293 - moleculekit.molecule - WARNING - Different timesteps in Molecule.time for file /Users/toni/work/sh2-reconstructed/traj/s0r197/s0r197.xtc. Cannot calculate fstep.\n",
      "Projecting trajectories:  25%|██████████████████                                                       | 191/772 [00:14<00:43, 13.46it/s]2023-06-27 16:18:11,374 - moleculekit.molecule - WARNING - Different timesteps in Molecule.time for file /Users/toni/work/sh2-reconstructed/traj/s0r198/s0r198.xtc. Cannot calculate fstep.\n"
     ]
    },
    {
     "name": "stderr",
     "output_type": "stream",
     "text": [
      "2023-06-27 16:18:11,454 - moleculekit.molecule - WARNING - Different timesteps in Molecule.time for file /Users/toni/work/sh2-reconstructed/traj/s0r199/s0r199.xtc. Cannot calculate fstep.\n",
      "Projecting trajectories:  25%|██████████████████▎                                                      | 193/772 [00:14<00:44, 13.14it/s]2023-06-27 16:18:11,531 - moleculekit.molecule - WARNING - Different timesteps in Molecule.time for file /Users/toni/work/sh2-reconstructed/traj/s0r200/s0r200.xtc. Cannot calculate fstep.\n",
      "2023-06-27 16:18:11,604 - moleculekit.molecule - WARNING - Different timesteps in Molecule.time for file /Users/toni/work/sh2-reconstructed/traj/s0r201/s0r201.xtc. Cannot calculate fstep.\n",
      "Projecting trajectories:  25%|██████████████████▍                                                      | 195/772 [00:14<00:43, 13.21it/s]2023-06-27 16:18:11,677 - moleculekit.molecule - WARNING - Different timesteps in Molecule.time for file /Users/toni/work/sh2-reconstructed/traj/s0r202/s0r202.xtc. Cannot calculate fstep.\n",
      "2023-06-27 16:18:11,751 - moleculekit.molecule - WARNING - Different timesteps in Molecule.time for file /Users/toni/work/sh2-reconstructed/traj/s0r203/s0r203.xtc. Cannot calculate fstep.\n",
      "Projecting trajectories:  26%|██████████████████▋                                                      | 197/772 [00:14<00:43, 13.32it/s]2023-06-27 16:18:11,824 - moleculekit.molecule - WARNING - Different timesteps in Molecule.time for file /Users/toni/work/sh2-reconstructed/traj/s0r204/s0r204.xtc. Cannot calculate fstep.\n",
      "2023-06-27 16:18:11,897 - moleculekit.molecule - WARNING - Different timesteps in Molecule.time for file /Users/toni/work/sh2-reconstructed/traj/s0r205/s0r205.xtc. Cannot calculate fstep.\n",
      "Projecting trajectories:  26%|██████████████████▊                                                      | 199/772 [00:14<00:42, 13.43it/s]2023-06-27 16:18:11,970 - moleculekit.molecule - WARNING - Different timesteps in Molecule.time for file /Users/toni/work/sh2-reconstructed/traj/s0r206/s0r206.xtc. Cannot calculate fstep.\n",
      "2023-06-27 16:18:12,046 - moleculekit.molecule - WARNING - Different timesteps in Molecule.time for file /Users/toni/work/sh2-reconstructed/traj/s0r207/s0r207.xtc. Cannot calculate fstep.\n",
      "Projecting trajectories:  26%|███████████████████                                                      | 201/772 [00:15<00:42, 13.43it/s]2023-06-27 16:18:12,126 - moleculekit.molecule - WARNING - Different timesteps in Molecule.time for file /Users/toni/work/sh2-reconstructed/traj/s0r208/s0r208.xtc. Cannot calculate fstep.\n",
      "2023-06-27 16:18:12,147 - moleculekit.molecule - WARNING - Different timesteps in Molecule.time for file /Users/toni/work/sh2-reconstructed/traj/s0r209/s0r209.xtc. Cannot calculate fstep.\n",
      "Projecting trajectories:  26%|███████████████████▏                                                     | 203/772 [00:15<00:38, 14.87it/s]2023-06-27 16:18:12,227 - moleculekit.molecule - WARNING - Different timesteps in Molecule.time for file /Users/toni/work/sh2-reconstructed/traj/s0r210/s0r210.xtc. Cannot calculate fstep.\n",
      "2023-06-27 16:18:12,301 - moleculekit.molecule - WARNING - Different timesteps in Molecule.time for file /Users/toni/work/sh2-reconstructed/traj/s0r211/s0r211.xtc. Cannot calculate fstep.\n",
      "Projecting trajectories:  27%|███████████████████▍                                                     | 205/772 [00:15<00:39, 14.25it/s]2023-06-27 16:18:12,373 - moleculekit.molecule - WARNING - Different timesteps in Molecule.time for file /Users/toni/work/sh2-reconstructed/traj/s0r212/s0r212.xtc. Cannot calculate fstep.\n",
      "2023-06-27 16:18:12,446 - moleculekit.molecule - WARNING - Different timesteps in Molecule.time for file /Users/toni/work/sh2-reconstructed/traj/s0r213/s0r213.xtc. Cannot calculate fstep.\n",
      "Projecting trajectories:  27%|███████████████████▌                                                     | 207/772 [00:15<00:40, 14.09it/s]2023-06-27 16:18:12,520 - moleculekit.molecule - WARNING - Different timesteps in Molecule.time for file /Users/toni/work/sh2-reconstructed/traj/s0r214/s0r214.xtc. Cannot calculate fstep.\n",
      "2023-06-27 16:18:12,594 - moleculekit.molecule - WARNING - Different timesteps in Molecule.time for file /Users/toni/work/sh2-reconstructed/traj/s0r215/s0r215.xtc. Cannot calculate fstep.\n",
      "Projecting trajectories:  27%|███████████████████▊                                                     | 209/772 [00:15<00:40, 13.91it/s]2023-06-27 16:18:12,667 - moleculekit.molecule - WARNING - Different timesteps in Molecule.time for file /Users/toni/work/sh2-reconstructed/traj/s0r217/s0r217.xtc. Cannot calculate fstep.\n",
      "2023-06-27 16:18:12,740 - moleculekit.molecule - WARNING - Different timesteps in Molecule.time for file /Users/toni/work/sh2-reconstructed/traj/s0r218/s0r218.xtc. Cannot calculate fstep.\n",
      "Projecting trajectories:  27%|███████████████████▉                                                     | 211/772 [00:15<00:40, 13.85it/s]2023-06-27 16:18:12,836 - moleculekit.molecule - WARNING - Different timesteps in Molecule.time for file /Users/toni/work/sh2-reconstructed/traj/s0r219/s0r219.xtc. Cannot calculate fstep.\n",
      "2023-06-27 16:18:12,925 - moleculekit.molecule - WARNING - Different timesteps in Molecule.time for file /Users/toni/work/sh2-reconstructed/traj/s0r220/s0r220.xtc. Cannot calculate fstep.\n",
      "Projecting trajectories:  28%|████████████████████▏                                                    | 213/772 [00:15<00:43, 12.79it/s]2023-06-27 16:18:13,001 - moleculekit.molecule - WARNING - Different timesteps in Molecule.time for file /Users/toni/work/sh2-reconstructed/traj/s0r221/s0r221.xtc. Cannot calculate fstep.\n",
      "2023-06-27 16:18:13,077 - moleculekit.molecule - WARNING - Different timesteps in Molecule.time for file /Users/toni/work/sh2-reconstructed/traj/s0r222/s0r222.xtc. Cannot calculate fstep.\n",
      "Projecting trajectories:  28%|████████████████████▎                                                    | 215/772 [00:16<00:43, 12.89it/s]2023-06-27 16:18:13,149 - moleculekit.molecule - WARNING - Different timesteps in Molecule.time for file /Users/toni/work/sh2-reconstructed/traj/s0r223/s0r223.xtc. Cannot calculate fstep.\n",
      "2023-06-27 16:18:13,222 - moleculekit.molecule - WARNING - Different timesteps in Molecule.time for file /Users/toni/work/sh2-reconstructed/traj/s0r224/s0r224.xtc. Cannot calculate fstep.\n",
      "Projecting trajectories:  28%|████████████████████▌                                                    | 217/772 [00:16<00:42, 13.16it/s]2023-06-27 16:18:13,297 - moleculekit.molecule - WARNING - Different timesteps in Molecule.time for file /Users/toni/work/sh2-reconstructed/traj/s0r225/s0r225.xtc. Cannot calculate fstep.\n",
      "2023-06-27 16:18:13,370 - moleculekit.molecule - WARNING - Different timesteps in Molecule.time for file /Users/toni/work/sh2-reconstructed/traj/s0r226/s0r226.xtc. Cannot calculate fstep.\n",
      "Projecting trajectories:  28%|████████████████████▋                                                    | 219/772 [00:16<00:41, 13.25it/s]2023-06-27 16:18:13,404 - moleculekit.molecule - WARNING - Different timesteps in Molecule.time for file /Users/toni/work/sh2-reconstructed/traj/s0r227/s0r227.xtc. Cannot calculate fstep.\n",
      "2023-06-27 16:18:13,477 - moleculekit.molecule - WARNING - Different timesteps in Molecule.time for file /Users/toni/work/sh2-reconstructed/traj/s0r228/s0r228.xtc. Cannot calculate fstep.\n",
      "Projecting trajectories:  29%|████████████████████▉                                                    | 221/772 [00:16<00:37, 14.53it/s]2023-06-27 16:18:13,552 - moleculekit.molecule - WARNING - Different timesteps in Molecule.time for file /Users/toni/work/sh2-reconstructed/traj/s0r229/s0r229.xtc. Cannot calculate fstep.\n",
      "2023-06-27 16:18:13,632 - moleculekit.molecule - WARNING - Different timesteps in Molecule.time for file /Users/toni/work/sh2-reconstructed/traj/s0r230/s0r230.xtc. Cannot calculate fstep.\n",
      "Projecting trajectories:  29%|█████████████████████                                                    | 223/772 [00:16<00:39, 13.99it/s]2023-06-27 16:18:13,713 - moleculekit.molecule - WARNING - Different timesteps in Molecule.time for file /Users/toni/work/sh2-reconstructed/traj/s0r231/s0r231.xtc. Cannot calculate fstep.\n"
     ]
    },
    {
     "name": "stderr",
     "output_type": "stream",
     "text": [
      "2023-06-27 16:18:13,795 - moleculekit.molecule - WARNING - Different timesteps in Molecule.time for file /Users/toni/work/sh2-reconstructed/traj/s0r232/s0r232.xtc. Cannot calculate fstep.\n",
      "Projecting trajectories:  29%|█████████████████████▎                                                   | 225/772 [00:16<00:40, 13.43it/s]2023-06-27 16:18:13,856 - moleculekit.molecule - WARNING - Different timesteps in Molecule.time for file /Users/toni/work/sh2-reconstructed/traj/s0r233/s0r233.xtc. Cannot calculate fstep.\n",
      "2023-06-27 16:18:13,928 - moleculekit.molecule - WARNING - Different timesteps in Molecule.time for file /Users/toni/work/sh2-reconstructed/traj/s0r234/s0r234.xtc. Cannot calculate fstep.\n",
      "Projecting trajectories:  29%|█████████████████████▍                                                   | 227/772 [00:16<00:39, 13.87it/s]2023-06-27 16:18:14,001 - moleculekit.molecule - WARNING - Different timesteps in Molecule.time for file /Users/toni/work/sh2-reconstructed/traj/s0r235/s0r235.xtc. Cannot calculate fstep.\n",
      "2023-06-27 16:18:14,062 - moleculekit.molecule - WARNING - Different timesteps in Molecule.time for file /Users/toni/work/sh2-reconstructed/traj/s0r236/s0r236.xtc. Cannot calculate fstep.\n",
      "Projecting trajectories:  30%|█████████████████████▋                                                   | 229/772 [00:17<00:38, 14.16it/s]2023-06-27 16:18:14,135 - moleculekit.molecule - WARNING - Different timesteps in Molecule.time for file /Users/toni/work/sh2-reconstructed/traj/s0r237/s0r237.xtc. Cannot calculate fstep.\n",
      "2023-06-27 16:18:14,207 - moleculekit.molecule - WARNING - Different timesteps in Molecule.time for file /Users/toni/work/sh2-reconstructed/traj/s0r238/s0r238.xtc. Cannot calculate fstep.\n",
      "Projecting trajectories:  30%|█████████████████████▊                                                   | 231/772 [00:17<00:38, 14.05it/s]2023-06-27 16:18:14,281 - moleculekit.molecule - WARNING - Different timesteps in Molecule.time for file /Users/toni/work/sh2-reconstructed/traj/s0r239/s0r239.xtc. Cannot calculate fstep.\n",
      "2023-06-27 16:18:14,357 - moleculekit.molecule - WARNING - Different timesteps in Molecule.time for file /Users/toni/work/sh2-reconstructed/traj/s0r240/s0r240.xtc. Cannot calculate fstep.\n",
      "Projecting trajectories:  30%|██████████████████████                                                   | 233/772 [00:17<00:38, 13.85it/s]2023-06-27 16:18:14,437 - moleculekit.molecule - WARNING - Different timesteps in Molecule.time for file /Users/toni/work/sh2-reconstructed/traj/s0r241/s0r241.xtc. Cannot calculate fstep.\n",
      "2023-06-27 16:18:14,517 - moleculekit.molecule - WARNING - Different timesteps in Molecule.time for file /Users/toni/work/sh2-reconstructed/traj/s0r242/s0r242.xtc. Cannot calculate fstep.\n",
      "Projecting trajectories:  30%|██████████████████████▏                                                  | 235/772 [00:17<00:40, 13.40it/s]2023-06-27 16:18:14,598 - moleculekit.molecule - WARNING - Different timesteps in Molecule.time for file /Users/toni/work/sh2-reconstructed/traj/s0r243/s0r243.xtc. Cannot calculate fstep.\n",
      "2023-06-27 16:18:14,664 - moleculekit.molecule - WARNING - Different timesteps in Molecule.time for file /Users/toni/work/sh2-reconstructed/traj/s0r244/s0r244.xtc. Cannot calculate fstep.\n",
      "Projecting trajectories:  31%|██████████████████████▍                                                  | 237/772 [00:17<00:39, 13.46it/s]2023-06-27 16:18:14,740 - moleculekit.molecule - WARNING - Different timesteps in Molecule.time for file /Users/toni/work/sh2-reconstructed/traj/s0r245/s0r245.xtc. Cannot calculate fstep.\n",
      "2023-06-27 16:18:14,813 - moleculekit.molecule - WARNING - Different timesteps in Molecule.time for file /Users/toni/work/sh2-reconstructed/traj/s0r246/s0r246.xtc. Cannot calculate fstep.\n",
      "Projecting trajectories:  31%|██████████████████████▌                                                  | 239/772 [00:17<00:39, 13.47it/s]2023-06-27 16:18:14,886 - moleculekit.molecule - WARNING - Different timesteps in Molecule.time for file /Users/toni/work/sh2-reconstructed/traj/s0r247/s0r247.xtc. Cannot calculate fstep.\n",
      "2023-06-27 16:18:14,958 - moleculekit.molecule - WARNING - Different timesteps in Molecule.time for file /Users/toni/work/sh2-reconstructed/traj/s0r248/s0r248.xtc. Cannot calculate fstep.\n",
      "Projecting trajectories:  31%|██████████████████████▊                                                  | 241/772 [00:17<00:39, 13.55it/s]2023-06-27 16:18:15,031 - moleculekit.molecule - WARNING - Different timesteps in Molecule.time for file /Users/toni/work/sh2-reconstructed/traj/s0r249/s0r249.xtc. Cannot calculate fstep.\n",
      "2023-06-27 16:18:15,104 - moleculekit.molecule - WARNING - Different timesteps in Molecule.time for file /Users/toni/work/sh2-reconstructed/traj/s0r250/s0r250.xtc. Cannot calculate fstep.\n",
      "Projecting trajectories:  31%|██████████████████████▉                                                  | 243/772 [00:18<00:38, 13.61it/s]2023-06-27 16:18:15,179 - moleculekit.molecule - WARNING - Different timesteps in Molecule.time for file /Users/toni/work/sh2-reconstructed/traj/s0r251/s0r251.xtc. Cannot calculate fstep.\n",
      "2023-06-27 16:18:15,259 - moleculekit.molecule - WARNING - Different timesteps in Molecule.time for file /Users/toni/work/sh2-reconstructed/traj/s0r252/s0r252.xtc. Cannot calculate fstep.\n",
      "Projecting trajectories:  32%|███████████████████████▏                                                 | 245/772 [00:18<00:39, 13.36it/s]2023-06-27 16:18:15,339 - moleculekit.molecule - WARNING - Different timesteps in Molecule.time for file /Users/toni/work/sh2-reconstructed/traj/s0r253/s0r253.xtc. Cannot calculate fstep.\n",
      "2023-06-27 16:18:15,415 - moleculekit.molecule - WARNING - Different timesteps in Molecule.time for file /Users/toni/work/sh2-reconstructed/traj/s0r254/s0r254.xtc. Cannot calculate fstep.\n",
      "Projecting trajectories:  32%|███████████████████████▎                                                 | 247/772 [00:18<00:39, 13.21it/s]2023-06-27 16:18:15,488 - moleculekit.molecule - WARNING - Different timesteps in Molecule.time for file /Users/toni/work/sh2-reconstructed/traj/s0r255/s0r255.xtc. Cannot calculate fstep.\n",
      "2023-06-27 16:18:15,561 - moleculekit.molecule - WARNING - Different timesteps in Molecule.time for file /Users/toni/work/sh2-reconstructed/traj/s0r256/s0r256.xtc. Cannot calculate fstep.\n",
      "Projecting trajectories:  32%|███████████████████████▌                                                 | 249/772 [00:18<00:39, 13.35it/s]2023-06-27 16:18:15,634 - moleculekit.molecule - WARNING - Different timesteps in Molecule.time for file /Users/toni/work/sh2-reconstructed/traj/s0r257/s0r257.xtc. Cannot calculate fstep.\n",
      "2023-06-27 16:18:15,707 - moleculekit.molecule - WARNING - Different timesteps in Molecule.time for file /Users/toni/work/sh2-reconstructed/traj/s0r258/s0r258.xtc. Cannot calculate fstep.\n",
      "Projecting trajectories:  33%|███████████████████████▋                                                 | 251/772 [00:18<00:38, 13.46it/s]2023-06-27 16:18:15,780 - moleculekit.molecule - WARNING - Different timesteps in Molecule.time for file /Users/toni/work/sh2-reconstructed/traj/s0r259/s0r259.xtc. Cannot calculate fstep.\n",
      "2023-06-27 16:18:15,853 - moleculekit.molecule - WARNING - Different timesteps in Molecule.time for file /Users/toni/work/sh2-reconstructed/traj/s0r260/s0r260.xtc. Cannot calculate fstep.\n",
      "Projecting trajectories:  33%|███████████████████████▉                                                 | 253/772 [00:18<00:38, 13.54it/s]2023-06-27 16:18:15,930 - moleculekit.molecule - WARNING - Different timesteps in Molecule.time for file /Users/toni/work/sh2-reconstructed/traj/s0r261/s0r261.xtc. Cannot calculate fstep.\n",
      "2023-06-27 16:18:16,009 - moleculekit.molecule - WARNING - Different timesteps in Molecule.time for file /Users/toni/work/sh2-reconstructed/traj/s0r262/s0r262.xtc. Cannot calculate fstep.\n",
      "Projecting trajectories:  33%|████████████████████████                                                 | 255/772 [00:18<00:38, 13.29it/s]2023-06-27 16:18:16,094 - moleculekit.molecule - WARNING - Different timesteps in Molecule.time for file /Users/toni/work/sh2-reconstructed/traj/s0r263/s0r263.xtc. Cannot calculate fstep.\n"
     ]
    },
    {
     "name": "stderr",
     "output_type": "stream",
     "text": [
      "2023-06-27 16:18:16,178 - moleculekit.molecule - WARNING - Different timesteps in Molecule.time for file /Users/toni/work/sh2-reconstructed/traj/s0r264/s0r264.xtc. Cannot calculate fstep.\n",
      "Projecting trajectories:  33%|████████████████████████▎                                                | 257/772 [00:19<00:40, 12.84it/s]2023-06-27 16:18:16,252 - moleculekit.molecule - WARNING - Different timesteps in Molecule.time for file /Users/toni/work/sh2-reconstructed/traj/s0r265/s0r265.xtc. Cannot calculate fstep.\n",
      "2023-06-27 16:18:16,328 - moleculekit.molecule - WARNING - Different timesteps in Molecule.time for file /Users/toni/work/sh2-reconstructed/traj/s0r266/s0r266.xtc. Cannot calculate fstep.\n",
      "Projecting trajectories:  34%|████████████████████████▍                                                | 259/772 [00:19<00:39, 12.97it/s]2023-06-27 16:18:16,401 - moleculekit.molecule - WARNING - Different timesteps in Molecule.time for file /Users/toni/work/sh2-reconstructed/traj/s0r268/s0r268.xtc. Cannot calculate fstep.\n",
      "2023-06-27 16:18:16,474 - moleculekit.molecule - WARNING - Different timesteps in Molecule.time for file /Users/toni/work/sh2-reconstructed/traj/s0r269/s0r269.xtc. Cannot calculate fstep.\n",
      "Projecting trajectories:  34%|████████████████████████▋                                                | 261/772 [00:19<00:38, 13.17it/s]2023-06-27 16:18:16,547 - moleculekit.molecule - WARNING - Different timesteps in Molecule.time for file /Users/toni/work/sh2-reconstructed/traj/s0r270/s0r270.xtc. Cannot calculate fstep.\n",
      "2023-06-27 16:18:16,620 - moleculekit.molecule - WARNING - Different timesteps in Molecule.time for file /Users/toni/work/sh2-reconstructed/traj/s0r271/s0r271.xtc. Cannot calculate fstep.\n",
      "Projecting trajectories:  34%|████████████████████████▊                                                | 263/772 [00:19<00:38, 13.34it/s]2023-06-27 16:18:16,693 - moleculekit.molecule - WARNING - Different timesteps in Molecule.time for file /Users/toni/work/sh2-reconstructed/traj/s0r272/s0r272.xtc. Cannot calculate fstep.\n",
      "2023-06-27 16:18:16,769 - moleculekit.molecule - WARNING - Different timesteps in Molecule.time for file /Users/toni/work/sh2-reconstructed/traj/s0r273/s0r273.xtc. Cannot calculate fstep.\n",
      "Projecting trajectories:  34%|█████████████████████████                                                | 265/772 [00:19<00:37, 13.37it/s]2023-06-27 16:18:16,850 - moleculekit.molecule - WARNING - Different timesteps in Molecule.time for file /Users/toni/work/sh2-reconstructed/traj/s0r274/s0r274.xtc. Cannot calculate fstep.\n",
      "2023-06-27 16:18:16,930 - moleculekit.molecule - WARNING - Different timesteps in Molecule.time for file /Users/toni/work/sh2-reconstructed/traj/s0r275/s0r275.xtc. Cannot calculate fstep.\n",
      "Projecting trajectories:  35%|█████████████████████████▏                                               | 267/772 [00:19<00:38, 13.07it/s]2023-06-27 16:18:17,005 - moleculekit.molecule - WARNING - Different timesteps in Molecule.time for file /Users/toni/work/sh2-reconstructed/traj/s0r276/s0r276.xtc. Cannot calculate fstep.\n",
      "2023-06-27 16:18:17,079 - moleculekit.molecule - WARNING - Different timesteps in Molecule.time for file /Users/toni/work/sh2-reconstructed/traj/s0r277/s0r277.xtc. Cannot calculate fstep.\n",
      "Projecting trajectories:  35%|█████████████████████████▍                                               | 269/772 [00:20<00:38, 13.16it/s]2023-06-27 16:18:17,159 - moleculekit.molecule - WARNING - Different timesteps in Molecule.time for file /Users/toni/work/sh2-reconstructed/traj/s0r278/s0r278.xtc. Cannot calculate fstep.\n",
      "2023-06-27 16:18:17,173 - moleculekit.molecule - WARNING - Different timesteps in Molecule.time for file /Users/toni/work/sh2-reconstructed/traj/s0r279/s0r279.xtc. Cannot calculate fstep.\n",
      "2023-06-27 16:18:17,249 - moleculekit.molecule - WARNING - Different timesteps in Molecule.time for file /Users/toni/work/sh2-reconstructed/traj/s0r280/s0r280.xtc. Cannot calculate fstep.\n",
      "Projecting trajectories:  35%|█████████████████████████▋                                               | 272/772 [00:20<00:34, 14.63it/s]2023-06-27 16:18:17,272 - moleculekit.molecule - WARNING - Different timesteps in Molecule.time for file /Users/toni/work/sh2-reconstructed/traj/s0r281/s0r281.xtc. Cannot calculate fstep.\n",
      "2023-06-27 16:18:17,346 - moleculekit.molecule - WARNING - Different timesteps in Molecule.time for file /Users/toni/work/sh2-reconstructed/traj/s0r282/s0r282.xtc. Cannot calculate fstep.\n",
      "2023-06-27 16:18:17,420 - moleculekit.molecule - WARNING - Different timesteps in Molecule.time for file /Users/toni/work/sh2-reconstructed/traj/s0r283/s0r283.xtc. Cannot calculate fstep.\n",
      "Projecting trajectories:  36%|██████████████████████████                                               | 275/772 [00:20<00:31, 15.55it/s]2023-06-27 16:18:17,493 - moleculekit.molecule - WARNING - Different timesteps in Molecule.time for file /Users/toni/work/sh2-reconstructed/traj/s0r284/s0r284.xtc. Cannot calculate fstep.\n",
      "2023-06-27 16:18:17,569 - moleculekit.molecule - WARNING - Different timesteps in Molecule.time for file /Users/toni/work/sh2-reconstructed/traj/s0r285/s0r285.xtc. Cannot calculate fstep.\n",
      "Projecting trajectories:  36%|██████████████████████████▏                                              | 277/772 [00:20<00:33, 14.94it/s]2023-06-27 16:18:17,604 - moleculekit.molecule - WARNING - Different timesteps in Molecule.time for file /Users/toni/work/sh2-reconstructed/traj/s0r286/s0r286.xtc. Cannot calculate fstep.\n",
      "2023-06-27 16:18:17,689 - moleculekit.molecule - WARNING - Different timesteps in Molecule.time for file /Users/toni/work/sh2-reconstructed/traj/s0r287/s0r287.xtc. Cannot calculate fstep.\n",
      "Projecting trajectories:  36%|██████████████████████████▍                                              | 279/772 [00:20<00:32, 15.38it/s]2023-06-27 16:18:17,771 - moleculekit.molecule - WARNING - Different timesteps in Molecule.time for file /Users/toni/work/sh2-reconstructed/traj/s0r288/s0r288.xtc. Cannot calculate fstep.\n",
      "2023-06-27 16:18:17,844 - moleculekit.molecule - WARNING - Different timesteps in Molecule.time for file /Users/toni/work/sh2-reconstructed/traj/s0r289/s0r289.xtc. Cannot calculate fstep.\n",
      "Projecting trajectories:  36%|██████████████████████████▌                                              | 281/772 [00:20<00:33, 14.61it/s]2023-06-27 16:18:17,917 - moleculekit.molecule - WARNING - Different timesteps in Molecule.time for file /Users/toni/work/sh2-reconstructed/traj/s0r290/s0r290.xtc. Cannot calculate fstep.\n",
      "2023-06-27 16:18:17,990 - moleculekit.molecule - WARNING - Different timesteps in Molecule.time for file /Users/toni/work/sh2-reconstructed/traj/s0r291/s0r291.xtc. Cannot calculate fstep.\n",
      "Projecting trajectories:  37%|██████████████████████████▊                                              | 283/772 [00:20<00:34, 14.33it/s]2023-06-27 16:18:18,065 - moleculekit.molecule - WARNING - Different timesteps in Molecule.time for file /Users/toni/work/sh2-reconstructed/traj/s0r292/s0r292.xtc. Cannot calculate fstep.\n",
      "2023-06-27 16:18:18,137 - moleculekit.molecule - WARNING - Different timesteps in Molecule.time for file /Users/toni/work/sh2-reconstructed/traj/s0r293/s0r293.xtc. Cannot calculate fstep.\n",
      "Projecting trajectories:  37%|██████████████████████████▉                                              | 285/772 [00:21<00:34, 14.10it/s]2023-06-27 16:18:18,211 - moleculekit.molecule - WARNING - Different timesteps in Molecule.time for file /Users/toni/work/sh2-reconstructed/traj/s0r294/s0r294.xtc. Cannot calculate fstep.\n",
      "2023-06-27 16:18:18,290 - moleculekit.molecule - WARNING - Different timesteps in Molecule.time for file /Users/toni/work/sh2-reconstructed/traj/s0r295/s0r295.xtc. Cannot calculate fstep.\n",
      "Projecting trajectories:  37%|███████████████████████████▏                                             | 287/772 [00:21<00:35, 13.80it/s]2023-06-27 16:18:18,375 - moleculekit.molecule - WARNING - Different timesteps in Molecule.time for file /Users/toni/work/sh2-reconstructed/traj/s0r296/s0r296.xtc. Cannot calculate fstep.\n",
      "2023-06-27 16:18:18,457 - moleculekit.molecule - WARNING - Different timesteps in Molecule.time for file /Users/toni/work/sh2-reconstructed/traj/s0r297/s0r297.xtc. Cannot calculate fstep.\n"
     ]
    },
    {
     "name": "stderr",
     "output_type": "stream",
     "text": [
      "Projecting trajectories:  37%|███████████████████████████▎                                             | 289/772 [00:21<00:36, 13.21it/s]2023-06-27 16:18:18,540 - moleculekit.molecule - WARNING - Different timesteps in Molecule.time for file /Users/toni/work/sh2-reconstructed/traj/s0r298/s0r298.xtc. Cannot calculate fstep.\n",
      "2023-06-27 16:18:18,613 - moleculekit.molecule - WARNING - Different timesteps in Molecule.time for file /Users/toni/work/sh2-reconstructed/traj/s0r299/s0r299.xtc. Cannot calculate fstep.\n",
      "Projecting trajectories:  38%|███████████████████████████▌                                             | 291/772 [00:21<00:36, 13.08it/s]2023-06-27 16:18:18,690 - moleculekit.molecule - WARNING - Different timesteps in Molecule.time for file /Users/toni/work/sh2-reconstructed/traj/s0r300/s0r300.xtc. Cannot calculate fstep.\n",
      "2023-06-27 16:18:18,762 - moleculekit.molecule - WARNING - Different timesteps in Molecule.time for file /Users/toni/work/sh2-reconstructed/traj/s0r301/s0r301.xtc. Cannot calculate fstep.\n",
      "Projecting trajectories:  38%|███████████████████████████▋                                             | 293/772 [00:21<00:36, 13.18it/s]2023-06-27 16:18:18,835 - moleculekit.molecule - WARNING - Different timesteps in Molecule.time for file /Users/toni/work/sh2-reconstructed/traj/s0r302/s0r302.xtc. Cannot calculate fstep.\n",
      "2023-06-27 16:18:18,908 - moleculekit.molecule - WARNING - Different timesteps in Molecule.time for file /Users/toni/work/sh2-reconstructed/traj/s0r303/s0r303.xtc. Cannot calculate fstep.\n",
      "Projecting trajectories:  38%|███████████████████████████▉                                             | 295/772 [00:21<00:35, 13.32it/s]2023-06-27 16:18:18,983 - moleculekit.molecule - WARNING - Different timesteps in Molecule.time for file /Users/toni/work/sh2-reconstructed/traj/s0r305/s0r305.xtc. Cannot calculate fstep.\n",
      "2023-06-27 16:18:19,057 - moleculekit.molecule - WARNING - Different timesteps in Molecule.time for file /Users/toni/work/sh2-reconstructed/traj/s0r306/s0r306.xtc. Cannot calculate fstep.\n",
      "Projecting trajectories:  38%|████████████████████████████                                             | 297/772 [00:22<00:35, 13.36it/s]2023-06-27 16:18:19,135 - moleculekit.molecule - WARNING - Different timesteps in Molecule.time for file /Users/toni/work/sh2-reconstructed/traj/s0r308/s0r308.xtc. Cannot calculate fstep.\n",
      "2023-06-27 16:18:19,215 - moleculekit.molecule - WARNING - Different timesteps in Molecule.time for file /Users/toni/work/sh2-reconstructed/traj/s0r309/s0r309.xtc. Cannot calculate fstep.\n",
      "Projecting trajectories:  39%|████████████████████████████▎                                            | 299/772 [00:22<00:35, 13.15it/s]2023-06-27 16:18:19,300 - moleculekit.molecule - WARNING - Different timesteps in Molecule.time for file /Users/toni/work/sh2-reconstructed/traj/s0r310/s0r310.xtc. Cannot calculate fstep.\n",
      "2023-06-27 16:18:19,375 - moleculekit.molecule - WARNING - Different timesteps in Molecule.time for file /Users/toni/work/sh2-reconstructed/traj/s0r311/s0r311.xtc. Cannot calculate fstep.\n",
      "Projecting trajectories:  39%|████████████████████████████▍                                            | 301/772 [00:22<00:36, 12.95it/s]2023-06-27 16:18:19,449 - moleculekit.molecule - WARNING - Different timesteps in Molecule.time for file /Users/toni/work/sh2-reconstructed/traj/s0r312/s0r312.xtc. Cannot calculate fstep.\n",
      "2023-06-27 16:18:19,521 - moleculekit.molecule - WARNING - Different timesteps in Molecule.time for file /Users/toni/work/sh2-reconstructed/traj/s0r313/s0r313.xtc. Cannot calculate fstep.\n",
      "Projecting trajectories:  39%|████████████████████████████▋                                            | 303/772 [00:22<00:35, 13.16it/s]2023-06-27 16:18:19,595 - moleculekit.molecule - WARNING - Different timesteps in Molecule.time for file /Users/toni/work/sh2-reconstructed/traj/s0r314/s0r314.xtc. Cannot calculate fstep.\n",
      "2023-06-27 16:18:19,675 - moleculekit.molecule - WARNING - Different timesteps in Molecule.time for file /Users/toni/work/sh2-reconstructed/traj/s0r315/s0r315.xtc. Cannot calculate fstep.\n",
      "Projecting trajectories:  40%|████████████████████████████▊                                            | 305/772 [00:22<00:35, 13.10it/s]2023-06-27 16:18:19,751 - moleculekit.molecule - WARNING - Different timesteps in Molecule.time for file /Users/toni/work/sh2-reconstructed/traj/s0r316/s0r316.xtc. Cannot calculate fstep.\n",
      "2023-06-27 16:18:19,823 - moleculekit.molecule - WARNING - Different timesteps in Molecule.time for file /Users/toni/work/sh2-reconstructed/traj/s0r317/s0r317.xtc. Cannot calculate fstep.\n",
      "Projecting trajectories:  40%|█████████████████████████████                                            | 307/772 [00:22<00:35, 13.23it/s]2023-06-27 16:18:19,899 - moleculekit.molecule - WARNING - Different timesteps in Molecule.time for file /Users/toni/work/sh2-reconstructed/traj/s0r318/s0r318.xtc. Cannot calculate fstep.\n",
      "2023-06-27 16:18:19,983 - moleculekit.molecule - WARNING - Different timesteps in Molecule.time for file /Users/toni/work/sh2-reconstructed/traj/s0r319/s0r319.xtc. Cannot calculate fstep.\n",
      "Projecting trajectories:  40%|█████████████████████████████▏                                           | 309/772 [00:22<00:35, 13.00it/s]2023-06-27 16:18:20,015 - moleculekit.molecule - WARNING - Different timesteps in Molecule.time for file /Users/toni/work/sh2-reconstructed/traj/s0r320/s0r320.xtc. Cannot calculate fstep.\n",
      "2023-06-27 16:18:20,102 - moleculekit.molecule - WARNING - Different timesteps in Molecule.time for file /Users/toni/work/sh2-reconstructed/traj/s0r321/s0r321.xtc. Cannot calculate fstep.\n",
      "Projecting trajectories:  40%|█████████████████████████████▍                                           | 311/772 [00:23<00:33, 13.96it/s]2023-06-27 16:18:20,179 - moleculekit.molecule - WARNING - Different timesteps in Molecule.time for file /Users/toni/work/sh2-reconstructed/traj/s0r322/s0r322.xtc. Cannot calculate fstep.\n",
      "2023-06-27 16:18:20,252 - moleculekit.molecule - WARNING - Different timesteps in Molecule.time for file /Users/toni/work/sh2-reconstructed/traj/s0r323/s0r323.xtc. Cannot calculate fstep.\n",
      "Projecting trajectories:  41%|█████████████████████████████▌                                           | 313/772 [00:23<00:33, 13.76it/s]2023-06-27 16:18:20,325 - moleculekit.molecule - WARNING - Different timesteps in Molecule.time for file /Users/toni/work/sh2-reconstructed/traj/s0r324/s0r324.xtc. Cannot calculate fstep.\n",
      "2023-06-27 16:18:20,398 - moleculekit.molecule - WARNING - Different timesteps in Molecule.time for file /Users/toni/work/sh2-reconstructed/traj/s0r325/s0r325.xtc. Cannot calculate fstep.\n",
      "Projecting trajectories:  41%|█████████████████████████████▊                                           | 315/772 [00:23<00:33, 13.75it/s]2023-06-27 16:18:20,458 - moleculekit.molecule - WARNING - Different timesteps in Molecule.time for file /Users/toni/work/sh2-reconstructed/traj/s0r326/s0r326.xtc. Cannot calculate fstep.\n",
      "2023-06-27 16:18:20,531 - moleculekit.molecule - WARNING - Different timesteps in Molecule.time for file /Users/toni/work/sh2-reconstructed/traj/s0r327/s0r327.xtc. Cannot calculate fstep.\n",
      "Projecting trajectories:  41%|█████████████████████████████▉                                           | 317/772 [00:23<00:32, 14.10it/s]2023-06-27 16:18:20,608 - moleculekit.molecule - WARNING - Different timesteps in Molecule.time for file /Users/toni/work/sh2-reconstructed/traj/s0r328/s0r328.xtc. Cannot calculate fstep.\n",
      "2023-06-27 16:18:20,687 - moleculekit.molecule - WARNING - Different timesteps in Molecule.time for file /Users/toni/work/sh2-reconstructed/traj/s0r330/s0r330.xtc. Cannot calculate fstep.\n",
      "Projecting trajectories:  41%|██████████████████████████████▏                                          | 319/772 [00:23<00:33, 13.69it/s]2023-06-27 16:18:20,702 - moleculekit.molecule - WARNING - Different timesteps in Molecule.time for file /Users/toni/work/sh2-reconstructed/traj/s0r331/s0r331.xtc. Cannot calculate fstep.\n",
      "2023-06-27 16:18:20,797 - moleculekit.molecule - WARNING - Different timesteps in Molecule.time for file /Users/toni/work/sh2-reconstructed/traj/s0r332/s0r332.xtc. Cannot calculate fstep.\n"
     ]
    },
    {
     "name": "stderr",
     "output_type": "stream",
     "text": [
      "Projecting trajectories:  42%|██████████████████████████████▎                                          | 321/772 [00:23<00:30, 14.78it/s]2023-06-27 16:18:20,885 - moleculekit.molecule - WARNING - Different timesteps in Molecule.time for file /Users/toni/work/sh2-reconstructed/traj/s0r333/s0r333.xtc. Cannot calculate fstep.\n",
      "2023-06-27 16:18:20,980 - moleculekit.molecule - WARNING - Different timesteps in Molecule.time for file /Users/toni/work/sh2-reconstructed/traj/s0r334/s0r334.xtc. Cannot calculate fstep.\n",
      "Projecting trajectories:  42%|██████████████████████████████▌                                          | 323/772 [00:23<00:33, 13.39it/s]2023-06-27 16:18:21,057 - moleculekit.molecule - WARNING - Different timesteps in Molecule.time for file /Users/toni/work/sh2-reconstructed/traj/s0r335/s0r335.xtc. Cannot calculate fstep.\n",
      "2023-06-27 16:18:21,135 - moleculekit.molecule - WARNING - Different timesteps in Molecule.time for file /Users/toni/work/sh2-reconstructed/traj/s0r336/s0r336.xtc. Cannot calculate fstep.\n",
      "Projecting trajectories:  42%|██████████████████████████████▋                                          | 325/772 [00:24<00:33, 13.22it/s]2023-06-27 16:18:21,210 - moleculekit.molecule - WARNING - Different timesteps in Molecule.time for file /Users/toni/work/sh2-reconstructed/traj/s0r337/s0r337.xtc. Cannot calculate fstep.\n",
      "2023-06-27 16:18:21,284 - moleculekit.molecule - WARNING - Different timesteps in Molecule.time for file /Users/toni/work/sh2-reconstructed/traj/s0r338/s0r338.xtc. Cannot calculate fstep.\n",
      "Projecting trajectories:  42%|██████████████████████████████▉                                          | 327/772 [00:24<00:33, 13.30it/s]2023-06-27 16:18:21,357 - moleculekit.molecule - WARNING - Different timesteps in Molecule.time for file /Users/toni/work/sh2-reconstructed/traj/s0r339/s0r339.xtc. Cannot calculate fstep.\n",
      "2023-06-27 16:18:21,431 - moleculekit.molecule - WARNING - Different timesteps in Molecule.time for file /Users/toni/work/sh2-reconstructed/traj/s0r340/s0r340.xtc. Cannot calculate fstep.\n",
      "Projecting trajectories:  43%|███████████████████████████████                                          | 329/772 [00:24<00:33, 13.38it/s]2023-06-27 16:18:21,507 - moleculekit.molecule - WARNING - Different timesteps in Molecule.time for file /Users/toni/work/sh2-reconstructed/traj/s0r341/s0r341.xtc. Cannot calculate fstep.\n",
      "2023-06-27 16:18:21,585 - moleculekit.molecule - WARNING - Different timesteps in Molecule.time for file /Users/toni/work/sh2-reconstructed/traj/s0r342/s0r342.xtc. Cannot calculate fstep.\n",
      "Projecting trajectories:  43%|███████████████████████████████▎                                         | 331/772 [00:24<00:33, 13.25it/s]2023-06-27 16:18:21,671 - moleculekit.molecule - WARNING - Different timesteps in Molecule.time for file /Users/toni/work/sh2-reconstructed/traj/s0r343/s0r343.xtc. Cannot calculate fstep.\n",
      "2023-06-27 16:18:21,754 - moleculekit.molecule - WARNING - Different timesteps in Molecule.time for file /Users/toni/work/sh2-reconstructed/traj/s0r344/s0r344.xtc. Cannot calculate fstep.\n",
      "Projecting trajectories:  43%|███████████████████████████████▍                                         | 333/772 [00:24<00:34, 12.79it/s]2023-06-27 16:18:21,832 - moleculekit.molecule - WARNING - Different timesteps in Molecule.time for file /Users/toni/work/sh2-reconstructed/traj/s0r345/s0r345.xtc. Cannot calculate fstep.\n",
      "2023-06-27 16:18:21,904 - moleculekit.molecule - WARNING - Different timesteps in Molecule.time for file /Users/toni/work/sh2-reconstructed/traj/s0r346/s0r346.xtc. Cannot calculate fstep.\n",
      "Projecting trajectories:  43%|███████████████████████████████▋                                         | 335/772 [00:24<00:33, 12.96it/s]2023-06-27 16:18:21,937 - moleculekit.molecule - WARNING - Different timesteps in Molecule.time for file /Users/toni/work/sh2-reconstructed/traj/s0r347/s0r347.xtc. Cannot calculate fstep.\n",
      "2023-06-27 16:18:22,012 - moleculekit.molecule - WARNING - Different timesteps in Molecule.time for file /Users/toni/work/sh2-reconstructed/traj/s0r348/s0r348.xtc. Cannot calculate fstep.\n",
      "Projecting trajectories:  44%|███████████████████████████████▊                                         | 337/772 [00:24<00:30, 14.25it/s]2023-06-27 16:18:22,093 - moleculekit.molecule - WARNING - Different timesteps in Molecule.time for file /Users/toni/work/sh2-reconstructed/traj/s0r349/s0r349.xtc. Cannot calculate fstep.\n",
      "2023-06-27 16:18:22,171 - moleculekit.molecule - WARNING - Different timesteps in Molecule.time for file /Users/toni/work/sh2-reconstructed/traj/s0r350/s0r350.xtc. Cannot calculate fstep.\n",
      "Projecting trajectories:  44%|████████████████████████████████                                         | 339/772 [00:25<00:31, 13.70it/s]2023-06-27 16:18:22,246 - moleculekit.molecule - WARNING - Different timesteps in Molecule.time for file /Users/toni/work/sh2-reconstructed/traj/s0r351/s0r351.xtc. Cannot calculate fstep.\n",
      "2023-06-27 16:18:22,292 - moleculekit.molecule - WARNING - Different timesteps in Molecule.time for file /Users/toni/work/sh2-reconstructed/traj/s0r352/s0r352.xtc. Cannot calculate fstep.\n",
      "Projecting trajectories:  44%|████████████████████████████████▏                                        | 341/772 [00:25<00:29, 14.45it/s]2023-06-27 16:18:22,365 - moleculekit.molecule - WARNING - Different timesteps in Molecule.time for file /Users/toni/work/sh2-reconstructed/traj/s0r353/s0r353.xtc. Cannot calculate fstep.\n",
      "2023-06-27 16:18:22,445 - moleculekit.molecule - WARNING - Different timesteps in Molecule.time for file /Users/toni/work/sh2-reconstructed/traj/s0r354/s0r354.xtc. Cannot calculate fstep.\n",
      "Projecting trajectories:  44%|████████████████████████████████▍                                        | 343/772 [00:25<00:30, 14.01it/s]2023-06-27 16:18:22,525 - moleculekit.molecule - WARNING - Different timesteps in Molecule.time for file /Users/toni/work/sh2-reconstructed/traj/s0r355/s0r355.xtc. Cannot calculate fstep.\n",
      "2023-06-27 16:18:22,598 - moleculekit.molecule - WARNING - Different timesteps in Molecule.time for file /Users/toni/work/sh2-reconstructed/traj/s0r356/s0r356.xtc. Cannot calculate fstep.\n",
      "Projecting trajectories:  45%|████████████████████████████████▌                                        | 345/772 [00:25<00:31, 13.71it/s]2023-06-27 16:18:22,671 - moleculekit.molecule - WARNING - Different timesteps in Molecule.time for file /Users/toni/work/sh2-reconstructed/traj/s0r357/s0r357.xtc. Cannot calculate fstep.\n",
      "2023-06-27 16:18:22,744 - moleculekit.molecule - WARNING - Different timesteps in Molecule.time for file /Users/toni/work/sh2-reconstructed/traj/s0r360/s0r360.xtc. Cannot calculate fstep.\n",
      "Projecting trajectories:  45%|████████████████████████████████▊                                        | 347/772 [00:25<00:31, 13.69it/s]2023-06-27 16:18:22,818 - moleculekit.molecule - WARNING - Different timesteps in Molecule.time for file /Users/toni/work/sh2-reconstructed/traj/s0r361/s0r361.xtc. Cannot calculate fstep.\n",
      "2023-06-27 16:18:22,890 - moleculekit.molecule - WARNING - Different timesteps in Molecule.time for file /Users/toni/work/sh2-reconstructed/traj/s0r362/s0r362.xtc. Cannot calculate fstep.\n",
      "Projecting trajectories:  45%|█████████████████████████████████                                        | 349/772 [00:25<00:30, 13.69it/s]2023-06-27 16:18:22,963 - moleculekit.molecule - WARNING - Different timesteps in Molecule.time for file /Users/toni/work/sh2-reconstructed/traj/s0r364/s0r364.xtc. Cannot calculate fstep.\n",
      "2023-06-27 16:18:23,037 - moleculekit.molecule - WARNING - Different timesteps in Molecule.time for file /Users/toni/work/sh2-reconstructed/traj/s0r365/s0r365.xtc. Cannot calculate fstep.\n",
      "Projecting trajectories:  45%|█████████████████████████████████▏                                       | 351/772 [00:25<00:30, 13.69it/s]2023-06-27 16:18:23,123 - moleculekit.molecule - WARNING - Different timesteps in Molecule.time for file /Users/toni/work/sh2-reconstructed/traj/s0r366/s0r366.xtc. Cannot calculate fstep.\n",
      "2023-06-27 16:18:23,219 - moleculekit.molecule - WARNING - Different timesteps in Molecule.time for file /Users/toni/work/sh2-reconstructed/traj/s0r367/s0r367.xtc. Cannot calculate fstep.\n"
     ]
    },
    {
     "name": "stderr",
     "output_type": "stream",
     "text": [
      "Projecting trajectories:  46%|█████████████████████████████████▍                                       | 353/772 [00:26<00:32, 12.74it/s]2023-06-27 16:18:23,307 - moleculekit.molecule - WARNING - Different timesteps in Molecule.time for file /Users/toni/work/sh2-reconstructed/traj/s0r368/s0r368.xtc. Cannot calculate fstep.\n",
      "2023-06-27 16:18:23,400 - moleculekit.molecule - WARNING - Different timesteps in Molecule.time for file /Users/toni/work/sh2-reconstructed/traj/s0r369/s0r369.xtc. Cannot calculate fstep.\n",
      "Projecting trajectories:  46%|█████████████████████████████████▌                                       | 355/772 [00:26<00:34, 12.16it/s]2023-06-27 16:18:23,483 - moleculekit.molecule - WARNING - Different timesteps in Molecule.time for file /Users/toni/work/sh2-reconstructed/traj/s0r370/s0r370.xtc. Cannot calculate fstep.\n",
      "2023-06-27 16:18:23,565 - moleculekit.molecule - WARNING - Different timesteps in Molecule.time for file /Users/toni/work/sh2-reconstructed/traj/s0r371/s0r371.xtc. Cannot calculate fstep.\n",
      "Projecting trajectories:  46%|█████████████████████████████████▊                                       | 357/772 [00:26<00:34, 12.17it/s]2023-06-27 16:18:23,647 - moleculekit.molecule - WARNING - Different timesteps in Molecule.time for file /Users/toni/work/sh2-reconstructed/traj/s0r372/s0r372.xtc. Cannot calculate fstep.\n",
      "2023-06-27 16:18:23,726 - moleculekit.molecule - WARNING - Different timesteps in Molecule.time for file /Users/toni/work/sh2-reconstructed/traj/s0r373/s0r373.xtc. Cannot calculate fstep.\n",
      "Projecting trajectories:  47%|█████████████████████████████████▉                                       | 359/772 [00:26<00:33, 12.23it/s]2023-06-27 16:18:23,810 - moleculekit.molecule - WARNING - Different timesteps in Molecule.time for file /Users/toni/work/sh2-reconstructed/traj/s0r374/s0r374.xtc. Cannot calculate fstep.\n",
      "2023-06-27 16:18:23,896 - moleculekit.molecule - WARNING - Different timesteps in Molecule.time for file /Users/toni/work/sh2-reconstructed/traj/s0r375/s0r375.xtc. Cannot calculate fstep.\n",
      "Projecting trajectories:  47%|██████████████████████████████████▏                                      | 361/772 [00:26<00:34, 12.08it/s]2023-06-27 16:18:23,988 - moleculekit.molecule - WARNING - Different timesteps in Molecule.time for file /Users/toni/work/sh2-reconstructed/traj/s0r376/s0r376.xtc. Cannot calculate fstep.\n",
      "2023-06-27 16:18:24,074 - moleculekit.molecule - WARNING - Different timesteps in Molecule.time for file /Users/toni/work/sh2-reconstructed/traj/s0r377/s0r377.xtc. Cannot calculate fstep.\n",
      "Projecting trajectories:  47%|██████████████████████████████████▎                                      | 363/772 [00:27<00:34, 11.82it/s]2023-06-27 16:18:24,163 - moleculekit.molecule - WARNING - Different timesteps in Molecule.time for file /Users/toni/work/sh2-reconstructed/traj/s0r378/s0r378.xtc. Cannot calculate fstep.\n",
      "2023-06-27 16:18:24,191 - moleculekit.molecule - WARNING - Different timesteps in Molecule.time for file /Users/toni/work/sh2-reconstructed/traj/s0r379/s0r379.xtc. Cannot calculate fstep.\n",
      "Projecting trajectories:  47%|██████████████████████████████████▌                                      | 365/772 [00:27<00:31, 13.05it/s]2023-06-27 16:18:24,276 - moleculekit.molecule - WARNING - Different timesteps in Molecule.time for file /Users/toni/work/sh2-reconstructed/traj/s0r380/s0r380.xtc. Cannot calculate fstep.\n",
      "2023-06-27 16:18:24,352 - moleculekit.molecule - WARNING - Different timesteps in Molecule.time for file /Users/toni/work/sh2-reconstructed/traj/s0r381/s0r381.xtc. Cannot calculate fstep.\n",
      "Projecting trajectories:  48%|██████████████████████████████████▋                                      | 367/772 [00:27<00:31, 12.84it/s]2023-06-27 16:18:24,434 - moleculekit.molecule - WARNING - Different timesteps in Molecule.time for file /Users/toni/work/sh2-reconstructed/traj/s0r382/s0r382.xtc. Cannot calculate fstep.\n",
      "2023-06-27 16:18:24,516 - moleculekit.molecule - WARNING - Different timesteps in Molecule.time for file /Users/toni/work/sh2-reconstructed/traj/s0r383/s0r383.xtc. Cannot calculate fstep.\n",
      "Projecting trajectories:  48%|██████████████████████████████████▉                                      | 369/772 [00:27<00:31, 12.64it/s]2023-06-27 16:18:24,595 - moleculekit.molecule - WARNING - Different timesteps in Molecule.time for file /Users/toni/work/sh2-reconstructed/traj/s0r384/s0r384.xtc. Cannot calculate fstep.\n",
      "2023-06-27 16:18:24,671 - moleculekit.molecule - WARNING - Different timesteps in Molecule.time for file /Users/toni/work/sh2-reconstructed/traj/s0r385/s0r385.xtc. Cannot calculate fstep.\n",
      "Projecting trajectories:  48%|███████████████████████████████████                                      | 371/772 [00:27<00:31, 12.71it/s]2023-06-27 16:18:24,755 - moleculekit.molecule - WARNING - Different timesteps in Molecule.time for file /Users/toni/work/sh2-reconstructed/traj/s0r386/s0r386.xtc. Cannot calculate fstep.\n",
      "2023-06-27 16:18:24,838 - moleculekit.molecule - WARNING - Different timesteps in Molecule.time for file /Users/toni/work/sh2-reconstructed/traj/s0r387/s0r387.xtc. Cannot calculate fstep.\n",
      "Projecting trajectories:  48%|███████████████████████████████████▎                                     | 373/772 [00:27<00:31, 12.48it/s]2023-06-27 16:18:24,929 - moleculekit.molecule - WARNING - Different timesteps in Molecule.time for file /Users/toni/work/sh2-reconstructed/traj/s0r388/s0r388.xtc. Cannot calculate fstep.\n",
      "2023-06-27 16:18:25,016 - moleculekit.molecule - WARNING - Different timesteps in Molecule.time for file /Users/toni/work/sh2-reconstructed/traj/s0r389/s0r389.xtc. Cannot calculate fstep.\n",
      "Projecting trajectories:  49%|███████████████████████████████████▍                                     | 375/772 [00:27<00:32, 12.08it/s]2023-06-27 16:18:25,088 - moleculekit.molecule - WARNING - Different timesteps in Molecule.time for file /Users/toni/work/sh2-reconstructed/traj/s0r390/s0r390.xtc. Cannot calculate fstep.\n",
      "2023-06-27 16:18:25,167 - moleculekit.molecule - WARNING - Different timesteps in Molecule.time for file /Users/toni/work/sh2-reconstructed/traj/s0r391/s0r391.xtc. Cannot calculate fstep.\n",
      "Projecting trajectories:  49%|███████████████████████████████████▋                                     | 377/772 [00:28<00:31, 12.41it/s]2023-06-27 16:18:25,179 - moleculekit.molecule - WARNING - Different timesteps in Molecule.time for file /Users/toni/work/sh2-reconstructed/traj/s0r392/s0r392.xtc. Cannot calculate fstep.\n",
      "2023-06-27 16:18:25,254 - moleculekit.molecule - WARNING - Different timesteps in Molecule.time for file /Users/toni/work/sh2-reconstructed/traj/s0r393/s0r393.xtc. Cannot calculate fstep.\n",
      "2023-06-27 16:18:25,328 - moleculekit.molecule - WARNING - Different timesteps in Molecule.time for file /Users/toni/work/sh2-reconstructed/traj/s0r394/s0r394.xtc. Cannot calculate fstep.\n",
      "Projecting trajectories:  49%|███████████████████████████████████▉                                     | 380/772 [00:28<00:27, 14.28it/s]2023-06-27 16:18:25,341 - moleculekit.molecule - WARNING - Different timesteps in Molecule.time for file /Users/toni/work/sh2-reconstructed/traj/s0r395/s0r395.xtc. Cannot calculate fstep.\n",
      "2023-06-27 16:18:25,418 - moleculekit.molecule - WARNING - Different timesteps in Molecule.time for file /Users/toni/work/sh2-reconstructed/traj/s0r396/s0r396.xtc. Cannot calculate fstep.\n",
      "2023-06-27 16:18:25,493 - moleculekit.molecule - WARNING - Different timesteps in Molecule.time for file /Users/toni/work/sh2-reconstructed/traj/s0r397/s0r397.xtc. Cannot calculate fstep.\n",
      "Projecting trajectories:  50%|████████████████████████████████████▏                                    | 383/772 [00:28<00:25, 15.49it/s]2023-06-27 16:18:25,566 - moleculekit.molecule - WARNING - Different timesteps in Molecule.time for file /Users/toni/work/sh2-reconstructed/traj/s0r398/s0r398.xtc. Cannot calculate fstep.\n",
      "2023-06-27 16:18:25,640 - moleculekit.molecule - WARNING - Different timesteps in Molecule.time for file /Users/toni/work/sh2-reconstructed/traj/s0r399/s0r399.xtc. Cannot calculate fstep.\n",
      "Projecting trajectories:  50%|████████████████████████████████████▍                                    | 385/772 [00:28<00:25, 14.94it/s]2023-06-27 16:18:25,717 - moleculekit.molecule - WARNING - Different timesteps in Molecule.time for file /Users/toni/work/sh2-reconstructed/traj/s0r400/s0r400.xtc. Cannot calculate fstep.\n",
      "2023-06-27 16:18:25,797 - moleculekit.molecule - WARNING - Different timesteps in Molecule.time for file /Users/toni/work/sh2-reconstructed/traj/s0r401/s0r401.xtc. Cannot calculate fstep.\n",
      "Projecting trajectories:  50%|████████████████████████████████████▌                                    | 387/772 [00:28<00:26, 14.29it/s]2023-06-27 16:18:25,878 - moleculekit.molecule - WARNING - Different timesteps in Molecule.time for file /Users/toni/work/sh2-reconstructed/traj/s0r402/s0r402.xtc. Cannot calculate fstep.\n",
      "2023-06-27 16:18:25,958 - moleculekit.molecule - WARNING - Different timesteps in Molecule.time for file /Users/toni/work/sh2-reconstructed/traj/s0r403/s0r403.xtc. Cannot calculate fstep.\n",
      "Projecting trajectories:  50%|████████████████████████████████████▊                                    | 389/772 [00:28<00:27, 13.73it/s]2023-06-27 16:18:26,032 - moleculekit.molecule - WARNING - Different timesteps in Molecule.time for file /Users/toni/work/sh2-reconstructed/traj/s0r404/s0r404.xtc. Cannot calculate fstep.\n",
      "2023-06-27 16:18:26,105 - moleculekit.molecule - WARNING - Different timesteps in Molecule.time for file /Users/toni/work/sh2-reconstructed/traj/s0r405/s0r405.xtc. Cannot calculate fstep.\n",
      "Projecting trajectories:  51%|████████████████████████████████████▉                                    | 391/772 [00:29<00:27, 13.69it/s]2023-06-27 16:18:26,179 - moleculekit.molecule - WARNING - Different timesteps in Molecule.time for file /Users/toni/work/sh2-reconstructed/traj/s0r406/s0r406.xtc. Cannot calculate fstep.\n",
      "2023-06-27 16:18:26,252 - moleculekit.molecule - WARNING - Different timesteps in Molecule.time for file /Users/toni/work/sh2-reconstructed/traj/s0r407/s0r407.xtc. Cannot calculate fstep.\n",
      "Projecting trajectories:  51%|█████████████████████████████████████▏                                   | 393/772 [00:29<00:27, 13.66it/s]2023-06-27 16:18:26,326 - moleculekit.molecule - WARNING - Different timesteps in Molecule.time for file /Users/toni/work/sh2-reconstructed/traj/s0r408/s0r408.xtc. Cannot calculate fstep.\n",
      "2023-06-27 16:18:26,370 - moleculekit.molecule - WARNING - Different timesteps in Molecule.time for file /Users/toni/work/sh2-reconstructed/traj/s0r409/s0r409.xtc. Cannot calculate fstep.\n",
      "Projecting trajectories:  51%|█████████████████████████████████████▎                                   | 395/772 [00:29<00:26, 14.46it/s]2023-06-27 16:18:26,449 - moleculekit.molecule - WARNING - Different timesteps in Molecule.time for file /Users/toni/work/sh2-reconstructed/traj/s0r411/s0r411.xtc. Cannot calculate fstep.\n",
      "2023-06-27 16:18:26,532 - moleculekit.molecule - WARNING - Different timesteps in Molecule.time for file /Users/toni/work/sh2-reconstructed/traj/s0r412/s0r412.xtc. Cannot calculate fstep.\n",
      "Projecting trajectories:  51%|█████████████████████████████████████▌                                   | 397/772 [00:29<00:27, 13.79it/s]2023-06-27 16:18:26,620 - moleculekit.molecule - WARNING - Different timesteps in Molecule.time for file /Users/toni/work/sh2-reconstructed/traj/s0r413/s0r413.xtc. Cannot calculate fstep.\n",
      "2023-06-27 16:18:26,703 - moleculekit.molecule - WARNING - Different timesteps in Molecule.time for file /Users/toni/work/sh2-reconstructed/traj/s0r414/s0r414.xtc. Cannot calculate fstep.\n",
      "Projecting trajectories:  52%|█████████████████████████████████████▋                                   | 399/772 [00:29<00:28, 13.09it/s]2023-06-27 16:18:26,778 - moleculekit.molecule - WARNING - Different timesteps in Molecule.time for file /Users/toni/work/sh2-reconstructed/traj/s0r415/s0r415.xtc. Cannot calculate fstep.\n",
      "2023-06-27 16:18:26,853 - moleculekit.molecule - WARNING - Different timesteps in Molecule.time for file /Users/toni/work/sh2-reconstructed/traj/s0r416/s0r416.xtc. Cannot calculate fstep.\n",
      "Projecting trajectories:  52%|█████████████████████████████████████▉                                   | 401/772 [00:29<00:28, 13.16it/s]2023-06-27 16:18:26,926 - moleculekit.molecule - WARNING - Different timesteps in Molecule.time for file /Users/toni/work/sh2-reconstructed/traj/s0r417/s0r417.xtc. Cannot calculate fstep.\n",
      "2023-06-27 16:18:26,999 - moleculekit.molecule - WARNING - Different timesteps in Molecule.time for file /Users/toni/work/sh2-reconstructed/traj/s0r418/s0r418.xtc. Cannot calculate fstep.\n",
      "Projecting trajectories:  52%|██████████████████████████████████████                                   | 403/772 [00:29<00:27, 13.31it/s]2023-06-27 16:18:27,074 - moleculekit.molecule - WARNING - Different timesteps in Molecule.time for file /Users/toni/work/sh2-reconstructed/traj/s0r419/s0r419.xtc. Cannot calculate fstep.\n",
      "2023-06-27 16:18:27,148 - moleculekit.molecule - WARNING - Different timesteps in Molecule.time for file /Users/toni/work/sh2-reconstructed/traj/s0r420/s0r420.xtc. Cannot calculate fstep.\n",
      "Projecting trajectories:  52%|██████████████████████████████████████▎                                  | 405/772 [00:30<00:27, 13.36it/s]2023-06-27 16:18:27,182 - moleculekit.molecule - WARNING - Different timesteps in Molecule.time for file /Users/toni/work/sh2-reconstructed/traj/s0r421/s0r421.xtc. Cannot calculate fstep.\n",
      "2023-06-27 16:18:27,256 - moleculekit.molecule - WARNING - Different timesteps in Molecule.time for file /Users/toni/work/sh2-reconstructed/traj/s0r422/s0r422.xtc. Cannot calculate fstep.\n",
      "Projecting trajectories:  53%|██████████████████████████████████████▍                                  | 407/772 [00:30<00:25, 14.57it/s]2023-06-27 16:18:27,334 - moleculekit.molecule - WARNING - Different timesteps in Molecule.time for file /Users/toni/work/sh2-reconstructed/traj/s0r423/s0r423.xtc. Cannot calculate fstep.\n",
      "2023-06-27 16:18:27,421 - moleculekit.molecule - WARNING - Different timesteps in Molecule.time for file /Users/toni/work/sh2-reconstructed/traj/s0r424/s0r424.xtc. Cannot calculate fstep.\n",
      "Projecting trajectories:  53%|██████████████████████████████████████▋                                  | 409/772 [00:30<00:26, 13.74it/s]2023-06-27 16:18:27,502 - moleculekit.molecule - WARNING - Different timesteps in Molecule.time for file /Users/toni/work/sh2-reconstructed/traj/s0r425/s0r425.xtc. Cannot calculate fstep.\n",
      "2023-06-27 16:18:27,577 - moleculekit.molecule - WARNING - Different timesteps in Molecule.time for file /Users/toni/work/sh2-reconstructed/traj/s0r426/s0r426.xtc. Cannot calculate fstep.\n",
      "Projecting trajectories:  53%|██████████████████████████████████████▊                                  | 411/772 [00:30<00:26, 13.46it/s]2023-06-27 16:18:27,651 - moleculekit.molecule - WARNING - Different timesteps in Molecule.time for file /Users/toni/work/sh2-reconstructed/traj/s0r427/s0r427.xtc. Cannot calculate fstep.\n",
      "2023-06-27 16:18:27,725 - moleculekit.molecule - WARNING - Different timesteps in Molecule.time for file /Users/toni/work/sh2-reconstructed/traj/s0r428/s0r428.xtc. Cannot calculate fstep.\n",
      "Projecting trajectories:  53%|███████████████████████████████████████                                  | 413/772 [00:30<00:26, 13.46it/s]2023-06-27 16:18:27,799 - moleculekit.molecule - WARNING - Different timesteps in Molecule.time for file /Users/toni/work/sh2-reconstructed/traj/s0r429/s0r429.xtc. Cannot calculate fstep.\n",
      "2023-06-27 16:18:27,808 - moleculekit.molecule - WARNING - Different timesteps in Molecule.time for file /Users/toni/work/sh2-reconstructed/traj/s0r430/s0r430.xtc. Cannot calculate fstep.\n",
      "2023-06-27 16:18:27,881 - moleculekit.molecule - WARNING - Different timesteps in Molecule.time for file /Users/toni/work/sh2-reconstructed/traj/s0r431/s0r431.xtc. Cannot calculate fstep.\n",
      "Projecting trajectories:  54%|███████████████████████████████████████▎                                 | 416/772 [00:30<00:23, 15.25it/s]2023-06-27 16:18:27,954 - moleculekit.molecule - WARNING - Different timesteps in Molecule.time for file /Users/toni/work/sh2-reconstructed/traj/s0r432/s0r432.xtc. Cannot calculate fstep.\n"
     ]
    },
    {
     "name": "stderr",
     "output_type": "stream",
     "text": [
      "2023-06-27 16:18:28,029 - moleculekit.molecule - WARNING - Different timesteps in Molecule.time for file /Users/toni/work/sh2-reconstructed/traj/s0r433/s0r433.xtc. Cannot calculate fstep.\n",
      "Projecting trajectories:  54%|███████████████████████████████████████▌                                 | 418/772 [00:30<00:23, 14.76it/s]2023-06-27 16:18:28,106 - moleculekit.molecule - WARNING - Different timesteps in Molecule.time for file /Users/toni/work/sh2-reconstructed/traj/s0r434/s0r434.xtc. Cannot calculate fstep.\n",
      "2023-06-27 16:18:28,190 - moleculekit.molecule - WARNING - Different timesteps in Molecule.time for file /Users/toni/work/sh2-reconstructed/traj/s0r435/s0r435.xtc. Cannot calculate fstep.\n",
      "Projecting trajectories:  54%|███████████████████████████████████████▋                                 | 420/772 [00:31<00:25, 14.01it/s]2023-06-27 16:18:28,275 - moleculekit.molecule - WARNING - Different timesteps in Molecule.time for file /Users/toni/work/sh2-reconstructed/traj/s0r436/s0r436.xtc. Cannot calculate fstep.\n",
      "2023-06-27 16:18:28,320 - moleculekit.molecule - WARNING - Different timesteps in Molecule.time for file /Users/toni/work/sh2-reconstructed/traj/s0r437/s0r437.xtc. Cannot calculate fstep.\n",
      "Projecting trajectories:  55%|███████████████████████████████████████▉                                 | 422/772 [00:31<00:24, 14.37it/s]2023-06-27 16:18:28,395 - moleculekit.molecule - WARNING - Different timesteps in Molecule.time for file /Users/toni/work/sh2-reconstructed/traj/s0r438/s0r438.xtc. Cannot calculate fstep.\n",
      "2023-06-27 16:18:28,470 - moleculekit.molecule - WARNING - Different timesteps in Molecule.time for file /Users/toni/work/sh2-reconstructed/traj/s0r439/s0r439.xtc. Cannot calculate fstep.\n",
      "Projecting trajectories:  55%|████████████████████████████████████████                                 | 424/772 [00:31<00:24, 14.05it/s]2023-06-27 16:18:28,545 - moleculekit.molecule - WARNING - Different timesteps in Molecule.time for file /Users/toni/work/sh2-reconstructed/traj/s0r440/s0r440.xtc. Cannot calculate fstep.\n",
      "2023-06-27 16:18:28,619 - moleculekit.molecule - WARNING - Different timesteps in Molecule.time for file /Users/toni/work/sh2-reconstructed/traj/s0r441/s0r441.xtc. Cannot calculate fstep.\n",
      "Projecting trajectories:  55%|████████████████████████████████████████▎                                | 426/772 [00:31<00:24, 13.86it/s]2023-06-27 16:18:28,694 - moleculekit.molecule - WARNING - Different timesteps in Molecule.time for file /Users/toni/work/sh2-reconstructed/traj/s0r442/s0r442.xtc. Cannot calculate fstep.\n",
      "2023-06-27 16:18:28,709 - moleculekit.molecule - WARNING - Different timesteps in Molecule.time for file /Users/toni/work/sh2-reconstructed/traj/s0r443/s0r443.xtc. Cannot calculate fstep.\n",
      "2023-06-27 16:18:28,783 - moleculekit.molecule - WARNING - Different timesteps in Molecule.time for file /Users/toni/work/sh2-reconstructed/traj/s0r444/s0r444.xtc. Cannot calculate fstep.\n",
      "Projecting trajectories:  56%|████████████████████████████████████████▌                                | 429/772 [00:31<00:22, 15.30it/s]2023-06-27 16:18:28,857 - moleculekit.molecule - WARNING - Different timesteps in Molecule.time for file /Users/toni/work/sh2-reconstructed/traj/s0r445/s0r445.xtc. Cannot calculate fstep.\n",
      "2023-06-27 16:18:28,933 - moleculekit.molecule - WARNING - Different timesteps in Molecule.time for file /Users/toni/work/sh2-reconstructed/traj/s0r446/s0r446.xtc. Cannot calculate fstep.\n",
      "Projecting trajectories:  56%|████████████████████████████████████████▊                                | 431/772 [00:31<00:23, 14.71it/s]2023-06-27 16:18:29,014 - moleculekit.molecule - WARNING - Different timesteps in Molecule.time for file /Users/toni/work/sh2-reconstructed/traj/s0r447/s0r447.xtc. Cannot calculate fstep.\n",
      "2023-06-27 16:18:29,096 - moleculekit.molecule - WARNING - Different timesteps in Molecule.time for file /Users/toni/work/sh2-reconstructed/traj/s0r449/s0r449.xtc. Cannot calculate fstep.\n",
      "Projecting trajectories:  56%|████████████████████████████████████████▉                                | 433/772 [00:32<00:24, 13.93it/s]2023-06-27 16:18:29,361 - moleculekit.molecule - WARNING - Different timesteps in Molecule.time for file /Users/toni/work/sh2-reconstructed/traj/s0r450/s0r450.xtc. Cannot calculate fstep.\n",
      "2023-06-27 16:18:29,434 - moleculekit.molecule - WARNING - Different timesteps in Molecule.time for file /Users/toni/work/sh2-reconstructed/traj/s0r451/s0r451.xtc. Cannot calculate fstep.\n",
      "Projecting trajectories:  56%|█████████████████████████████████████████▏                               | 435/772 [00:32<00:33, 10.07it/s]2023-06-27 16:18:29,509 - moleculekit.molecule - WARNING - Different timesteps in Molecule.time for file /Users/toni/work/sh2-reconstructed/traj/s0r452/s0r452.xtc. Cannot calculate fstep.\n",
      "2023-06-27 16:18:29,583 - moleculekit.molecule - WARNING - Different timesteps in Molecule.time for file /Users/toni/work/sh2-reconstructed/traj/s0r453/s0r453.xtc. Cannot calculate fstep.\n",
      "Projecting trajectories:  57%|█████████████████████████████████████████▎                               | 437/772 [00:32<00:30, 10.85it/s]2023-06-27 16:18:29,660 - moleculekit.molecule - WARNING - Different timesteps in Molecule.time for file /Users/toni/work/sh2-reconstructed/traj/s0r455/s0r455.xtc. Cannot calculate fstep.\n",
      "2023-06-27 16:18:29,736 - moleculekit.molecule - WARNING - Different timesteps in Molecule.time for file /Users/toni/work/sh2-reconstructed/traj/s0r456/s0r456.xtc. Cannot calculate fstep.\n",
      "Projecting trajectories:  57%|█████████████████████████████████████████▌                               | 439/772 [00:32<00:29, 11.42it/s]2023-06-27 16:18:29,811 - moleculekit.molecule - WARNING - Different timesteps in Molecule.time for file /Users/toni/work/sh2-reconstructed/traj/s0r457/s0r457.xtc. Cannot calculate fstep.\n",
      "2023-06-27 16:18:29,890 - moleculekit.molecule - WARNING - Different timesteps in Molecule.time for file /Users/toni/work/sh2-reconstructed/traj/s0r458/s0r458.xtc. Cannot calculate fstep.\n",
      "Projecting trajectories:  57%|█████████████████████████████████████████▋                               | 441/772 [00:32<00:27, 11.84it/s]2023-06-27 16:18:29,975 - moleculekit.molecule - WARNING - Different timesteps in Molecule.time for file /Users/toni/work/sh2-reconstructed/traj/s0r459/s0r459.xtc. Cannot calculate fstep.\n",
      "2023-06-27 16:18:30,058 - moleculekit.molecule - WARNING - Different timesteps in Molecule.time for file /Users/toni/work/sh2-reconstructed/traj/s0r460/s0r460.xtc. Cannot calculate fstep.\n",
      "Projecting trajectories:  57%|█████████████████████████████████████████▉                               | 443/772 [00:33<00:27, 11.87it/s]2023-06-27 16:18:30,141 - moleculekit.molecule - WARNING - Different timesteps in Molecule.time for file /Users/toni/work/sh2-reconstructed/traj/s0r462/s0r462.xtc. Cannot calculate fstep.\n",
      "2023-06-27 16:18:30,216 - moleculekit.molecule - WARNING - Different timesteps in Molecule.time for file /Users/toni/work/sh2-reconstructed/traj/s0r463/s0r463.xtc. Cannot calculate fstep.\n",
      "Projecting trajectories:  58%|██████████████████████████████████████████                               | 445/772 [00:33<00:27, 12.07it/s]2023-06-27 16:18:30,290 - moleculekit.molecule - WARNING - Different timesteps in Molecule.time for file /Users/toni/work/sh2-reconstructed/traj/s0r464/s0r464.xtc. Cannot calculate fstep.\n",
      "2023-06-27 16:18:30,372 - moleculekit.molecule - WARNING - Different timesteps in Molecule.time for file /Users/toni/work/sh2-reconstructed/traj/s0r465/s0r465.xtc. Cannot calculate fstep.\n",
      "Projecting trajectories:  58%|██████████████████████████████████████████▎                              | 447/772 [00:33<00:26, 12.31it/s]2023-06-27 16:18:30,445 - moleculekit.molecule - WARNING - Different timesteps in Molecule.time for file /Users/toni/work/sh2-reconstructed/traj/s0r466/s0r466.xtc. Cannot calculate fstep.\n",
      "2023-06-27 16:18:30,520 - moleculekit.molecule - WARNING - Different timesteps in Molecule.time for file /Users/toni/work/sh2-reconstructed/traj/s0r467/s0r467.xtc. Cannot calculate fstep.\n",
      "Projecting trajectories:  58%|██████████████████████████████████████████▍                              | 449/772 [00:33<00:25, 12.63it/s]2023-06-27 16:18:30,595 - moleculekit.molecule - WARNING - Different timesteps in Molecule.time for file /Users/toni/work/sh2-reconstructed/traj/s0r468/s0r468.xtc. Cannot calculate fstep.\n",
      "2023-06-27 16:18:30,669 - moleculekit.molecule - WARNING - Different timesteps in Molecule.time for file /Users/toni/work/sh2-reconstructed/traj/s0r469/s0r469.xtc. Cannot calculate fstep.\n",
      "Projecting trajectories:  58%|██████████████████████████████████████████▋                              | 451/772 [00:33<00:24, 12.87it/s]2023-06-27 16:18:30,744 - moleculekit.molecule - WARNING - Different timesteps in Molecule.time for file /Users/toni/work/sh2-reconstructed/traj/s0r470/s0r470.xtc. Cannot calculate fstep.\n",
      "2023-06-27 16:18:30,821 - moleculekit.molecule - WARNING - Different timesteps in Molecule.time for file /Users/toni/work/sh2-reconstructed/traj/s0r471/s0r471.xtc. Cannot calculate fstep.\n",
      "Projecting trajectories:  59%|██████████████████████████████████████████▊                              | 453/772 [00:33<00:24, 12.95it/s]2023-06-27 16:18:30,900 - moleculekit.molecule - WARNING - Different timesteps in Molecule.time for file /Users/toni/work/sh2-reconstructed/traj/s0r472/s0r472.xtc. Cannot calculate fstep.\n",
      "2023-06-27 16:18:30,974 - moleculekit.molecule - WARNING - Different timesteps in Molecule.time for file /Users/toni/work/sh2-reconstructed/traj/s0r474/s0r474.xtc. Cannot calculate fstep.\n",
      "Projecting trajectories:  59%|███████████████████████████████████████████                              | 455/772 [00:33<00:24, 12.99it/s]2023-06-27 16:18:31,047 - moleculekit.molecule - WARNING - Different timesteps in Molecule.time for file /Users/toni/work/sh2-reconstructed/traj/s0r475/s0r475.xtc. Cannot calculate fstep.\n",
      "2023-06-27 16:18:31,121 - moleculekit.molecule - WARNING - Different timesteps in Molecule.time for file /Users/toni/work/sh2-reconstructed/traj/s0r477/s0r477.xtc. Cannot calculate fstep.\n",
      "Projecting trajectories:  59%|███████████████████████████████████████████▏                             | 457/772 [00:34<00:23, 13.17it/s]2023-06-27 16:18:31,194 - moleculekit.molecule - WARNING - Different timesteps in Molecule.time for file /Users/toni/work/sh2-reconstructed/traj/s0r478/s0r478.xtc. Cannot calculate fstep.\n",
      "2023-06-27 16:18:31,268 - moleculekit.molecule - WARNING - Different timesteps in Molecule.time for file /Users/toni/work/sh2-reconstructed/traj/s0r479/s0r479.xtc. Cannot calculate fstep.\n",
      "Projecting trajectories:  59%|███████████████████████████████████████████▍                             | 459/772 [00:34<00:23, 13.29it/s]2023-06-27 16:18:31,343 - moleculekit.molecule - WARNING - Different timesteps in Molecule.time for file /Users/toni/work/sh2-reconstructed/traj/s0r480/s0r480.xtc. Cannot calculate fstep.\n",
      "2023-06-27 16:18:31,417 - moleculekit.molecule - WARNING - Different timesteps in Molecule.time for file /Users/toni/work/sh2-reconstructed/traj/s0r481/s0r481.xtc. Cannot calculate fstep.\n",
      "Projecting trajectories:  60%|███████████████████████████████████████████▌                             | 461/772 [00:34<00:23, 13.34it/s]2023-06-27 16:18:31,496 - moleculekit.molecule - WARNING - Different timesteps in Molecule.time for file /Users/toni/work/sh2-reconstructed/traj/s0r482/s0r482.xtc. Cannot calculate fstep.\n",
      "2023-06-27 16:18:31,573 - moleculekit.molecule - WARNING - Different timesteps in Molecule.time for file /Users/toni/work/sh2-reconstructed/traj/s0r483/s0r483.xtc. Cannot calculate fstep.\n",
      "Projecting trajectories:  60%|███████████████████████████████████████████▊                             | 463/772 [00:34<00:23, 13.19it/s]2023-06-27 16:18:31,653 - moleculekit.molecule - WARNING - Different timesteps in Molecule.time for file /Users/toni/work/sh2-reconstructed/traj/s0r484/s0r484.xtc. Cannot calculate fstep.\n",
      "2023-06-27 16:18:31,730 - moleculekit.molecule - WARNING - Different timesteps in Molecule.time for file /Users/toni/work/sh2-reconstructed/traj/s0r485/s0r485.xtc. Cannot calculate fstep.\n",
      "Projecting trajectories:  60%|███████████████████████████████████████████▉                             | 465/772 [00:34<00:23, 13.04it/s]2023-06-27 16:18:31,804 - moleculekit.molecule - WARNING - Different timesteps in Molecule.time for file /Users/toni/work/sh2-reconstructed/traj/s0r486/s0r486.xtc. Cannot calculate fstep.\n",
      "2023-06-27 16:18:31,879 - moleculekit.molecule - WARNING - Different timesteps in Molecule.time for file /Users/toni/work/sh2-reconstructed/traj/s0r487/s0r487.xtc. Cannot calculate fstep.\n",
      "Projecting trajectories:  60%|████████████████████████████████████████████▏                            | 467/772 [00:34<00:23, 13.15it/s]2023-06-27 16:18:31,954 - moleculekit.molecule - WARNING - Different timesteps in Molecule.time for file /Users/toni/work/sh2-reconstructed/traj/s0r488/s0r488.xtc. Cannot calculate fstep.\n",
      "2023-06-27 16:18:32,031 - moleculekit.molecule - WARNING - Different timesteps in Molecule.time for file /Users/toni/work/sh2-reconstructed/traj/s0r489/s0r489.xtc. Cannot calculate fstep.\n",
      "Projecting trajectories:  61%|████████████████████████████████████████████▎                            | 469/772 [00:34<00:23, 13.15it/s]2023-06-27 16:18:32,110 - moleculekit.molecule - WARNING - Different timesteps in Molecule.time for file /Users/toni/work/sh2-reconstructed/traj/s0r490/s0r490.xtc. Cannot calculate fstep.\n",
      "2023-06-27 16:18:32,187 - moleculekit.molecule - WARNING - Different timesteps in Molecule.time for file /Users/toni/work/sh2-reconstructed/traj/s0r491/s0r491.xtc. Cannot calculate fstep.\n",
      "Projecting trajectories:  61%|████████████████████████████████████████████▌                            | 471/772 [00:35<00:23, 13.04it/s]2023-06-27 16:18:32,263 - moleculekit.molecule - WARNING - Different timesteps in Molecule.time for file /Users/toni/work/sh2-reconstructed/traj/s0r492/s0r492.xtc. Cannot calculate fstep.\n",
      "2023-06-27 16:18:32,345 - moleculekit.molecule - WARNING - Different timesteps in Molecule.time for file /Users/toni/work/sh2-reconstructed/traj/s0r493/s0r493.xtc. Cannot calculate fstep.\n",
      "Projecting trajectories:  61%|████████████████████████████████████████████▋                            | 473/772 [00:35<00:23, 12.92it/s]2023-06-27 16:18:32,430 - moleculekit.molecule - WARNING - Different timesteps in Molecule.time for file /Users/toni/work/sh2-reconstructed/traj/s0r494/s0r494.xtc. Cannot calculate fstep.\n",
      "2023-06-27 16:18:32,518 - moleculekit.molecule - WARNING - Different timesteps in Molecule.time for file /Users/toni/work/sh2-reconstructed/traj/s0r495/s0r495.xtc. Cannot calculate fstep.\n",
      "Projecting trajectories:  62%|████████████████████████████████████████████▉                            | 475/772 [00:35<00:23, 12.49it/s]2023-06-27 16:18:32,594 - moleculekit.molecule - WARNING - Different timesteps in Molecule.time for file /Users/toni/work/sh2-reconstructed/traj/s0r496/s0r496.xtc. Cannot calculate fstep.\n",
      "2023-06-27 16:18:32,669 - moleculekit.molecule - WARNING - Different timesteps in Molecule.time for file /Users/toni/work/sh2-reconstructed/traj/s0r497/s0r497.xtc. Cannot calculate fstep.\n",
      "Projecting trajectories:  62%|█████████████████████████████████████████████                            | 477/772 [00:35<00:23, 12.70it/s]2023-06-27 16:18:32,744 - moleculekit.molecule - WARNING - Different timesteps in Molecule.time for file /Users/toni/work/sh2-reconstructed/traj/s0r498/s0r498.xtc. Cannot calculate fstep.\n",
      "2023-06-27 16:18:32,818 - moleculekit.molecule - WARNING - Different timesteps in Molecule.time for file /Users/toni/work/sh2-reconstructed/traj/s0r499/s0r499.xtc. Cannot calculate fstep.\n",
      "Projecting trajectories:  62%|█████████████████████████████████████████████▎                           | 479/772 [00:35<00:22, 12.92it/s]2023-06-27 16:18:32,893 - moleculekit.molecule - WARNING - Different timesteps in Molecule.time for file /Users/toni/work/sh2-reconstructed/traj/s0r500/s0r500.xtc. Cannot calculate fstep.\n",
      "2023-06-27 16:18:32,969 - moleculekit.molecule - WARNING - Different timesteps in Molecule.time for file /Users/toni/work/sh2-reconstructed/traj/s0r501/s0r501.xtc. Cannot calculate fstep.\n"
     ]
    },
    {
     "name": "stderr",
     "output_type": "stream",
     "text": [
      "Projecting trajectories:  62%|█████████████████████████████████████████████▍                           | 481/772 [00:35<00:22, 13.01it/s]2023-06-27 16:18:33,045 - moleculekit.molecule - WARNING - Different timesteps in Molecule.time for file /Users/toni/work/sh2-reconstructed/traj/s0r502/s0r502.xtc. Cannot calculate fstep.\n",
      "2023-06-27 16:18:33,128 - moleculekit.molecule - WARNING - Different timesteps in Molecule.time for file /Users/toni/work/sh2-reconstructed/traj/s0r503/s0r503.xtc. Cannot calculate fstep.\n",
      "Projecting trajectories:  63%|█████████████████████████████████████████████▋                           | 483/772 [00:36<00:22, 12.87it/s]2023-06-27 16:18:33,207 - moleculekit.molecule - WARNING - Different timesteps in Molecule.time for file /Users/toni/work/sh2-reconstructed/traj/s0r504/s0r504.xtc. Cannot calculate fstep.\n",
      "2023-06-27 16:18:33,288 - moleculekit.molecule - WARNING - Different timesteps in Molecule.time for file /Users/toni/work/sh2-reconstructed/traj/s0r506/s0r506.xtc. Cannot calculate fstep.\n",
      "Projecting trajectories:  63%|█████████████████████████████████████████████▊                           | 485/772 [00:36<00:22, 12.78it/s]2023-06-27 16:18:33,366 - moleculekit.molecule - WARNING - Different timesteps in Molecule.time for file /Users/toni/work/sh2-reconstructed/traj/s0r507/s0r507.xtc. Cannot calculate fstep.\n",
      "2023-06-27 16:18:33,444 - moleculekit.molecule - WARNING - Different timesteps in Molecule.time for file /Users/toni/work/sh2-reconstructed/traj/s0r508/s0r508.xtc. Cannot calculate fstep.\n",
      "Projecting trajectories:  63%|██████████████████████████████████████████████                           | 487/772 [00:36<00:22, 12.78it/s]2023-06-27 16:18:33,520 - moleculekit.molecule - WARNING - Different timesteps in Molecule.time for file /Users/toni/work/sh2-reconstructed/traj/s0r509/s0r509.xtc. Cannot calculate fstep.\n",
      "2023-06-27 16:18:33,596 - moleculekit.molecule - WARNING - Different timesteps in Molecule.time for file /Users/toni/work/sh2-reconstructed/traj/s0r510/s0r510.xtc. Cannot calculate fstep.\n",
      "Projecting trajectories:  63%|██████████████████████████████████████████████▏                          | 489/772 [00:36<00:21, 12.89it/s]2023-06-27 16:18:33,672 - moleculekit.molecule - WARNING - Different timesteps in Molecule.time for file /Users/toni/work/sh2-reconstructed/traj/s0r511/s0r511.xtc. Cannot calculate fstep.\n",
      "2023-06-27 16:18:33,749 - moleculekit.molecule - WARNING - Different timesteps in Molecule.time for file /Users/toni/work/sh2-reconstructed/traj/s0r512/s0r512.xtc. Cannot calculate fstep.\n",
      "Projecting trajectories:  64%|██████████████████████████████████████████████▍                          | 491/772 [00:36<00:21, 12.94it/s]2023-06-27 16:18:33,827 - moleculekit.molecule - WARNING - Different timesteps in Molecule.time for file /Users/toni/work/sh2-reconstructed/traj/s0r513/s0r513.xtc. Cannot calculate fstep.\n",
      "2023-06-27 16:18:33,906 - moleculekit.molecule - WARNING - Different timesteps in Molecule.time for file /Users/toni/work/sh2-reconstructed/traj/s0r514/s0r514.xtc. Cannot calculate fstep.\n",
      "Projecting trajectories:  64%|██████████████████████████████████████████████▌                          | 493/772 [00:36<00:21, 12.90it/s]2023-06-27 16:18:33,987 - moleculekit.molecule - WARNING - Different timesteps in Molecule.time for file /Users/toni/work/sh2-reconstructed/traj/s0r515/s0r515.xtc. Cannot calculate fstep.\n",
      "2023-06-27 16:18:34,067 - moleculekit.molecule - WARNING - Different timesteps in Molecule.time for file /Users/toni/work/sh2-reconstructed/traj/s0r516/s0r516.xtc. Cannot calculate fstep.\n",
      "Projecting trajectories:  64%|██████████████████████████████████████████████▊                          | 495/772 [00:37<00:21, 12.72it/s]2023-06-27 16:18:34,144 - moleculekit.molecule - WARNING - Different timesteps in Molecule.time for file /Users/toni/work/sh2-reconstructed/traj/s0r517/s0r517.xtc. Cannot calculate fstep.\n",
      "2023-06-27 16:18:34,218 - moleculekit.molecule - WARNING - Different timesteps in Molecule.time for file /Users/toni/work/sh2-reconstructed/traj/s0r518/s0r518.xtc. Cannot calculate fstep.\n",
      "Projecting trajectories:  64%|██████████████████████████████████████████████▉                          | 497/772 [00:37<00:21, 12.89it/s]2023-06-27 16:18:34,291 - moleculekit.molecule - WARNING - Different timesteps in Molecule.time for file /Users/toni/work/sh2-reconstructed/traj/s0r519/s0r519.xtc. Cannot calculate fstep.\n",
      "2023-06-27 16:18:34,365 - moleculekit.molecule - WARNING - Different timesteps in Molecule.time for file /Users/toni/work/sh2-reconstructed/traj/s0r520/s0r520.xtc. Cannot calculate fstep.\n",
      "Projecting trajectories:  65%|███████████████████████████████████████████████▏                         | 499/772 [00:37<00:20, 13.09it/s]2023-06-27 16:18:34,439 - moleculekit.molecule - WARNING - Different timesteps in Molecule.time for file /Users/toni/work/sh2-reconstructed/traj/s0r521/s0r521.xtc. Cannot calculate fstep.\n",
      "2023-06-27 16:18:34,509 - moleculekit.molecule - WARNING - Different timesteps in Molecule.time for file /Users/toni/work/sh2-reconstructed/traj/s0r522/s0r522.xtc. Cannot calculate fstep.\n",
      "Projecting trajectories:  65%|███████████████████████████████████████████████▎                         | 501/772 [00:37<00:20, 13.33it/s]2023-06-27 16:18:34,583 - moleculekit.molecule - WARNING - Different timesteps in Molecule.time for file /Users/toni/work/sh2-reconstructed/traj/s0r523/s0r523.xtc. Cannot calculate fstep.\n",
      "2023-06-27 16:18:34,660 - moleculekit.molecule - WARNING - Different timesteps in Molecule.time for file /Users/toni/work/sh2-reconstructed/traj/s0r524/s0r524.xtc. Cannot calculate fstep.\n",
      "Projecting trajectories:  65%|███████████████████████████████████████████████▌                         | 503/772 [00:37<00:20, 13.31it/s]2023-06-27 16:18:34,742 - moleculekit.molecule - WARNING - Different timesteps in Molecule.time for file /Users/toni/work/sh2-reconstructed/traj/s0r525/s0r525.xtc. Cannot calculate fstep.\n",
      "2023-06-27 16:18:34,823 - moleculekit.molecule - WARNING - Different timesteps in Molecule.time for file /Users/toni/work/sh2-reconstructed/traj/s0r526/s0r526.xtc. Cannot calculate fstep.\n",
      "Projecting trajectories:  65%|███████████████████████████████████████████████▊                         | 505/772 [00:37<00:20, 12.98it/s]2023-06-27 16:18:34,904 - moleculekit.molecule - WARNING - Different timesteps in Molecule.time for file /Users/toni/work/sh2-reconstructed/traj/s0r527/s0r527.xtc. Cannot calculate fstep.\n",
      "2023-06-27 16:18:34,978 - moleculekit.molecule - WARNING - Different timesteps in Molecule.time for file /Users/toni/work/sh2-reconstructed/traj/s0r528/s0r528.xtc. Cannot calculate fstep.\n",
      "Projecting trajectories:  66%|███████████████████████████████████████████████▉                         | 507/772 [00:37<00:20, 12.94it/s]2023-06-27 16:18:35,054 - moleculekit.molecule - WARNING - Different timesteps in Molecule.time for file /Users/toni/work/sh2-reconstructed/traj/s0r529/s0r529.xtc. Cannot calculate fstep.\n",
      "2023-06-27 16:18:35,128 - moleculekit.molecule - WARNING - Different timesteps in Molecule.time for file /Users/toni/work/sh2-reconstructed/traj/s0r530/s0r530.xtc. Cannot calculate fstep.\n",
      "Projecting trajectories:  66%|████████████████████████████████████████████████▏                        | 509/772 [00:38<00:20, 13.07it/s]2023-06-27 16:18:35,203 - moleculekit.molecule - WARNING - Different timesteps in Molecule.time for file /Users/toni/work/sh2-reconstructed/traj/s0r531/s0r531.xtc. Cannot calculate fstep.\n",
      "2023-06-27 16:18:35,276 - moleculekit.molecule - WARNING - Different timesteps in Molecule.time for file /Users/toni/work/sh2-reconstructed/traj/s0r532/s0r532.xtc. Cannot calculate fstep.\n",
      "Projecting trajectories:  66%|████████████████████████████████████████████████▎                        | 511/772 [00:38<00:19, 13.19it/s]2023-06-27 16:18:35,351 - moleculekit.molecule - WARNING - Different timesteps in Molecule.time for file /Users/toni/work/sh2-reconstructed/traj/s0r533/s0r533.xtc. Cannot calculate fstep.\n",
      "2023-06-27 16:18:35,425 - moleculekit.molecule - WARNING - Different timesteps in Molecule.time for file /Users/toni/work/sh2-reconstructed/traj/s0r534/s0r534.xtc. Cannot calculate fstep.\n"
     ]
    },
    {
     "name": "stderr",
     "output_type": "stream",
     "text": [
      "Projecting trajectories:  66%|████████████████████████████████████████████████▌                        | 513/772 [00:38<00:19, 13.28it/s]2023-06-27 16:18:35,501 - moleculekit.molecule - WARNING - Different timesteps in Molecule.time for file /Users/toni/work/sh2-reconstructed/traj/s0r535/s0r535.xtc. Cannot calculate fstep.\n",
      "2023-06-27 16:18:35,580 - moleculekit.molecule - WARNING - Different timesteps in Molecule.time for file /Users/toni/work/sh2-reconstructed/traj/s0r536/s0r536.xtc. Cannot calculate fstep.\n",
      "Projecting trajectories:  67%|████████████████████████████████████████████████▋                        | 515/772 [00:38<00:19, 13.16it/s]2023-06-27 16:18:35,659 - moleculekit.molecule - WARNING - Different timesteps in Molecule.time for file /Users/toni/work/sh2-reconstructed/traj/s0r537/s0r537.xtc. Cannot calculate fstep.\n",
      "2023-06-27 16:18:35,731 - moleculekit.molecule - WARNING - Different timesteps in Molecule.time for file /Users/toni/work/sh2-reconstructed/traj/s0r538/s0r538.xtc. Cannot calculate fstep.\n",
      "Projecting trajectories:  67%|████████████████████████████████████████████████▉                        | 517/772 [00:38<00:19, 13.17it/s]2023-06-27 16:18:35,806 - moleculekit.molecule - WARNING - Different timesteps in Molecule.time for file /Users/toni/work/sh2-reconstructed/traj/s0r539/s0r539.xtc. Cannot calculate fstep.\n",
      "2023-06-27 16:18:35,879 - moleculekit.molecule - WARNING - Different timesteps in Molecule.time for file /Users/toni/work/sh2-reconstructed/traj/s0r540/s0r540.xtc. Cannot calculate fstep.\n",
      "Projecting trajectories:  67%|█████████████████████████████████████████████████                        | 519/772 [00:38<00:19, 13.27it/s]2023-06-27 16:18:35,953 - moleculekit.molecule - WARNING - Different timesteps in Molecule.time for file /Users/toni/work/sh2-reconstructed/traj/s0r541/s0r541.xtc. Cannot calculate fstep.\n",
      "2023-06-27 16:18:36,027 - moleculekit.molecule - WARNING - Different timesteps in Molecule.time for file /Users/toni/work/sh2-reconstructed/traj/s0r542/s0r542.xtc. Cannot calculate fstep.\n",
      "Projecting trajectories:  67%|█████████████████████████████████████████████████▎                       | 521/772 [00:38<00:18, 13.35it/s]2023-06-27 16:18:36,060 - moleculekit.molecule - WARNING - Different timesteps in Molecule.time for file /Users/toni/work/sh2-reconstructed/traj/s0r543/s0r543.xtc. Cannot calculate fstep.\n",
      "2023-06-27 16:18:36,134 - moleculekit.molecule - WARNING - Different timesteps in Molecule.time for file /Users/toni/work/sh2-reconstructed/traj/s0r544/s0r544.xtc. Cannot calculate fstep.\n",
      "Projecting trajectories:  68%|█████████████████████████████████████████████████▍                       | 523/772 [00:39<00:17, 14.62it/s]2023-06-27 16:18:36,182 - moleculekit.molecule - WARNING - Different timesteps in Molecule.time for file /Users/toni/work/sh2-reconstructed/traj/s0r545/s0r545.xtc. Cannot calculate fstep.\n",
      "2023-06-27 16:18:36,255 - moleculekit.molecule - WARNING - Different timesteps in Molecule.time for file /Users/toni/work/sh2-reconstructed/traj/s0r546/s0r546.xtc. Cannot calculate fstep.\n",
      "Projecting trajectories:  68%|█████████████████████████████████████████████████▋                       | 525/772 [00:39<00:16, 15.12it/s]2023-06-27 16:18:36,332 - moleculekit.molecule - WARNING - Different timesteps in Molecule.time for file /Users/toni/work/sh2-reconstructed/traj/s0r547/s0r547.xtc. Cannot calculate fstep.\n",
      "2023-06-27 16:18:36,409 - moleculekit.molecule - WARNING - Different timesteps in Molecule.time for file /Users/toni/work/sh2-reconstructed/traj/s0r548/s0r548.xtc. Cannot calculate fstep.\n",
      "Projecting trajectories:  68%|█████████████████████████████████████████████████▊                       | 527/772 [00:39<00:17, 14.41it/s]2023-06-27 16:18:36,483 - moleculekit.molecule - WARNING - Different timesteps in Molecule.time for file /Users/toni/work/sh2-reconstructed/traj/s0r549/s0r549.xtc. Cannot calculate fstep.\n",
      "2023-06-27 16:18:36,556 - moleculekit.molecule - WARNING - Different timesteps in Molecule.time for file /Users/toni/work/sh2-reconstructed/traj/s0r550/s0r550.xtc. Cannot calculate fstep.\n",
      "Projecting trajectories:  69%|██████████████████████████████████████████████████                       | 529/772 [00:39<00:17, 14.18it/s]2023-06-27 16:18:36,630 - moleculekit.molecule - WARNING - Different timesteps in Molecule.time for file /Users/toni/work/sh2-reconstructed/traj/s0r551/s0r551.xtc. Cannot calculate fstep.\n",
      "2023-06-27 16:18:36,706 - moleculekit.molecule - WARNING - Different timesteps in Molecule.time for file /Users/toni/work/sh2-reconstructed/traj/s0r552/s0r552.xtc. Cannot calculate fstep.\n",
      "Projecting trajectories:  69%|██████████████████████████████████████████████████▏                      | 531/772 [00:39<00:17, 13.91it/s]2023-06-27 16:18:36,718 - moleculekit.molecule - WARNING - Different timesteps in Molecule.time for file /Users/toni/work/sh2-reconstructed/traj/s0r553/s0r553.xtc. Cannot calculate fstep.\n",
      "2023-06-27 16:18:36,791 - moleculekit.molecule - WARNING - Different timesteps in Molecule.time for file /Users/toni/work/sh2-reconstructed/traj/s0r554/s0r554.xtc. Cannot calculate fstep.\n",
      "2023-06-27 16:18:36,866 - moleculekit.molecule - WARNING - Different timesteps in Molecule.time for file /Users/toni/work/sh2-reconstructed/traj/s0r555/s0r555.xtc. Cannot calculate fstep.\n",
      "Projecting trajectories:  69%|██████████████████████████████████████████████████▍                      | 534/772 [00:39<00:15, 15.47it/s]2023-06-27 16:18:36,939 - moleculekit.molecule - WARNING - Different timesteps in Molecule.time for file /Users/toni/work/sh2-reconstructed/traj/s0r556/s0r556.xtc. Cannot calculate fstep.\n",
      "2023-06-27 16:18:37,016 - moleculekit.molecule - WARNING - Different timesteps in Molecule.time for file /Users/toni/work/sh2-reconstructed/traj/s0r557/s0r557.xtc. Cannot calculate fstep.\n",
      "Projecting trajectories:  69%|██████████████████████████████████████████████████▋                      | 536/772 [00:39<00:15, 14.82it/s]2023-06-27 16:18:37,096 - moleculekit.molecule - WARNING - Different timesteps in Molecule.time for file /Users/toni/work/sh2-reconstructed/traj/s0r558/s0r558.xtc. Cannot calculate fstep.\n",
      "2023-06-27 16:18:37,175 - moleculekit.molecule - WARNING - Different timesteps in Molecule.time for file /Users/toni/work/sh2-reconstructed/traj/s0r560/s0r560.xtc. Cannot calculate fstep.\n",
      "Projecting trajectories:  70%|██████████████████████████████████████████████████▊                      | 538/772 [00:40<00:16, 14.10it/s]2023-06-27 16:18:37,248 - moleculekit.molecule - WARNING - Different timesteps in Molecule.time for file /Users/toni/work/sh2-reconstructed/traj/s0r561/s0r561.xtc. Cannot calculate fstep.\n",
      "2023-06-27 16:18:37,321 - moleculekit.molecule - WARNING - Different timesteps in Molecule.time for file /Users/toni/work/sh2-reconstructed/traj/s0r562/s0r562.xtc. Cannot calculate fstep.\n",
      "Projecting trajectories:  70%|███████████████████████████████████████████████████                      | 540/772 [00:40<00:16, 13.99it/s]2023-06-27 16:18:37,395 - moleculekit.molecule - WARNING - Different timesteps in Molecule.time for file /Users/toni/work/sh2-reconstructed/traj/s0r563/s0r563.xtc. Cannot calculate fstep.\n",
      "2023-06-27 16:18:37,470 - moleculekit.molecule - WARNING - Different timesteps in Molecule.time for file /Users/toni/work/sh2-reconstructed/traj/s0r565/s0r565.xtc. Cannot calculate fstep.\n",
      "Projecting trajectories:  70%|███████████████████████████████████████████████████▎                     | 542/772 [00:40<00:16, 13.82it/s]2023-06-27 16:18:37,546 - moleculekit.molecule - WARNING - Different timesteps in Molecule.time for file /Users/toni/work/sh2-reconstructed/traj/s0r566/s0r566.xtc. Cannot calculate fstep.\n",
      "2023-06-27 16:18:37,622 - moleculekit.molecule - WARNING - Different timesteps in Molecule.time for file /Users/toni/work/sh2-reconstructed/traj/s0r567/s0r567.xtc. Cannot calculate fstep.\n",
      "Projecting trajectories:  70%|███████████████████████████████████████████████████▍                     | 544/772 [00:40<00:16, 13.63it/s]2023-06-27 16:18:37,697 - moleculekit.molecule - WARNING - Different timesteps in Molecule.time for file /Users/toni/work/sh2-reconstructed/traj/s0r568/s0r568.xtc. Cannot calculate fstep.\n"
     ]
    },
    {
     "name": "stderr",
     "output_type": "stream",
     "text": [
      "2023-06-27 16:18:37,777 - moleculekit.molecule - WARNING - Different timesteps in Molecule.time for file /Users/toni/work/sh2-reconstructed/traj/s0r569/s0r569.xtc. Cannot calculate fstep.\n",
      "Projecting trajectories:  71%|███████████████████████████████████████████████████▋                     | 546/772 [00:40<00:16, 13.39it/s]2023-06-27 16:18:37,863 - moleculekit.molecule - WARNING - Different timesteps in Molecule.time for file /Users/toni/work/sh2-reconstructed/traj/s0r570/s0r570.xtc. Cannot calculate fstep.\n",
      "2023-06-27 16:18:37,945 - moleculekit.molecule - WARNING - Different timesteps in Molecule.time for file /Users/toni/work/sh2-reconstructed/traj/s0r571/s0r571.xtc. Cannot calculate fstep.\n",
      "Projecting trajectories:  71%|███████████████████████████████████████████████████▊                     | 548/772 [00:40<00:17, 12.92it/s]2023-06-27 16:18:38,018 - moleculekit.molecule - WARNING - Different timesteps in Molecule.time for file /Users/toni/work/sh2-reconstructed/traj/s0r572/s0r572.xtc. Cannot calculate fstep.\n",
      "2023-06-27 16:18:38,094 - moleculekit.molecule - WARNING - Different timesteps in Molecule.time for file /Users/toni/work/sh2-reconstructed/traj/s0r573/s0r573.xtc. Cannot calculate fstep.\n",
      "Projecting trajectories:  71%|████████████████████████████████████████████████████                     | 550/772 [00:41<00:16, 13.06it/s]2023-06-27 16:18:38,171 - moleculekit.molecule - WARNING - Different timesteps in Molecule.time for file /Users/toni/work/sh2-reconstructed/traj/s0r574/s0r574.xtc. Cannot calculate fstep.\n",
      "2023-06-27 16:18:38,253 - moleculekit.molecule - WARNING - Different timesteps in Molecule.time for file /Users/toni/work/sh2-reconstructed/traj/s0r575/s0r575.xtc. Cannot calculate fstep.\n",
      "Projecting trajectories:  72%|████████████████████████████████████████████████████▏                    | 552/772 [00:41<00:17, 12.92it/s]2023-06-27 16:18:38,329 - moleculekit.molecule - WARNING - Different timesteps in Molecule.time for file /Users/toni/work/sh2-reconstructed/traj/s0r576/s0r576.xtc. Cannot calculate fstep.\n",
      "2023-06-27 16:18:38,406 - moleculekit.molecule - WARNING - Different timesteps in Molecule.time for file /Users/toni/work/sh2-reconstructed/traj/s0r577/s0r577.xtc. Cannot calculate fstep.\n",
      "Projecting trajectories:  72%|████████████████████████████████████████████████████▍                    | 554/772 [00:41<00:16, 12.96it/s]2023-06-27 16:18:38,483 - moleculekit.molecule - WARNING - Different timesteps in Molecule.time for file /Users/toni/work/sh2-reconstructed/traj/s0r578/s0r578.xtc. Cannot calculate fstep.\n",
      "2023-06-27 16:18:38,558 - moleculekit.molecule - WARNING - Different timesteps in Molecule.time for file /Users/toni/work/sh2-reconstructed/traj/s0r579/s0r579.xtc. Cannot calculate fstep.\n",
      "Projecting trajectories:  72%|████████████████████████████████████████████████████▌                    | 556/772 [00:41<00:16, 13.02it/s]2023-06-27 16:18:38,636 - moleculekit.molecule - WARNING - Different timesteps in Molecule.time for file /Users/toni/work/sh2-reconstructed/traj/s0r580/s0r580.xtc. Cannot calculate fstep.\n",
      "2023-06-27 16:18:38,716 - moleculekit.molecule - WARNING - Different timesteps in Molecule.time for file /Users/toni/work/sh2-reconstructed/traj/s0r581/s0r581.xtc. Cannot calculate fstep.\n",
      "Projecting trajectories:  72%|████████████████████████████████████████████████████▊                    | 558/772 [00:41<00:16, 12.91it/s]2023-06-27 16:18:38,798 - moleculekit.molecule - WARNING - Different timesteps in Molecule.time for file /Users/toni/work/sh2-reconstructed/traj/s0r582/s0r582.xtc. Cannot calculate fstep.\n",
      "2023-06-27 16:18:38,876 - moleculekit.molecule - WARNING - Different timesteps in Molecule.time for file /Users/toni/work/sh2-reconstructed/traj/s0r583/s0r583.xtc. Cannot calculate fstep.\n",
      "Projecting trajectories:  73%|████████████████████████████████████████████████████▉                    | 560/772 [00:41<00:16, 12.80it/s]2023-06-27 16:18:38,953 - moleculekit.molecule - WARNING - Different timesteps in Molecule.time for file /Users/toni/work/sh2-reconstructed/traj/s0r584/s0r584.xtc. Cannot calculate fstep.\n",
      "2023-06-27 16:18:39,031 - moleculekit.molecule - WARNING - Different timesteps in Molecule.time for file /Users/toni/work/sh2-reconstructed/traj/s0r585/s0r585.xtc. Cannot calculate fstep.\n",
      "Projecting trajectories:  73%|█████████████████████████████████████████████████████▏                   | 562/772 [00:41<00:16, 12.82it/s]2023-06-27 16:18:39,109 - moleculekit.molecule - WARNING - Different timesteps in Molecule.time for file /Users/toni/work/sh2-reconstructed/traj/s0r586/s0r586.xtc. Cannot calculate fstep.\n",
      "2023-06-27 16:18:39,186 - moleculekit.molecule - WARNING - Different timesteps in Molecule.time for file /Users/toni/work/sh2-reconstructed/traj/s0r587/s0r587.xtc. Cannot calculate fstep.\n",
      "Projecting trajectories:  73%|█████████████████████████████████████████████████████▎                   | 564/772 [00:42<00:16, 12.83it/s]2023-06-27 16:18:39,264 - moleculekit.molecule - WARNING - Different timesteps in Molecule.time for file /Users/toni/work/sh2-reconstructed/traj/s0r588/s0r588.xtc. Cannot calculate fstep.\n",
      "2023-06-27 16:18:39,301 - moleculekit.molecule - WARNING - Different timesteps in Molecule.time for file /Users/toni/work/sh2-reconstructed/traj/s0r590/s0r590.xtc. Cannot calculate fstep.\n",
      "Projecting trajectories:  73%|█████████████████████████████████████████████████████▌                   | 566/772 [00:42<00:14, 13.92it/s]2023-06-27 16:18:39,379 - moleculekit.molecule - WARNING - Different timesteps in Molecule.time for file /Users/toni/work/sh2-reconstructed/traj/s0r591/s0r591.xtc. Cannot calculate fstep.\n",
      "2023-06-27 16:18:39,461 - moleculekit.molecule - WARNING - Different timesteps in Molecule.time for file /Users/toni/work/sh2-reconstructed/traj/s0r592/s0r592.xtc. Cannot calculate fstep.\n",
      "Projecting trajectories:  74%|█████████████████████████████████████████████████████▋                   | 568/772 [00:42<00:15, 13.47it/s]2023-06-27 16:18:39,545 - moleculekit.molecule - WARNING - Different timesteps in Molecule.time for file /Users/toni/work/sh2-reconstructed/traj/s0r593/s0r593.xtc. Cannot calculate fstep.\n",
      "2023-06-27 16:18:39,628 - moleculekit.molecule - WARNING - Different timesteps in Molecule.time for file /Users/toni/work/sh2-reconstructed/traj/s0r594/s0r594.xtc. Cannot calculate fstep.\n",
      "Projecting trajectories:  74%|█████████████████████████████████████████████████████▉                   | 570/772 [00:42<00:15, 12.99it/s]2023-06-27 16:18:39,704 - moleculekit.molecule - WARNING - Different timesteps in Molecule.time for file /Users/toni/work/sh2-reconstructed/traj/s0r595/s0r595.xtc. Cannot calculate fstep.\n",
      "2023-06-27 16:18:39,778 - moleculekit.molecule - WARNING - Different timesteps in Molecule.time for file /Users/toni/work/sh2-reconstructed/traj/s0r596/s0r596.xtc. Cannot calculate fstep.\n",
      "Projecting trajectories:  74%|██████████████████████████████████████████████████████                   | 572/772 [00:42<00:15, 13.10it/s]2023-06-27 16:18:39,853 - moleculekit.molecule - WARNING - Different timesteps in Molecule.time for file /Users/toni/work/sh2-reconstructed/traj/s0r597/s0r597.xtc. Cannot calculate fstep.\n",
      "2023-06-27 16:18:39,928 - moleculekit.molecule - WARNING - Different timesteps in Molecule.time for file /Users/toni/work/sh2-reconstructed/traj/s0r598/s0r598.xtc. Cannot calculate fstep.\n",
      "Projecting trajectories:  74%|██████████████████████████████████████████████████████▎                  | 574/772 [00:42<00:15, 13.16it/s]2023-06-27 16:18:40,002 - moleculekit.molecule - WARNING - Different timesteps in Molecule.time for file /Users/toni/work/sh2-reconstructed/traj/s0r599/s0r599.xtc. Cannot calculate fstep.\n",
      "2023-06-27 16:18:40,077 - moleculekit.molecule - WARNING - Different timesteps in Molecule.time for file /Users/toni/work/sh2-reconstructed/traj/s0r600/s0r600.xtc. Cannot calculate fstep.\n",
      "Projecting trajectories:  75%|██████████████████████████████████████████████████████▍                  | 576/772 [00:43<00:14, 13.25it/s]2023-06-27 16:18:40,152 - moleculekit.molecule - WARNING - Different timesteps in Molecule.time for file /Users/toni/work/sh2-reconstructed/traj/s0r601/s0r601.xtc. Cannot calculate fstep.\n"
     ]
    },
    {
     "name": "stderr",
     "output_type": "stream",
     "text": [
      "2023-06-27 16:18:40,231 - moleculekit.molecule - WARNING - Different timesteps in Molecule.time for file /Users/toni/work/sh2-reconstructed/traj/s0r602/s0r602.xtc. Cannot calculate fstep.\n",
      "Projecting trajectories:  75%|██████████████████████████████████████████████████████▋                  | 578/772 [00:43<00:14, 13.17it/s]2023-06-27 16:18:40,312 - moleculekit.molecule - WARNING - Different timesteps in Molecule.time for file /Users/toni/work/sh2-reconstructed/traj/s0r603/s0r603.xtc. Cannot calculate fstep.\n",
      "2023-06-27 16:18:40,391 - moleculekit.molecule - WARNING - Different timesteps in Molecule.time for file /Users/toni/work/sh2-reconstructed/traj/s0r604/s0r604.xtc. Cannot calculate fstep.\n",
      "Projecting trajectories:  75%|██████████████████████████████████████████████████████▊                  | 580/772 [00:43<00:14, 12.94it/s]2023-06-27 16:18:40,467 - moleculekit.molecule - WARNING - Different timesteps in Molecule.time for file /Users/toni/work/sh2-reconstructed/traj/s0r605/s0r605.xtc. Cannot calculate fstep.\n",
      "2023-06-27 16:18:40,542 - moleculekit.molecule - WARNING - Different timesteps in Molecule.time for file /Users/toni/work/sh2-reconstructed/traj/s0r606/s0r606.xtc. Cannot calculate fstep.\n",
      "Projecting trajectories:  75%|███████████████████████████████████████████████████████                  | 582/772 [00:43<00:14, 13.04it/s]2023-06-27 16:18:40,619 - moleculekit.molecule - WARNING - Different timesteps in Molecule.time for file /Users/toni/work/sh2-reconstructed/traj/s0r607/s0r607.xtc. Cannot calculate fstep.\n",
      "2023-06-27 16:18:40,694 - moleculekit.molecule - WARNING - Different timesteps in Molecule.time for file /Users/toni/work/sh2-reconstructed/traj/s0r608/s0r608.xtc. Cannot calculate fstep.\n",
      "Projecting trajectories:  76%|███████████████████████████████████████████████████████▏                 | 584/772 [00:43<00:14, 13.07it/s]2023-06-27 16:18:40,771 - moleculekit.molecule - WARNING - Different timesteps in Molecule.time for file /Users/toni/work/sh2-reconstructed/traj/s0r609/s0r609.xtc. Cannot calculate fstep.\n",
      "2023-06-27 16:18:40,838 - moleculekit.molecule - WARNING - Different timesteps in Molecule.time for file /Users/toni/work/sh2-reconstructed/traj/s0r610/s0r610.xtc. Cannot calculate fstep.\n",
      "Projecting trajectories:  76%|███████████████████████████████████████████████████████▍                 | 586/772 [00:43<00:13, 13.30it/s]2023-06-27 16:18:40,914 - moleculekit.molecule - WARNING - Different timesteps in Molecule.time for file /Users/toni/work/sh2-reconstructed/traj/s0r611/s0r611.xtc. Cannot calculate fstep.\n",
      "2023-06-27 16:18:40,992 - moleculekit.molecule - WARNING - Different timesteps in Molecule.time for file /Users/toni/work/sh2-reconstructed/traj/s0r612/s0r612.xtc. Cannot calculate fstep.\n",
      "Projecting trajectories:  76%|███████████████████████████████████████████████████████▌                 | 588/772 [00:43<00:13, 13.21it/s]2023-06-27 16:18:41,074 - moleculekit.molecule - WARNING - Different timesteps in Molecule.time for file /Users/toni/work/sh2-reconstructed/traj/s0r613/s0r613.xtc. Cannot calculate fstep.\n",
      "2023-06-27 16:18:41,154 - moleculekit.molecule - WARNING - Different timesteps in Molecule.time for file /Users/toni/work/sh2-reconstructed/traj/s0r614/s0r614.xtc. Cannot calculate fstep.\n",
      "Projecting trajectories:  76%|███████████████████████████████████████████████████████▊                 | 590/772 [00:44<00:14, 12.96it/s]2023-06-27 16:18:41,228 - moleculekit.molecule - WARNING - Different timesteps in Molecule.time for file /Users/toni/work/sh2-reconstructed/traj/s0r615/s0r615.xtc. Cannot calculate fstep.\n",
      "2023-06-27 16:18:41,303 - moleculekit.molecule - WARNING - Different timesteps in Molecule.time for file /Users/toni/work/sh2-reconstructed/traj/s0r616/s0r616.xtc. Cannot calculate fstep.\n",
      "Projecting trajectories:  77%|███████████████████████████████████████████████████████▉                 | 592/772 [00:44<00:13, 13.09it/s]2023-06-27 16:18:41,378 - moleculekit.molecule - WARNING - Different timesteps in Molecule.time for file /Users/toni/work/sh2-reconstructed/traj/s0r617/s0r617.xtc. Cannot calculate fstep.\n",
      "2023-06-27 16:18:41,453 - moleculekit.molecule - WARNING - Different timesteps in Molecule.time for file /Users/toni/work/sh2-reconstructed/traj/s0r618/s0r618.xtc. Cannot calculate fstep.\n",
      "Projecting trajectories:  77%|████████████████████████████████████████████████████████▏                | 594/772 [00:44<00:13, 13.15it/s]2023-06-27 16:18:41,528 - moleculekit.molecule - WARNING - Different timesteps in Molecule.time for file /Users/toni/work/sh2-reconstructed/traj/s0r619/s0r619.xtc. Cannot calculate fstep.\n",
      "2023-06-27 16:18:41,602 - moleculekit.molecule - WARNING - Different timesteps in Molecule.time for file /Users/toni/work/sh2-reconstructed/traj/s0r620/s0r620.xtc. Cannot calculate fstep.\n",
      "Projecting trajectories:  77%|████████████████████████████████████████████████████████▎                | 596/772 [00:44<00:13, 13.23it/s]2023-06-27 16:18:41,678 - moleculekit.molecule - WARNING - Different timesteps in Molecule.time for file /Users/toni/work/sh2-reconstructed/traj/s0r621/s0r621.xtc. Cannot calculate fstep.\n",
      "2023-06-27 16:18:41,755 - moleculekit.molecule - WARNING - Different timesteps in Molecule.time for file /Users/toni/work/sh2-reconstructed/traj/s0r622/s0r622.xtc. Cannot calculate fstep.\n",
      "Projecting trajectories:  77%|████████████████████████████████████████████████████████▌                | 598/772 [00:44<00:13, 13.19it/s]2023-06-27 16:18:41,837 - moleculekit.molecule - WARNING - Different timesteps in Molecule.time for file /Users/toni/work/sh2-reconstructed/traj/s0r623/s0r623.xtc. Cannot calculate fstep.\n",
      "2023-06-27 16:18:41,920 - moleculekit.molecule - WARNING - Different timesteps in Molecule.time for file /Users/toni/work/sh2-reconstructed/traj/s0r624/s0r624.xtc. Cannot calculate fstep.\n",
      "Projecting trajectories:  78%|████████████████████████████████████████████████████████▋                | 600/772 [00:44<00:13, 12.85it/s]2023-06-27 16:18:42,004 - moleculekit.molecule - WARNING - Different timesteps in Molecule.time for file /Users/toni/work/sh2-reconstructed/traj/s0r625/s0r625.xtc. Cannot calculate fstep.\n",
      "2023-06-27 16:18:42,078 - moleculekit.molecule - WARNING - Different timesteps in Molecule.time for file /Users/toni/work/sh2-reconstructed/traj/s0r626/s0r626.xtc. Cannot calculate fstep.\n",
      "Projecting trajectories:  78%|████████████████████████████████████████████████████████▉                | 602/772 [00:45<00:13, 12.79it/s]2023-06-27 16:18:42,153 - moleculekit.molecule - WARNING - Different timesteps in Molecule.time for file /Users/toni/work/sh2-reconstructed/traj/s0r627/s0r627.xtc. Cannot calculate fstep.\n",
      "2023-06-27 16:18:42,218 - moleculekit.molecule - WARNING - Different timesteps in Molecule.time for file /Users/toni/work/sh2-reconstructed/traj/s0r628/s0r628.xtc. Cannot calculate fstep.\n",
      "Projecting trajectories:  78%|█████████████████████████████████████████████████████████                | 604/772 [00:45<00:12, 13.21it/s]2023-06-27 16:18:42,297 - moleculekit.molecule - WARNING - Different timesteps in Molecule.time for file /Users/toni/work/sh2-reconstructed/traj/s0r629/s0r629.xtc. Cannot calculate fstep.\n",
      "2023-06-27 16:18:42,373 - moleculekit.molecule - WARNING - Different timesteps in Molecule.time for file /Users/toni/work/sh2-reconstructed/traj/s0r630/s0r630.xtc. Cannot calculate fstep.\n",
      "Projecting trajectories:  78%|█████████████████████████████████████████████████████████▎               | 606/772 [00:45<00:12, 13.10it/s]2023-06-27 16:18:42,450 - moleculekit.molecule - WARNING - Different timesteps in Molecule.time for file /Users/toni/work/sh2-reconstructed/traj/s0r631/s0r631.xtc. Cannot calculate fstep.\n",
      "2023-06-27 16:18:42,526 - moleculekit.molecule - WARNING - Different timesteps in Molecule.time for file /Users/toni/work/sh2-reconstructed/traj/s0r632/s0r632.xtc. Cannot calculate fstep.\n",
      "Projecting trajectories:  79%|█████████████████████████████████████████████████████████▍               | 608/772 [00:45<00:12, 13.10it/s]2023-06-27 16:18:42,606 - moleculekit.molecule - WARNING - Different timesteps in Molecule.time for file /Users/toni/work/sh2-reconstructed/traj/s0r633/s0r633.xtc. Cannot calculate fstep.\n"
     ]
    },
    {
     "name": "stderr",
     "output_type": "stream",
     "text": [
      "2023-06-27 16:18:42,688 - moleculekit.molecule - WARNING - Different timesteps in Molecule.time for file /Users/toni/work/sh2-reconstructed/traj/s0r634/s0r634.xtc. Cannot calculate fstep.\n",
      "Projecting trajectories:  79%|█████████████████████████████████████████████████████████▋               | 610/772 [00:45<00:12, 12.86it/s]2023-06-27 16:18:42,770 - moleculekit.molecule - WARNING - Different timesteps in Molecule.time for file /Users/toni/work/sh2-reconstructed/traj/s0r635/s0r635.xtc. Cannot calculate fstep.\n",
      "2023-06-27 16:18:42,846 - moleculekit.molecule - WARNING - Different timesteps in Molecule.time for file /Users/toni/work/sh2-reconstructed/traj/s0r636/s0r636.xtc. Cannot calculate fstep.\n",
      "Projecting trajectories:  79%|█████████████████████████████████████████████████████████▊               | 612/772 [00:45<00:12, 12.81it/s]2023-06-27 16:18:42,923 - moleculekit.molecule - WARNING - Different timesteps in Molecule.time for file /Users/toni/work/sh2-reconstructed/traj/s0r637/s0r637.xtc. Cannot calculate fstep.\n",
      "2023-06-27 16:18:42,997 - moleculekit.molecule - WARNING - Different timesteps in Molecule.time for file /Users/toni/work/sh2-reconstructed/traj/s0r638/s0r638.xtc. Cannot calculate fstep.\n",
      "Projecting trajectories:  80%|██████████████████████████████████████████████████████████               | 614/772 [00:45<00:12, 12.93it/s]2023-06-27 16:18:43,072 - moleculekit.molecule - WARNING - Different timesteps in Molecule.time for file /Users/toni/work/sh2-reconstructed/traj/s0r639/s0r639.xtc. Cannot calculate fstep.\n",
      "2023-06-27 16:18:43,147 - moleculekit.molecule - WARNING - Different timesteps in Molecule.time for file /Users/toni/work/sh2-reconstructed/traj/s0r640/s0r640.xtc. Cannot calculate fstep.\n",
      "Projecting trajectories:  80%|██████████████████████████████████████████████████████████▏              | 616/772 [00:46<00:11, 13.05it/s]2023-06-27 16:18:43,221 - moleculekit.molecule - WARNING - Different timesteps in Molecule.time for file /Users/toni/work/sh2-reconstructed/traj/s0r641/s0r641.xtc. Cannot calculate fstep.\n",
      "2023-06-27 16:18:43,295 - moleculekit.molecule - WARNING - Different timesteps in Molecule.time for file /Users/toni/work/sh2-reconstructed/traj/s0r642/s0r642.xtc. Cannot calculate fstep.\n",
      "Projecting trajectories:  80%|██████████████████████████████████████████████████████████▍              | 618/772 [00:46<00:11, 13.18it/s]2023-06-27 16:18:43,373 - moleculekit.molecule - WARNING - Different timesteps in Molecule.time for file /Users/toni/work/sh2-reconstructed/traj/s0r643/s0r643.xtc. Cannot calculate fstep.\n",
      "2023-06-27 16:18:43,429 - moleculekit.molecule - WARNING - Different timesteps in Molecule.time for file /Users/toni/work/sh2-reconstructed/traj/s0r644/s0r644.xtc. Cannot calculate fstep.\n",
      "Projecting trajectories:  80%|██████████████████████████████████████████████████████████▋              | 620/772 [00:46<00:11, 13.67it/s]2023-06-27 16:18:43,510 - moleculekit.molecule - WARNING - Different timesteps in Molecule.time for file /Users/toni/work/sh2-reconstructed/traj/s0r645/s0r645.xtc. Cannot calculate fstep.\n",
      "2023-06-27 16:18:43,591 - moleculekit.molecule - WARNING - Different timesteps in Molecule.time for file /Users/toni/work/sh2-reconstructed/traj/s0r646/s0r646.xtc. Cannot calculate fstep.\n",
      "Projecting trajectories:  81%|██████████████████████████████████████████████████████████▊              | 622/772 [00:46<00:11, 13.23it/s]2023-06-27 16:18:43,667 - moleculekit.molecule - WARNING - Different timesteps in Molecule.time for file /Users/toni/work/sh2-reconstructed/traj/s0r647/s0r647.xtc. Cannot calculate fstep.\n",
      "2023-06-27 16:18:43,741 - moleculekit.molecule - WARNING - Different timesteps in Molecule.time for file /Users/toni/work/sh2-reconstructed/traj/s0r648/s0r648.xtc. Cannot calculate fstep.\n",
      "Projecting trajectories:  81%|███████████████████████████████████████████████████████████              | 624/772 [00:46<00:11, 13.28it/s]2023-06-27 16:18:43,816 - moleculekit.molecule - WARNING - Different timesteps in Molecule.time for file /Users/toni/work/sh2-reconstructed/traj/s0r649/s0r649.xtc. Cannot calculate fstep.\n",
      "2023-06-27 16:18:43,890 - moleculekit.molecule - WARNING - Different timesteps in Molecule.time for file /Users/toni/work/sh2-reconstructed/traj/s0r650/s0r650.xtc. Cannot calculate fstep.\n",
      "Projecting trajectories:  81%|███████████████████████████████████████████████████████████▏             | 626/772 [00:46<00:10, 13.32it/s]2023-06-27 16:18:43,964 - moleculekit.molecule - WARNING - Different timesteps in Molecule.time for file /Users/toni/work/sh2-reconstructed/traj/s0r651/s0r651.xtc. Cannot calculate fstep.\n",
      "2023-06-27 16:18:44,038 - moleculekit.molecule - WARNING - Different timesteps in Molecule.time for file /Users/toni/work/sh2-reconstructed/traj/s0r652/s0r652.xtc. Cannot calculate fstep.\n",
      "Projecting trajectories:  81%|███████████████████████████████████████████████████████████▍             | 628/772 [00:46<00:10, 13.38it/s]2023-06-27 16:18:44,107 - moleculekit.molecule - WARNING - Different timesteps in Molecule.time for file /Users/toni/work/sh2-reconstructed/traj/s0r653/s0r653.xtc. Cannot calculate fstep.\n",
      "2023-06-27 16:18:44,187 - moleculekit.molecule - WARNING - Different timesteps in Molecule.time for file /Users/toni/work/sh2-reconstructed/traj/s0r654/s0r654.xtc. Cannot calculate fstep.\n",
      "Projecting trajectories:  82%|███████████████████████████████████████████████████████████▌             | 630/772 [00:47<00:10, 13.37it/s]2023-06-27 16:18:44,268 - moleculekit.molecule - WARNING - Different timesteps in Molecule.time for file /Users/toni/work/sh2-reconstructed/traj/s0r655/s0r655.xtc. Cannot calculate fstep.\n",
      "2023-06-27 16:18:44,347 - moleculekit.molecule - WARNING - Different timesteps in Molecule.time for file /Users/toni/work/sh2-reconstructed/traj/s0r656/s0r656.xtc. Cannot calculate fstep.\n",
      "Projecting trajectories:  82%|███████████████████████████████████████████████████████████▊             | 632/772 [00:47<00:10, 13.10it/s]2023-06-27 16:18:44,421 - moleculekit.molecule - WARNING - Different timesteps in Molecule.time for file /Users/toni/work/sh2-reconstructed/traj/s0r657/s0r657.xtc. Cannot calculate fstep.\n",
      "2023-06-27 16:18:44,495 - moleculekit.molecule - WARNING - Different timesteps in Molecule.time for file /Users/toni/work/sh2-reconstructed/traj/s0r658/s0r658.xtc. Cannot calculate fstep.\n",
      "Projecting trajectories:  82%|███████████████████████████████████████████████████████████▉             | 634/772 [00:47<00:10, 13.22it/s]2023-06-27 16:18:44,570 - moleculekit.molecule - WARNING - Different timesteps in Molecule.time for file /Users/toni/work/sh2-reconstructed/traj/s0r659/s0r659.xtc. Cannot calculate fstep.\n",
      "2023-06-27 16:18:44,644 - moleculekit.molecule - WARNING - Different timesteps in Molecule.time for file /Users/toni/work/sh2-reconstructed/traj/s0r660/s0r660.xtc. Cannot calculate fstep.\n",
      "Projecting trajectories:  82%|████████████████████████████████████████████████████████████▏            | 636/772 [00:47<00:10, 13.29it/s]2023-06-27 16:18:44,720 - moleculekit.molecule - WARNING - Different timesteps in Molecule.time for file /Users/toni/work/sh2-reconstructed/traj/s0r661/s0r661.xtc. Cannot calculate fstep.\n",
      "2023-06-27 16:18:44,795 - moleculekit.molecule - WARNING - Different timesteps in Molecule.time for file /Users/toni/work/sh2-reconstructed/traj/s0r662/s0r662.xtc. Cannot calculate fstep.\n",
      "Projecting trajectories:  83%|████████████████████████████████████████████████████████████▎            | 638/772 [00:47<00:10, 13.27it/s]2023-06-27 16:18:44,858 - moleculekit.molecule - WARNING - Different timesteps in Molecule.time for file /Users/toni/work/sh2-reconstructed/traj/s0r663/s0r663.xtc. Cannot calculate fstep.\n",
      "2023-06-27 16:18:44,946 - moleculekit.molecule - WARNING - Different timesteps in Molecule.time for file /Users/toni/work/sh2-reconstructed/traj/s0r665/s0r665.xtc. Cannot calculate fstep.\n",
      "Projecting trajectories:  83%|████████████████████████████████████████████████████████████▌            | 640/772 [00:47<00:09, 13.26it/s]2023-06-27 16:18:45,030 - moleculekit.molecule - WARNING - Different timesteps in Molecule.time for file /Users/toni/work/sh2-reconstructed/traj/s0r666/s0r666.xtc. Cannot calculate fstep.\n"
     ]
    },
    {
     "name": "stderr",
     "output_type": "stream",
     "text": [
      "2023-06-27 16:18:45,114 - moleculekit.molecule - WARNING - Different timesteps in Molecule.time for file /Users/toni/work/sh2-reconstructed/traj/s0r667/s0r667.xtc. Cannot calculate fstep.\n",
      "Projecting trajectories:  83%|████████████████████████████████████████████████████████████▋            | 642/772 [00:48<00:10, 12.84it/s]2023-06-27 16:18:45,192 - moleculekit.molecule - WARNING - Different timesteps in Molecule.time for file /Users/toni/work/sh2-reconstructed/traj/s0r668/s0r668.xtc. Cannot calculate fstep.\n",
      "2023-06-27 16:18:45,270 - moleculekit.molecule - WARNING - Different timesteps in Molecule.time for file /Users/toni/work/sh2-reconstructed/traj/s0r669/s0r669.xtc. Cannot calculate fstep.\n",
      "Projecting trajectories:  83%|████████████████████████████████████████████████████████████▉            | 644/772 [00:48<00:09, 12.83it/s]2023-06-27 16:18:45,348 - moleculekit.molecule - WARNING - Different timesteps in Molecule.time for file /Users/toni/work/sh2-reconstructed/traj/s0r670/s0r670.xtc. Cannot calculate fstep.\n",
      "2023-06-27 16:18:45,429 - moleculekit.molecule - WARNING - Different timesteps in Molecule.time for file /Users/toni/work/sh2-reconstructed/traj/s0r671/s0r671.xtc. Cannot calculate fstep.\n",
      "Projecting trajectories:  84%|█████████████████████████████████████████████████████████████            | 646/772 [00:48<00:09, 12.75it/s]2023-06-27 16:18:45,507 - moleculekit.molecule - WARNING - Different timesteps in Molecule.time for file /Users/toni/work/sh2-reconstructed/traj/s0r672/s0r672.xtc. Cannot calculate fstep.\n",
      "2023-06-27 16:18:45,583 - moleculekit.molecule - WARNING - Different timesteps in Molecule.time for file /Users/toni/work/sh2-reconstructed/traj/s0r673/s0r673.xtc. Cannot calculate fstep.\n",
      "Projecting trajectories:  84%|█████████████████████████████████████████████████████████████▎           | 648/772 [00:48<00:09, 12.82it/s]2023-06-27 16:18:45,660 - moleculekit.molecule - WARNING - Different timesteps in Molecule.time for file /Users/toni/work/sh2-reconstructed/traj/s0r674/s0r674.xtc. Cannot calculate fstep.\n",
      "2023-06-27 16:18:45,742 - moleculekit.molecule - WARNING - Different timesteps in Molecule.time for file /Users/toni/work/sh2-reconstructed/traj/s0r675/s0r675.xtc. Cannot calculate fstep.\n",
      "Projecting trajectories:  84%|█████████████████████████████████████████████████████████████▍           | 650/772 [00:48<00:09, 12.75it/s]2023-06-27 16:18:45,823 - moleculekit.molecule - WARNING - Different timesteps in Molecule.time for file /Users/toni/work/sh2-reconstructed/traj/s0r676/s0r676.xtc. Cannot calculate fstep.\n",
      "2023-06-27 16:18:45,903 - moleculekit.molecule - WARNING - Different timesteps in Molecule.time for file /Users/toni/work/sh2-reconstructed/traj/s0r677/s0r677.xtc. Cannot calculate fstep.\n",
      "Projecting trajectories:  84%|█████████████████████████████████████████████████████████████▋           | 652/772 [00:48<00:09, 12.64it/s]2023-06-27 16:18:45,985 - moleculekit.molecule - WARNING - Different timesteps in Molecule.time for file /Users/toni/work/sh2-reconstructed/traj/s0r678/s0r678.xtc. Cannot calculate fstep.\n",
      "2023-06-27 16:18:46,060 - moleculekit.molecule - WARNING - Different timesteps in Molecule.time for file /Users/toni/work/sh2-reconstructed/traj/s0r679/s0r679.xtc. Cannot calculate fstep.\n",
      "Projecting trajectories:  85%|█████████████████████████████████████████████████████████████▊           | 654/772 [00:49<00:09, 12.67it/s]2023-06-27 16:18:46,137 - moleculekit.molecule - WARNING - Different timesteps in Molecule.time for file /Users/toni/work/sh2-reconstructed/traj/s0r680/s0r680.xtc. Cannot calculate fstep.\n",
      "2023-06-27 16:18:46,212 - moleculekit.molecule - WARNING - Different timesteps in Molecule.time for file /Users/toni/work/sh2-reconstructed/traj/s0r681/s0r681.xtc. Cannot calculate fstep.\n",
      "Projecting trajectories:  85%|██████████████████████████████████████████████████████████████           | 656/772 [00:49<00:09, 12.83it/s]2023-06-27 16:18:46,286 - moleculekit.molecule - WARNING - Different timesteps in Molecule.time for file /Users/toni/work/sh2-reconstructed/traj/s0r682/s0r682.xtc. Cannot calculate fstep.\n",
      "2023-06-27 16:18:46,360 - moleculekit.molecule - WARNING - Different timesteps in Molecule.time for file /Users/toni/work/sh2-reconstructed/traj/s0r683/s0r683.xtc. Cannot calculate fstep.\n",
      "Projecting trajectories:  85%|██████████████████████████████████████████████████████████████▏          | 658/772 [00:49<00:08, 13.03it/s]2023-06-27 16:18:46,434 - moleculekit.molecule - WARNING - Different timesteps in Molecule.time for file /Users/toni/work/sh2-reconstructed/traj/s0r684/s0r684.xtc. Cannot calculate fstep.\n",
      "2023-06-27 16:18:46,510 - moleculekit.molecule - WARNING - Different timesteps in Molecule.time for file /Users/toni/work/sh2-reconstructed/traj/s0r685/s0r685.xtc. Cannot calculate fstep.\n",
      "Projecting trajectories:  85%|██████████████████████████████████████████████████████████████▍          | 660/772 [00:49<00:08, 13.10it/s]2023-06-27 16:18:46,594 - moleculekit.molecule - WARNING - Different timesteps in Molecule.time for file /Users/toni/work/sh2-reconstructed/traj/s0r686/s0r686.xtc. Cannot calculate fstep.\n",
      "2023-06-27 16:18:46,678 - moleculekit.molecule - WARNING - Different timesteps in Molecule.time for file /Users/toni/work/sh2-reconstructed/traj/s0r687/s0r687.xtc. Cannot calculate fstep.\n",
      "Projecting trajectories:  86%|██████████████████████████████████████████████████████████████▌          | 662/772 [00:49<00:08, 12.73it/s]2023-06-27 16:18:46,759 - moleculekit.molecule - WARNING - Different timesteps in Molecule.time for file /Users/toni/work/sh2-reconstructed/traj/s0r688/s0r688.xtc. Cannot calculate fstep.\n",
      "2023-06-27 16:18:46,833 - moleculekit.molecule - WARNING - Different timesteps in Molecule.time for file /Users/toni/work/sh2-reconstructed/traj/s0r689/s0r689.xtc. Cannot calculate fstep.\n",
      "Projecting trajectories:  86%|██████████████████████████████████████████████████████████████▊          | 664/772 [00:49<00:08, 12.78it/s]2023-06-27 16:18:46,907 - moleculekit.molecule - WARNING - Different timesteps in Molecule.time for file /Users/toni/work/sh2-reconstructed/traj/s0r690/s0r690.xtc. Cannot calculate fstep.\n",
      "2023-06-27 16:18:46,980 - moleculekit.molecule - WARNING - Different timesteps in Molecule.time for file /Users/toni/work/sh2-reconstructed/traj/s0r691/s0r691.xtc. Cannot calculate fstep.\n",
      "Projecting trajectories:  86%|██████████████████████████████████████████████████████████████▉          | 666/772 [00:49<00:08, 13.00it/s]2023-06-27 16:18:47,055 - moleculekit.molecule - WARNING - Different timesteps in Molecule.time for file /Users/toni/work/sh2-reconstructed/traj/s0r692/s0r692.xtc. Cannot calculate fstep.\n",
      "2023-06-27 16:18:47,099 - moleculekit.molecule - WARNING - Different timesteps in Molecule.time for file /Users/toni/work/sh2-reconstructed/traj/s0r693/s0r693.xtc. Cannot calculate fstep.\n",
      "Projecting trajectories:  87%|███████████████████████████████████████████████████████████████▏         | 668/772 [00:50<00:07, 13.96it/s]2023-06-27 16:18:47,173 - moleculekit.molecule - WARNING - Different timesteps in Molecule.time for file /Users/toni/work/sh2-reconstructed/traj/s0r694/s0r694.xtc. Cannot calculate fstep.\n",
      "2023-06-27 16:18:47,247 - moleculekit.molecule - WARNING - Different timesteps in Molecule.time for file /Users/toni/work/sh2-reconstructed/traj/s0r695/s0r695.xtc. Cannot calculate fstep.\n",
      "Projecting trajectories:  87%|███████████████████████████████████████████████████████████████▎         | 670/772 [00:50<00:07, 13.83it/s]2023-06-27 16:18:47,324 - moleculekit.molecule - WARNING - Different timesteps in Molecule.time for file /Users/toni/work/sh2-reconstructed/traj/s0r696/s0r696.xtc. Cannot calculate fstep.\n",
      "2023-06-27 16:18:47,404 - moleculekit.molecule - WARNING - Different timesteps in Molecule.time for file /Users/toni/work/sh2-reconstructed/traj/s0r697/s0r697.xtc. Cannot calculate fstep.\n",
      "Projecting trajectories:  87%|███████████████████████████████████████████████████████████████▌         | 672/772 [00:50<00:07, 13.47it/s]2023-06-27 16:18:47,484 - moleculekit.molecule - WARNING - Different timesteps in Molecule.time for file /Users/toni/work/sh2-reconstructed/traj/s0r698/s0r698.xtc. Cannot calculate fstep.\n"
     ]
    },
    {
     "name": "stderr",
     "output_type": "stream",
     "text": [
      "2023-06-27 16:18:47,566 - moleculekit.molecule - WARNING - Different timesteps in Molecule.time for file /Users/toni/work/sh2-reconstructed/traj/s0r699/s0r699.xtc. Cannot calculate fstep.\n",
      "Projecting trajectories:  87%|███████████████████████████████████████████████████████████████▋         | 674/772 [00:50<00:07, 13.12it/s]2023-06-27 16:18:47,644 - moleculekit.molecule - WARNING - Different timesteps in Molecule.time for file /Users/toni/work/sh2-reconstructed/traj/s0r700/s0r700.xtc. Cannot calculate fstep.\n",
      "2023-06-27 16:18:47,720 - moleculekit.molecule - WARNING - Different timesteps in Molecule.time for file /Users/toni/work/sh2-reconstructed/traj/s0r701/s0r701.xtc. Cannot calculate fstep.\n",
      "Projecting trajectories:  88%|███████████████████████████████████████████████████████████████▉         | 676/772 [00:50<00:07, 13.07it/s]2023-06-27 16:18:47,796 - moleculekit.molecule - WARNING - Different timesteps in Molecule.time for file /Users/toni/work/sh2-reconstructed/traj/s0r702/s0r702.xtc. Cannot calculate fstep.\n",
      "2023-06-27 16:18:47,871 - moleculekit.molecule - WARNING - Different timesteps in Molecule.time for file /Users/toni/work/sh2-reconstructed/traj/s0r703/s0r703.xtc. Cannot calculate fstep.\n",
      "Projecting trajectories:  88%|████████████████████████████████████████████████████████████████         | 678/772 [00:50<00:07, 13.12it/s]2023-06-27 16:18:47,947 - moleculekit.molecule - WARNING - Different timesteps in Molecule.time for file /Users/toni/work/sh2-reconstructed/traj/s0r704/s0r704.xtc. Cannot calculate fstep.\n",
      "2023-06-27 16:18:48,022 - moleculekit.molecule - WARNING - Different timesteps in Molecule.time for file /Users/toni/work/sh2-reconstructed/traj/s0r705/s0r705.xtc. Cannot calculate fstep.\n",
      "Projecting trajectories:  88%|████████████████████████████████████████████████████████████████▎        | 680/772 [00:50<00:06, 13.17it/s]2023-06-27 16:18:48,098 - moleculekit.molecule - WARNING - Different timesteps in Molecule.time for file /Users/toni/work/sh2-reconstructed/traj/s0r706/s0r706.xtc. Cannot calculate fstep.\n",
      "2023-06-27 16:18:48,175 - moleculekit.molecule - WARNING - Different timesteps in Molecule.time for file /Users/toni/work/sh2-reconstructed/traj/s0r707/s0r707.xtc. Cannot calculate fstep.\n",
      "Projecting trajectories:  88%|████████████████████████████████████████████████████████████████▍        | 682/772 [00:51<00:06, 13.13it/s]2023-06-27 16:18:48,257 - moleculekit.molecule - WARNING - Different timesteps in Molecule.time for file /Users/toni/work/sh2-reconstructed/traj/s0r708/s0r708.xtc. Cannot calculate fstep.\n",
      "2023-06-27 16:18:48,338 - moleculekit.molecule - WARNING - Different timesteps in Molecule.time for file /Users/toni/work/sh2-reconstructed/traj/s0r709/s0r709.xtc. Cannot calculate fstep.\n",
      "Projecting trajectories:  89%|████████████████████████████████████████████████████████████████▋        | 684/772 [00:51<00:06, 12.86it/s]2023-06-27 16:18:48,416 - moleculekit.molecule - WARNING - Different timesteps in Molecule.time for file /Users/toni/work/sh2-reconstructed/traj/s0r710/s0r710.xtc. Cannot calculate fstep.\n",
      "2023-06-27 16:18:48,495 - moleculekit.molecule - WARNING - Different timesteps in Molecule.time for file /Users/toni/work/sh2-reconstructed/traj/s0r712/s0r712.xtc. Cannot calculate fstep.\n",
      "Projecting trajectories:  89%|████████████████████████████████████████████████████████████████▊        | 686/772 [00:51<00:06, 12.68it/s]2023-06-27 16:18:48,584 - moleculekit.molecule - WARNING - Different timesteps in Molecule.time for file /Users/toni/work/sh2-reconstructed/traj/s0r713/s0r713.xtc. Cannot calculate fstep.\n",
      "2023-06-27 16:18:48,660 - moleculekit.molecule - WARNING - Different timesteps in Molecule.time for file /Users/toni/work/sh2-reconstructed/traj/s0r714/s0r714.xtc. Cannot calculate fstep.\n",
      "Projecting trajectories:  89%|█████████████████████████████████████████████████████████████████        | 688/772 [00:51<00:06, 12.66it/s]2023-06-27 16:18:48,737 - moleculekit.molecule - WARNING - Different timesteps in Molecule.time for file /Users/toni/work/sh2-reconstructed/traj/s0r715/s0r715.xtc. Cannot calculate fstep.\n",
      "2023-06-27 16:18:48,813 - moleculekit.molecule - WARNING - Different timesteps in Molecule.time for file /Users/toni/work/sh2-reconstructed/traj/s0r716/s0r716.xtc. Cannot calculate fstep.\n",
      "Projecting trajectories:  89%|█████████████████████████████████████████████████████████████████▏       | 690/772 [00:51<00:06, 12.76it/s]2023-06-27 16:18:48,890 - moleculekit.molecule - WARNING - Different timesteps in Molecule.time for file /Users/toni/work/sh2-reconstructed/traj/s0r717/s0r717.xtc. Cannot calculate fstep.\n",
      "2023-06-27 16:18:48,969 - moleculekit.molecule - WARNING - Different timesteps in Molecule.time for file /Users/toni/work/sh2-reconstructed/traj/s0r718/s0r718.xtc. Cannot calculate fstep.\n",
      "Projecting trajectories:  90%|█████████████████████████████████████████████████████████████████▍       | 692/772 [00:51<00:06, 12.78it/s]2023-06-27 16:18:49,053 - moleculekit.molecule - WARNING - Different timesteps in Molecule.time for file /Users/toni/work/sh2-reconstructed/traj/s0r719/s0r719.xtc. Cannot calculate fstep.\n",
      "2023-06-27 16:18:49,136 - moleculekit.molecule - WARNING - Different timesteps in Molecule.time for file /Users/toni/work/sh2-reconstructed/traj/s0r720/s0r720.xtc. Cannot calculate fstep.\n",
      "Projecting trajectories:  90%|█████████████████████████████████████████████████████████████████▌       | 694/772 [00:52<00:06, 12.54it/s]2023-06-27 16:18:49,211 - moleculekit.molecule - WARNING - Different timesteps in Molecule.time for file /Users/toni/work/sh2-reconstructed/traj/s0r721/s0r721.xtc. Cannot calculate fstep.\n",
      "2023-06-27 16:18:49,286 - moleculekit.molecule - WARNING - Different timesteps in Molecule.time for file /Users/toni/work/sh2-reconstructed/traj/s0r722/s0r722.xtc. Cannot calculate fstep.\n",
      "Projecting trajectories:  90%|█████████████████████████████████████████████████████████████████▊       | 696/772 [00:52<00:05, 12.76it/s]2023-06-27 16:18:49,362 - moleculekit.molecule - WARNING - Different timesteps in Molecule.time for file /Users/toni/work/sh2-reconstructed/traj/s0r723/s0r723.xtc. Cannot calculate fstep.\n",
      "2023-06-27 16:18:49,438 - moleculekit.molecule - WARNING - Different timesteps in Molecule.time for file /Users/toni/work/sh2-reconstructed/traj/s0r724/s0r724.xtc. Cannot calculate fstep.\n",
      "Projecting trajectories:  90%|██████████████████████████████████████████████████████████████████       | 698/772 [00:52<00:05, 12.87it/s]2023-06-27 16:18:49,515 - moleculekit.molecule - WARNING - Different timesteps in Molecule.time for file /Users/toni/work/sh2-reconstructed/traj/s0r725/s0r725.xtc. Cannot calculate fstep.\n",
      "2023-06-27 16:18:49,591 - moleculekit.molecule - WARNING - Different timesteps in Molecule.time for file /Users/toni/work/sh2-reconstructed/traj/s0r726/s0r726.xtc. Cannot calculate fstep.\n",
      "Projecting trajectories:  91%|██████████████████████████████████████████████████████████████████▏      | 700/772 [00:52<00:05, 12.94it/s]2023-06-27 16:18:49,635 - moleculekit.molecule - WARNING - Different timesteps in Molecule.time for file /Users/toni/work/sh2-reconstructed/traj/s0r727/s0r727.xtc. Cannot calculate fstep.\n",
      "2023-06-27 16:18:49,711 - moleculekit.molecule - WARNING - Different timesteps in Molecule.time for file /Users/toni/work/sh2-reconstructed/traj/s0r728/s0r728.xtc. Cannot calculate fstep.\n",
      "Projecting trajectories:  91%|██████████████████████████████████████████████████████████████████▍      | 702/772 [00:52<00:05, 13.86it/s]2023-06-27 16:18:49,790 - moleculekit.molecule - WARNING - Different timesteps in Molecule.time for file /Users/toni/work/sh2-reconstructed/traj/s0r729/s0r729.xtc. Cannot calculate fstep.\n",
      "2023-06-27 16:18:49,873 - moleculekit.molecule - WARNING - Different timesteps in Molecule.time for file /Users/toni/work/sh2-reconstructed/traj/s0r730/s0r730.xtc. Cannot calculate fstep.\n",
      "Projecting trajectories:  91%|██████████████████████████████████████████████████████████████████▌      | 704/772 [00:52<00:05, 13.37it/s]2023-06-27 16:18:49,956 - moleculekit.molecule - WARNING - Different timesteps in Molecule.time for file /Users/toni/work/sh2-reconstructed/traj/s0r731/s0r731.xtc. Cannot calculate fstep.\n"
     ]
    },
    {
     "name": "stderr",
     "output_type": "stream",
     "text": [
      "2023-06-27 16:18:50,034 - moleculekit.molecule - WARNING - Different timesteps in Molecule.time for file /Users/toni/work/sh2-reconstructed/traj/s0r732/s0r732.xtc. Cannot calculate fstep.\n",
      "Projecting trajectories:  91%|██████████████████████████████████████████████████████████████████▊      | 706/772 [00:52<00:05, 13.09it/s]2023-06-27 16:18:50,112 - moleculekit.molecule - WARNING - Different timesteps in Molecule.time for file /Users/toni/work/sh2-reconstructed/traj/s0r733/s0r733.xtc. Cannot calculate fstep.\n",
      "2023-06-27 16:18:50,188 - moleculekit.molecule - WARNING - Different timesteps in Molecule.time for file /Users/toni/work/sh2-reconstructed/traj/s0r734/s0r734.xtc. Cannot calculate fstep.\n",
      "Projecting trajectories:  92%|██████████████████████████████████████████████████████████████████▉      | 708/772 [00:53<00:04, 13.06it/s]2023-06-27 16:18:50,217 - moleculekit.molecule - WARNING - Different timesteps in Molecule.time for file /Users/toni/work/sh2-reconstructed/traj/s0r735/s0r735.xtc. Cannot calculate fstep.\n",
      "2023-06-27 16:18:50,293 - moleculekit.molecule - WARNING - Different timesteps in Molecule.time for file /Users/toni/work/sh2-reconstructed/traj/s0r736/s0r736.xtc. Cannot calculate fstep.\n",
      "Projecting trajectories:  92%|███████████████████████████████████████████████████████████████████▏     | 710/772 [00:53<00:04, 14.42it/s]2023-06-27 16:18:50,368 - moleculekit.molecule - WARNING - Different timesteps in Molecule.time for file /Users/toni/work/sh2-reconstructed/traj/s0r737/s0r737.xtc. Cannot calculate fstep.\n",
      "2023-06-27 16:18:50,442 - moleculekit.molecule - WARNING - Different timesteps in Molecule.time for file /Users/toni/work/sh2-reconstructed/traj/s0r738/s0r738.xtc. Cannot calculate fstep.\n",
      "Projecting trajectories:  92%|███████████████████████████████████████████████████████████████████▎     | 712/772 [00:53<00:04, 14.09it/s]2023-06-27 16:18:50,519 - moleculekit.molecule - WARNING - Different timesteps in Molecule.time for file /Users/toni/work/sh2-reconstructed/traj/s0r739/s0r739.xtc. Cannot calculate fstep.\n",
      "2023-06-27 16:18:50,597 - moleculekit.molecule - WARNING - Different timesteps in Molecule.time for file /Users/toni/work/sh2-reconstructed/traj/s0r740/s0r740.xtc. Cannot calculate fstep.\n",
      "Projecting trajectories:  92%|███████████████████████████████████████████████████████████████████▌     | 714/772 [00:53<00:04, 13.73it/s]2023-06-27 16:18:50,678 - moleculekit.molecule - WARNING - Different timesteps in Molecule.time for file /Users/toni/work/sh2-reconstructed/traj/s0r741/s0r741.xtc. Cannot calculate fstep.\n",
      "2023-06-27 16:18:50,759 - moleculekit.molecule - WARNING - Different timesteps in Molecule.time for file /Users/toni/work/sh2-reconstructed/traj/s0r742/s0r742.xtc. Cannot calculate fstep.\n",
      "Projecting trajectories:  93%|███████████████████████████████████████████████████████████████████▋     | 716/772 [00:53<00:04, 13.28it/s]2023-06-27 16:18:50,835 - moleculekit.molecule - WARNING - Different timesteps in Molecule.time for file /Users/toni/work/sh2-reconstructed/traj/s0r743/s0r743.xtc. Cannot calculate fstep.\n",
      "2023-06-27 16:18:50,911 - moleculekit.molecule - WARNING - Different timesteps in Molecule.time for file /Users/toni/work/sh2-reconstructed/traj/s0r744/s0r744.xtc. Cannot calculate fstep.\n",
      "Projecting trajectories:  93%|███████████████████████████████████████████████████████████████████▉     | 718/772 [00:53<00:04, 13.24it/s]2023-06-27 16:18:50,988 - moleculekit.molecule - WARNING - Different timesteps in Molecule.time for file /Users/toni/work/sh2-reconstructed/traj/s0r745/s0r745.xtc. Cannot calculate fstep.\n",
      "2023-06-27 16:18:51,063 - moleculekit.molecule - WARNING - Different timesteps in Molecule.time for file /Users/toni/work/sh2-reconstructed/traj/s0r746/s0r746.xtc. Cannot calculate fstep.\n",
      "Projecting trajectories:  93%|████████████████████████████████████████████████████████████████████     | 720/772 [00:54<00:03, 13.21it/s]2023-06-27 16:18:51,140 - moleculekit.molecule - WARNING - Different timesteps in Molecule.time for file /Users/toni/work/sh2-reconstructed/traj/s0r747/s0r747.xtc. Cannot calculate fstep.\n",
      "2023-06-27 16:18:51,215 - moleculekit.molecule - WARNING - Different timesteps in Molecule.time for file /Users/toni/work/sh2-reconstructed/traj/s0r748/s0r748.xtc. Cannot calculate fstep.\n",
      "Projecting trajectories:  94%|████████████████████████████████████████████████████████████████████▎    | 722/772 [00:54<00:03, 13.19it/s]2023-06-27 16:18:51,291 - moleculekit.molecule - WARNING - Different timesteps in Molecule.time for file /Users/toni/work/sh2-reconstructed/traj/s0r749/s0r749.xtc. Cannot calculate fstep.\n",
      "2023-06-27 16:18:51,370 - moleculekit.molecule - WARNING - Different timesteps in Molecule.time for file /Users/toni/work/sh2-reconstructed/traj/s0r750/s0r750.xtc. Cannot calculate fstep.\n",
      "Projecting trajectories:  94%|████████████████████████████████████████████████████████████████████▍    | 724/772 [00:54<00:03, 13.11it/s]2023-06-27 16:18:51,452 - moleculekit.molecule - WARNING - Different timesteps in Molecule.time for file /Users/toni/work/sh2-reconstructed/traj/s0r751/s0r751.xtc. Cannot calculate fstep.\n",
      "2023-06-27 16:18:51,535 - moleculekit.molecule - WARNING - Different timesteps in Molecule.time for file /Users/toni/work/sh2-reconstructed/traj/s0r752/s0r752.xtc. Cannot calculate fstep.\n",
      "Projecting trajectories:  94%|████████████████████████████████████████████████████████████████████▋    | 726/772 [00:54<00:03, 12.79it/s]2023-06-27 16:18:51,615 - moleculekit.molecule - WARNING - Different timesteps in Molecule.time for file /Users/toni/work/sh2-reconstructed/traj/s0r753/s0r753.xtc. Cannot calculate fstep.\n",
      "2023-06-27 16:18:51,692 - moleculekit.molecule - WARNING - Different timesteps in Molecule.time for file /Users/toni/work/sh2-reconstructed/traj/s0r754/s0r754.xtc. Cannot calculate fstep.\n",
      "Projecting trajectories:  94%|████████████████████████████████████████████████████████████████████▊    | 728/772 [00:54<00:03, 12.78it/s]2023-06-27 16:18:51,768 - moleculekit.molecule - WARNING - Different timesteps in Molecule.time for file /Users/toni/work/sh2-reconstructed/traj/s0r755/s0r755.xtc. Cannot calculate fstep.\n",
      "2023-06-27 16:18:51,846 - moleculekit.molecule - WARNING - Different timesteps in Molecule.time for file /Users/toni/work/sh2-reconstructed/traj/s0r756/s0r756.xtc. Cannot calculate fstep.\n",
      "Projecting trajectories:  95%|█████████████████████████████████████████████████████████████████████    | 730/772 [00:54<00:03, 12.84it/s]2023-06-27 16:18:51,925 - moleculekit.molecule - WARNING - Different timesteps in Molecule.time for file /Users/toni/work/sh2-reconstructed/traj/s0r757/s0r757.xtc. Cannot calculate fstep.\n",
      "2023-06-27 16:18:52,001 - moleculekit.molecule - WARNING - Different timesteps in Molecule.time for file /Users/toni/work/sh2-reconstructed/traj/s0r758/s0r758.xtc. Cannot calculate fstep.\n",
      "Projecting trajectories:  95%|█████████████████████████████████████████████████████████████████████▏   | 732/772 [00:54<00:03, 12.86it/s]2023-06-27 16:18:52,078 - moleculekit.molecule - WARNING - Different timesteps in Molecule.time for file /Users/toni/work/sh2-reconstructed/traj/s0r759/s0r759.xtc. Cannot calculate fstep.\n",
      "2023-06-27 16:18:52,159 - moleculekit.molecule - WARNING - Different timesteps in Molecule.time for file /Users/toni/work/sh2-reconstructed/traj/s0r760/s0r760.xtc. Cannot calculate fstep.\n",
      "Projecting trajectories:  95%|█████████████████████████████████████████████████████████████████████▍   | 734/772 [00:55<00:02, 12.79it/s]2023-06-27 16:18:52,243 - moleculekit.molecule - WARNING - Different timesteps in Molecule.time for file /Users/toni/work/sh2-reconstructed/traj/s0r762/s0r762.xtc. Cannot calculate fstep.\n",
      "2023-06-27 16:18:52,327 - moleculekit.molecule - WARNING - Different timesteps in Molecule.time for file /Users/toni/work/sh2-reconstructed/traj/s0r763/s0r763.xtc. Cannot calculate fstep.\n",
      "Projecting trajectories:  95%|█████████████████████████████████████████████████████████████████████▌   | 736/772 [00:55<00:02, 12.51it/s]2023-06-27 16:18:52,406 - moleculekit.molecule - WARNING - Different timesteps in Molecule.time for file /Users/toni/work/sh2-reconstructed/traj/s0r764/s0r764.xtc. Cannot calculate fstep.\n"
     ]
    },
    {
     "name": "stderr",
     "output_type": "stream",
     "text": [
      "2023-06-27 16:18:52,481 - moleculekit.molecule - WARNING - Different timesteps in Molecule.time for file /Users/toni/work/sh2-reconstructed/traj/s0r765/s0r765.xtc. Cannot calculate fstep.\n",
      "Projecting trajectories:  96%|█████████████████████████████████████████████████████████████████████▊   | 738/772 [00:55<00:02, 12.65it/s]2023-06-27 16:18:52,557 - moleculekit.molecule - WARNING - Different timesteps in Molecule.time for file /Users/toni/work/sh2-reconstructed/traj/s0r766/s0r766.xtc. Cannot calculate fstep.\n",
      "2023-06-27 16:18:52,632 - moleculekit.molecule - WARNING - Different timesteps in Molecule.time for file /Users/toni/work/sh2-reconstructed/traj/s0r767/s0r767.xtc. Cannot calculate fstep.\n",
      "Projecting trajectories:  96%|█████████████████████████████████████████████████████████████████████▉   | 740/772 [00:55<00:02, 12.83it/s]2023-06-27 16:18:52,709 - moleculekit.molecule - WARNING - Different timesteps in Molecule.time for file /Users/toni/work/sh2-reconstructed/traj/s0r768/s0r768.xtc. Cannot calculate fstep.\n",
      "2023-06-27 16:18:52,786 - moleculekit.molecule - WARNING - Different timesteps in Molecule.time for file /Users/toni/work/sh2-reconstructed/traj/s0r769/s0r769.xtc. Cannot calculate fstep.\n",
      "Projecting trajectories:  96%|██████████████████████████████████████████████████████████████████████▏  | 742/772 [00:55<00:02, 12.87it/s]2023-06-27 16:18:52,862 - moleculekit.molecule - WARNING - Different timesteps in Molecule.time for file /Users/toni/work/sh2-reconstructed/traj/s0r770/s0r770.xtc. Cannot calculate fstep.\n",
      "2023-06-27 16:18:52,942 - moleculekit.molecule - WARNING - Different timesteps in Molecule.time for file /Users/toni/work/sh2-reconstructed/traj/s0r772/s0r772.xtc. Cannot calculate fstep.\n",
      "Projecting trajectories:  96%|██████████████████████████████████████████████████████████████████████▎  | 744/772 [00:55<00:02, 12.87it/s]2023-06-27 16:18:53,020 - moleculekit.molecule - WARNING - Different timesteps in Molecule.time for file /Users/toni/work/sh2-reconstructed/traj/s0r773/s0r773.xtc. Cannot calculate fstep.\n",
      "2023-06-27 16:18:53,103 - moleculekit.molecule - WARNING - Different timesteps in Molecule.time for file /Users/toni/work/sh2-reconstructed/traj/s0r774/s0r774.xtc. Cannot calculate fstep.\n",
      "Projecting trajectories:  97%|██████████████████████████████████████████████████████████████████████▌  | 746/772 [00:56<00:02, 12.73it/s]2023-06-27 16:18:53,187 - moleculekit.molecule - WARNING - Different timesteps in Molecule.time for file /Users/toni/work/sh2-reconstructed/traj/s0r775/s0r775.xtc. Cannot calculate fstep.\n",
      "2023-06-27 16:18:53,265 - moleculekit.molecule - WARNING - Different timesteps in Molecule.time for file /Users/toni/work/sh2-reconstructed/traj/s0r776/s0r776.xtc. Cannot calculate fstep.\n",
      "Projecting trajectories:  97%|██████████████████████████████████████████████████████████████████████▋  | 748/772 [00:56<00:01, 12.60it/s]2023-06-27 16:18:53,341 - moleculekit.molecule - WARNING - Different timesteps in Molecule.time for file /Users/toni/work/sh2-reconstructed/traj/s0r777/s0r777.xtc. Cannot calculate fstep.\n",
      "2023-06-27 16:18:53,417 - moleculekit.molecule - WARNING - Different timesteps in Molecule.time for file /Users/toni/work/sh2-reconstructed/traj/s0r778/s0r778.xtc. Cannot calculate fstep.\n",
      "Projecting trajectories:  97%|██████████████████████████████████████████████████████████████████████▉  | 750/772 [00:56<00:01, 12.76it/s]2023-06-27 16:18:53,494 - moleculekit.molecule - WARNING - Different timesteps in Molecule.time for file /Users/toni/work/sh2-reconstructed/traj/s0r779/s0r779.xtc. Cannot calculate fstep.\n",
      "2023-06-27 16:18:53,569 - moleculekit.molecule - WARNING - Different timesteps in Molecule.time for file /Users/toni/work/sh2-reconstructed/traj/s0r780/s0r780.xtc. Cannot calculate fstep.\n",
      "Projecting trajectories:  97%|███████████████████████████████████████████████████████████████████████  | 752/772 [00:56<00:01, 12.89it/s]2023-06-27 16:18:53,605 - moleculekit.molecule - WARNING - Different timesteps in Molecule.time for file /Users/toni/work/sh2-reconstructed/traj/s0r781/s0r781.xtc. Cannot calculate fstep.\n",
      "2023-06-27 16:18:53,680 - moleculekit.molecule - WARNING - Different timesteps in Molecule.time for file /Users/toni/work/sh2-reconstructed/traj/s0r782/s0r782.xtc. Cannot calculate fstep.\n",
      "Projecting trajectories:  98%|███████████████████████████████████████████████████████████████████████▎ | 754/772 [00:56<00:01, 14.09it/s]2023-06-27 16:18:53,757 - moleculekit.molecule - WARNING - Different timesteps in Molecule.time for file /Users/toni/work/sh2-reconstructed/traj/s0r783/s0r783.xtc. Cannot calculate fstep.\n",
      "2023-06-27 16:18:53,838 - moleculekit.molecule - WARNING - Different timesteps in Molecule.time for file /Users/toni/work/sh2-reconstructed/traj/s0r784/s0r784.xtc. Cannot calculate fstep.\n",
      "Projecting trajectories:  98%|███████████████████████████████████████████████████████████████████████▍ | 756/772 [00:56<00:01, 13.62it/s]2023-06-27 16:18:53,920 - moleculekit.molecule - WARNING - Different timesteps in Molecule.time for file /Users/toni/work/sh2-reconstructed/traj/s0r785/s0r785.xtc. Cannot calculate fstep.\n",
      "2023-06-27 16:18:53,995 - moleculekit.molecule - WARNING - Different timesteps in Molecule.time for file /Users/toni/work/sh2-reconstructed/traj/s0r786/s0r786.xtc. Cannot calculate fstep.\n",
      "Projecting trajectories:  98%|███████████████████████████████████████████████████████████████████████▋ | 758/772 [00:56<00:01, 13.34it/s]2023-06-27 16:18:54,070 - moleculekit.molecule - WARNING - Different timesteps in Molecule.time for file /Users/toni/work/sh2-reconstructed/traj/s0r787/s0r787.xtc. Cannot calculate fstep.\n",
      "2023-06-27 16:18:54,145 - moleculekit.molecule - WARNING - Different timesteps in Molecule.time for file /Users/toni/work/sh2-reconstructed/traj/s0r788/s0r788.xtc. Cannot calculate fstep.\n",
      "Projecting trajectories:  98%|███████████████████████████████████████████████████████████████████████▊ | 760/772 [00:57<00:00, 13.34it/s]2023-06-27 16:18:54,220 - moleculekit.molecule - WARNING - Different timesteps in Molecule.time for file /Users/toni/work/sh2-reconstructed/traj/s0r789/s0r789.xtc. Cannot calculate fstep.\n",
      "2023-06-27 16:18:54,296 - moleculekit.molecule - WARNING - Different timesteps in Molecule.time for file /Users/toni/work/sh2-reconstructed/traj/s0r790/s0r790.xtc. Cannot calculate fstep.\n",
      "Projecting trajectories:  99%|████████████████████████████████████████████████████████████████████████ | 762/772 [00:57<00:00, 13.32it/s]2023-06-27 16:18:54,371 - moleculekit.molecule - WARNING - Different timesteps in Molecule.time for file /Users/toni/work/sh2-reconstructed/traj/s0r791/s0r791.xtc. Cannot calculate fstep.\n",
      "2023-06-27 16:18:54,447 - moleculekit.molecule - WARNING - Different timesteps in Molecule.time for file /Users/toni/work/sh2-reconstructed/traj/s0r792/s0r792.xtc. Cannot calculate fstep.\n",
      "Projecting trajectories:  99%|████████████████████████████████████████████████████████████████████████▏| 764/772 [00:57<00:00, 13.29it/s]2023-06-27 16:18:54,526 - moleculekit.molecule - WARNING - Different timesteps in Molecule.time for file /Users/toni/work/sh2-reconstructed/traj/s0r793/s0r793.xtc. Cannot calculate fstep.\n",
      "2023-06-27 16:18:54,551 - moleculekit.molecule - WARNING - Different timesteps in Molecule.time for file /Users/toni/work/sh2-reconstructed/traj/s0r794/s0r794.xtc. Cannot calculate fstep.\n",
      "Projecting trajectories:  99%|████████████████████████████████████████████████████████████████████████▍| 766/772 [00:57<00:00, 14.66it/s]2023-06-27 16:18:54,636 - moleculekit.molecule - WARNING - Different timesteps in Molecule.time for file /Users/toni/work/sh2-reconstructed/traj/s0r795/s0r795.xtc. Cannot calculate fstep.\n",
      "2023-06-27 16:18:54,719 - moleculekit.molecule - WARNING - Different timesteps in Molecule.time for file /Users/toni/work/sh2-reconstructed/traj/s0r796/s0r796.xtc. Cannot calculate fstep.\n",
      "Projecting trajectories:  99%|████████████████████████████████████████████████████████████████████████▌| 768/772 [00:57<00:00, 13.71it/s]2023-06-27 16:18:54,797 - moleculekit.molecule - WARNING - Different timesteps in Molecule.time for file /Users/toni/work/sh2-reconstructed/traj/s0r797/s0r797.xtc. Cannot calculate fstep.\n"
     ]
    },
    {
     "name": "stderr",
     "output_type": "stream",
     "text": [
      "2023-06-27 16:18:54,873 - moleculekit.molecule - WARNING - Different timesteps in Molecule.time for file /Users/toni/work/sh2-reconstructed/traj/s0r798/s0r798.xtc. Cannot calculate fstep.\n",
      "Projecting trajectories: 100%|████████████████████████████████████████████████████████████████████████▊| 770/772 [00:57<00:00, 13.48it/s]2023-06-27 16:18:54,948 - moleculekit.molecule - WARNING - Different timesteps in Molecule.time for file /Users/toni/work/sh2-reconstructed/traj/s0r799/s0r799.xtc. Cannot calculate fstep.\n",
      "2023-06-27 16:18:55,025 - moleculekit.molecule - WARNING - Different timesteps in Molecule.time for file /Users/toni/work/sh2-reconstructed/traj/s0r800/s0r800.xtc. Cannot calculate fstep.\n",
      "Projecting trajectories: 100%|█████████████████████████████████████████████████████████████████████████| 772/772 [00:57<00:00, 13.31it/s]\n",
      "2023-06-27 16:18:55,048 - htmd.projections.metric - WARNING - No framestep could be read from the trajectories. Please manually set the MetricData.fstep property, otherwise calculations in Model and Kinetics classes can fail.\n"
     ]
    }
   ],
   "source": [
    "# Contacts Matrix\n",
    "\n",
    "metr = Metric(simul)\n",
    "\n",
    "#md = MetricDistance(sel1 = 'name CA and chain A', sel2 = 'noh and chain B', metric='distances', periodic=\"selections\")\n",
    "md = MetricDistance(sel1 = prot_sel, sel2 = lig_sel, metric='distances', periodic=\"selections\")\n",
    "metr.set(md)\n",
    "\n",
    "contacts = metr.project()\n",
    "contacts.fstep = 1\n",
    "\n",
    "contacts.save(\"metrics/contacts.htmd\")"
   ]
  },
  {
   "cell_type": "code",
   "execution_count": 44,
   "metadata": {},
   "outputs": [
    {
     "data": {
      "text/plain": [
       "(800, 220)"
      ]
     },
     "execution_count": 44,
     "metadata": {},
     "output_type": "execute_result"
    }
   ],
   "source": [
    "contacts.dat[0].shape"
   ]
  },
  {
   "cell_type": "code",
   "execution_count": null,
   "metadata": {},
   "outputs": [],
   "source": [
    "metr = Metric(simul)\n",
    "metr.set(\n",
    "    MetricRmsd(filtered, \"chain B and noh\", \"protein and chain A and name CA\", centerstr=\"chain A and protein\")\n",
    ")\n",
    "\n",
    "rmsd = metr.project()\n",
    "rmsd.fstep = 1\n",
    "rmsd.save(\"metrics/rmsd.htmd\")"
   ]
  },
  {
   "cell_type": "code",
   "execution_count": null,
   "metadata": {},
   "outputs": [],
   "source": []
  },
  {
   "cell_type": "code",
   "execution_count": null,
   "metadata": {},
   "outputs": [],
   "source": []
  },
  {
   "cell_type": "code",
   "execution_count": null,
   "metadata": {},
   "outputs": [],
   "source": [
    "# Carico la stringa\n",
    "\n",
    "from moleculekit.projections.metricplumed2 import MetricPlumed2\n",
    "\n",
    "plumed_inp=\"\"\"\n",
    "UNITS  LENGTH=A  ENERGY=kcal/mol  TIME=ps\n",
    "\n",
    "nc_a: GROUP ATOMS={537 537 561 562 893 896 896 902 902 902 893 899 899 899 941 941 941 941 941 1484 1485 1485 1484 1485 1486 1484 1484 1484 1485 1485 1485 1485 1485 1486 1486 1488 1484 1485 1486 1477 1478 1481 1477 1478 1479 1481 1478 1478 1481 1481 1481 920 911 911 913 913 913 920 891 911 926 926 926 926 926 927 927 927 927 927 927 927 932 935 935 935 936 938 940 940 940 940 926 927 926 927 927 927 927 927 938 940 926 926 926 927 927 927 940 1495 943 943 943 943 945 945 945 945 945 1495 943 943 943 943 943 945 945 945 945 945 943 945 945 1407 1409 1410 214 217 220 223 225 214 214 217 220 214 220 225 539 543 915 918 539 539 543 543 543 915 915 915 543 543 915 930 947 928 928 928 930 930 930 947 947 947 948 948 928 928 930 930 930 947 1130 1132 1134 1132 1134 1134 1134 578 578 581 578 581 585 540 540 563 565 565 567 570 570 572 572 574 574 576 576 669 669 540 540 565 567 570 570 572 574 574 576 669 669 570 669 669 669 540 669 666 666 666 666 666 666 573 1188 229 229 229 229 1151 1154 1185 1187 1191 1191 1151 1151 1154 1187 1191 1191 1151 1191 1182 226 226 226 226 226 226 226 226 226 226 226 226 226 949 956 959 949 949 949 951 951 951 953 953 953 956 956 956 956 956 956 959 959 959 959 959 959 949 956 1003 1146 1145 1147 1149 587 589 589 591 591 593 593 596 596 593 593 596 596 596 587 587 589 589 591 593 593 596 596 596 965 962 962 962 965 965 965 965 965 588 1009 1005 1009 1009}\n",
    "\n",
    "nc_b: GROUP ATOMS={1673 1674 1674 1674 1702 1702 1705 1702 1705 1706 1699 1702 1705 1706 1702 1705 1706 1724 1699 1727 1724 1727 1743 1743 1743 1732 1734 1740 1725 1730 1732 1734 1740 1734 1740 1740 1736 1736 1736 1743 1743 1743 1736 1736 1736 1736 1734 1740 1732 1734 1740 1673 1695 1699 1695 1665 1689 1665 1702 1702 1693 1695 1697 1699 1709 1693 1694 1695 1697 1699 1708 1709 1709 1699 1708 1709 1699 1699 1697 1699 1708 1709 1685 1685 1683 1679 1680 1681 1683 1702 1702 1702 1665 1688 1689 1665 1688 1689 1724 1743 1712 1723 1730 1740 1712 1723 1730 1732 1740 1740 1697 1699 1708 1709 1710 1697 1699 1708 1709 1710 1724 1724 1702 1743 1743 1743 1673 1673 1673 1673 1673 1671 1674 1671 1671 1672 1672 1675 1673 1673 1673 1673 1671 1674 1671 1674 1665 1665 1688 1689 1670 1672 1683 1685 1685 1665 1688 1689 1665 1688 1689 1665 1688 1689 1665 1689 1695 1709 1695 1708 1709 1709 1743 1743 1743 1740 1730 1734 1740 1671 1674 1674 1672 1672 1672 1671 1674 1674 1671 1674 1674 1671 1674 1671 1674 1671 1674 1671 1674 1671 1674 1670 1672 1670 1670 1670 1672 1672 1670 1672 1672 1670 1672 1669 1665 1669 1689 1673 1673 1670 1665 1669 1671 1674 1673 1674 1736 1675 1679 1680 1681 1736 1736 1736 1736 1736 1726 1734 1740 1734 1734 1725 1734 1743 1727 1736 1665 1667 1669 1688 1689 1691 1670 1672 1675 1679 1681 1673 1671 1685 1685 1685 1665 1688 1689 1665 1688 1689 1665 1688 1689 1665 1667 1669 1688 1689 1691 1665 1667 1669 1688 1689 1691 1709 1670 1721 1721 1743 1743 1743 1672 1670 1672 1670 1672 1670 1672 1670 1672 1667 1669 1667 1669 1691 1671 1674 1671 1674 1671 1671 1674 1671 1674 1673 1670 1667 1669 1691 1665 1667 1669 1688 1691 1672 1722 1721 1720 1721}\n",
    "\n",
    "nc:   COORDINATION GROUPA=nc_a GROUPB=nc_b  PAIR  D_0=5 R_0=0.5\n",
    "\"\"\"\n",
    "\n",
    "\n",
    "metr = Metric(simul)\n",
    "\n",
    "p2met = MetricPlumed2(plumed_inp)\n",
    "metr.set(p2met)\n",
    "\n",
    "nc = metr.project()\n",
    "nc.fstep = 1\n",
    "nc.save(\"metrics/nc.htmd\")"
   ]
  },
  {
   "cell_type": "code",
   "execution_count": null,
   "metadata": {},
   "outputs": [],
   "source": [
    "nc.dat[0].shape"
   ]
  },
  {
   "cell_type": "code",
   "execution_count": 1,
   "metadata": {},
   "outputs": [
    {
     "name": "stdout",
     "output_type": "stream",
     "text": [
      "       1     328    1640\r\n"
     ]
    }
   ],
   "source": [
    "!echo \"1673 1674 1674 1674 1702 1702 1705 1702 1705 1706 1699 1702 1705 1706 1702 1705 1706 1724 1699 1727 1724 1727 1743 1743 1743 1732 1734 1740 1725 1730 1732 1734 1740 1734 1740 1740 1736 1736 1736 1743 1743 1743 1736 1736 1736 1736 1734 1740 1732 1734 1740 1673 1695 1699 1695 1665 1689 1665 1702 1702 1693 1695 1697 1699 1709 1693 1694 1695 1697 1699 1708 1709 1709 1699 1708 1709 1699 1699 1697 1699 1708 1709 1685 1685 1683 1679 1680 1681 1683 1702 1702 1702 1665 1688 1689 1665 1688 1689 1724 1743 1712 1723 1730 1740 1712 1723 1730 1732 1740 1740 1697 1699 1708 1709 1710 1697 1699 1708 1709 1710 1724 1724 1702 1743 1743 1743 1673 1673 1673 1673 1673 1671 1674 1671 1671 1672 1672 1675 1673 1673 1673 1673 1671 1674 1671 1674 1665 1665 1688 1689 1670 1672 1683 1685 1685 1665 1688 1689 1665 1688 1689 1665 1688 1689 1665 1689 1695 1709 1695 1708 1709 1709 1743 1743 1743 1740 1730 1734 1740 1671 1674 1674 1672 1672 1672 1671 1674 1674 1671 1674 1674 1671 1674 1671 1674 1671 1674 1671 1674 1671 1674 1670 1672 1670 1670 1670 1672 1672 1670 1672 1672 1670 1672 1669 1665 1669 1689 1673 1673 1670 1665 1669 1671 1674 1673 1674 1736 1675 1679 1680 1681 1736 1736 1736 1736 1736 1726 1734 1740 1734 1734 1725 1734 1743 1727 1736 1665 1667 1669 1688 1689 1691 1670 1672 1675 1679 1681 1673 1671 1685 1685 1685 1665 1688 1689 1665 1688 1689 1665 1688 1689 1665 1667 1669 1688 1689 1691 1665 1667 1669 1688 1689 1691 1709 1670 1721 1721 1743 1743 1743 1672 1670 1672 1670 1672 1670 1672 1670 1672 1667 1669 1667 1669 1691 1671 1674 1671 1674 1671 1671 1674 1671 1674 1673 1670 1667 1669 1691 1665 1667 1669 1688 1691 1672 1722 1721 1720 1721\" | wc "
   ]
  },
  {
   "cell_type": "code",
   "execution_count": null,
   "metadata": {},
   "outputs": [],
   "source": []
  },
  {
   "cell_type": "code",
   "execution_count": null,
   "metadata": {},
   "outputs": [],
   "source": []
  },
  {
   "cell_type": "code",
   "execution_count": null,
   "metadata": {},
   "outputs": [],
   "source": []
  },
  {
   "cell_type": "code",
   "execution_count": null,
   "metadata": {},
   "outputs": [],
   "source": []
  },
  {
   "cell_type": "code",
   "execution_count": null,
   "metadata": {},
   "outputs": [],
   "source": [
    "# Map of the 420 couple between the protein's c_alpha and the ligand's c_alpha (for all the trajectories)\n",
    "# (map of the indeces)\n",
    "\n",
    "#mappa = md.getMapping(Molecule(path + 'filtered.pdb'))"
   ]
  },
  {
   "cell_type": "code",
   "execution_count": null,
   "metadata": {},
   "outputs": [],
   "source": [
    "##########################################################################################################################"
   ]
  },
  {
   "cell_type": "code",
   "execution_count": null,
   "metadata": {},
   "outputs": [],
   "source": [
    "# !!! inferire 'lag' e 'ndim'\n",
    "# tICA projection (dimensionality reduction along the slow process)\n",
    "# Time-based Independent Component Analysis  - projects your data on the slowest coordinates identified for a given \n",
    "# lagtime\n",
    "\n",
    "ticaproj = TICA(data = contacts, lag = 50)\n",
    "ticacontacts = ticaproj.project(ndim = 4)   # ndim = the number of TICA dimensions we want to project the data on"
   ]
  },
  {
   "cell_type": "code",
   "execution_count": null,
   "metadata": {},
   "outputs": [],
   "source": [
    "#shape(ticacontacts.dat)"
   ]
  },
  {
   "cell_type": "code",
   "execution_count": null,
   "metadata": {},
   "outputs": [],
   "source": [
    "#shape(ticacontacts.dat[0])"
   ]
  },
  {
   "cell_type": "code",
   "execution_count": null,
   "metadata": {},
   "outputs": [],
   "source": [
    "# Clustering on the new dimensions from TICA \n",
    "\n",
    "ticacontacts.cluster(MiniBatchKMeans(n_clusters = 200), mergesmall = 5)\n",
    "\n",
    "# \"n_clusters\" := the number of clusters to form as well as the number of centroids to generate.\n",
    "\n",
    "# MiniBatchKMeans:\n",
    "# It's a variant of the KMeans algorithm which uses mini-batches to reduce the computation time, \n",
    "# while still attempting to optimise the same objective function.\n",
    "# Mini-batches are subsets of the input data, randomly sampled in each training iteration."
   ]
  },
  {
   "cell_type": "code",
   "execution_count": null,
   "metadata": {},
   "outputs": [],
   "source": [
    "#shape(ticacontacts.dat)"
   ]
  },
  {
   "cell_type": "code",
   "execution_count": null,
   "metadata": {},
   "outputs": [],
   "source": [
    "#shape(ticacontacts.Centers)"
   ]
  },
  {
   "cell_type": "code",
   "execution_count": null,
   "metadata": {},
   "outputs": [],
   "source": [
    "#print(ticacontacts.K, ticacontacts.N, ticacontacts.St, shape(ticacontacts.St))"
   ]
  },
  {
   "cell_type": "code",
   "execution_count": null,
   "metadata": {},
   "outputs": [],
   "source": [
    "#len(ticacontacts.N)"
   ]
  },
  {
   "cell_type": "code",
   "execution_count": null,
   "metadata": {},
   "outputs": [],
   "source": [
    "#sum(ticacontacts.N) == 644*800"
   ]
  },
  {
   "cell_type": "code",
   "execution_count": null,
   "metadata": {},
   "outputs": [],
   "source": [
    "cl_assignment = ticacontacts.St"
   ]
  },
  {
   "cell_type": "code",
   "execution_count": null,
   "metadata": {},
   "outputs": [],
   "source": [
    "# Markov Model"
   ]
  },
  {
   "cell_type": "code",
   "execution_count": null,
   "metadata": {},
   "outputs": [],
   "source": [
    "modello = Model(ticacontacts)"
   ]
  },
  {
   "cell_type": "code",
   "execution_count": null,
   "metadata": {
    "scrolled": true
   },
   "outputs": [],
   "source": [
    "modello.markovModel(lag = 50, macronum = 7)\n",
    "eqDist = modello.eqDistribution(plot = True)\n",
    "print(eqDist)"
   ]
  },
  {
   "cell_type": "code",
   "execution_count": null,
   "metadata": {
    "scrolled": true
   },
   "outputs": [],
   "source": [
    "modello.plotTimescales(lags = list(range(1, 800, 10)))"
   ]
  },
  {
   "cell_type": "code",
   "execution_count": null,
   "metadata": {},
   "outputs": [],
   "source": [
    "htmd.config(viewer = 'vmd')\n",
    "\n",
    "modello.viewStates(protein = True)"
   ]
  },
  {
   "cell_type": "code",
   "execution_count": null,
   "metadata": {},
   "outputs": [],
   "source": [
    "#modello.macro_ofmicro"
   ]
  },
  {
   "cell_type": "code",
   "execution_count": null,
   "metadata": {},
   "outputs": [],
   "source": [
    "#micro4 = np.where(modello.macro_ofmicro == 4)[0]\n",
    "#len(micro4)"
   ]
  },
  {
   "cell_type": "code",
   "execution_count": null,
   "metadata": {},
   "outputs": [],
   "source": [
    "#modello.micronum"
   ]
  },
  {
   "cell_type": "code",
   "execution_count": null,
   "metadata": {},
   "outputs": [],
   "source": [
    "#modello.macronum"
   ]
  },
  {
   "cell_type": "code",
   "execution_count": null,
   "metadata": {},
   "outputs": [],
   "source": []
  }
 ],
 "metadata": {
  "kernelspec": {
   "display_name": "Python 3 (ipykernel)",
   "language": "python",
   "name": "python3"
  },
  "language_info": {
   "codemirror_mode": {
    "name": "ipython",
    "version": 3
   },
   "file_extension": ".py",
   "mimetype": "text/x-python",
   "name": "python",
   "nbconvert_exporter": "python",
   "pygments_lexer": "ipython3",
   "version": "3.10.12"
  }
 },
 "nbformat": 4,
 "nbformat_minor": 1
}
