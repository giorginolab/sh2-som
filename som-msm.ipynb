{
 "cells": [
  {
   "cell_type": "code",
   "execution_count": null,
   "metadata": {},
   "outputs": [],
   "source": [
    "import pandas as pd\n",
    "import numpy as np\n",
    "import deeptime as dt\n",
    "import matplotlib.pyplot as plt\n",
    "import hexagonal_grid\n",
    "from tqdm import tqdm\n",
    "\n"
   ]
  },
  {
   "cell_type": "code",
   "execution_count": null,
   "metadata": {},
   "outputs": [],
   "source": [
    "d=pd.read_table(\"SOM.neuron.classification.dat.xz\")\n",
    "d[\"RFrame\"]=d.groupby(['Replica']).cumcount()\n",
    "d[\"State\"]=d[\"Neuron.classif\"]-1"
   ]
  },
  {
   "cell_type": "code",
   "execution_count": null,
   "metadata": {},
   "outputs": [],
   "source": [
    "dg=d.groupby(\"Replica\")\n",
    "traj_list=[dg.get_group(x).State.to_numpy() for x in dg.groups]"
   ]
  },
  {
   "cell_type": "code",
   "execution_count": null,
   "metadata": {},
   "outputs": [],
   "source": [
    "models = []\n",
    "lagtimes = [1,10,20,30,60,100,200,300]\n",
    "for lagtime in tqdm(lagtimes):\n",
    "    counts = dt.markov.TransitionCountEstimator(lagtime=lagtime, count_mode='sliding').fit_fetch(traj_list)\n",
    "    #mod=dt.markov.msm.BayesianMSM(n_samples=50).fit(counts,ignore_counting_mode=True).fetch()\n",
    "    mod=dt.markov.msm.MaximumLikelihoodMSM().fit_fetch(counts)\n",
    "    models.append(mod)\n",
    "    #models.append()\n"
   ]
  },
  {
   "cell_type": "code",
   "execution_count": null,
   "metadata": {},
   "outputs": [],
   "source": [
    "its_data = dt.util.validation.implied_timescales(models)\n",
    "\n",
    "fig, ax = plt.subplots(1, 1)\n",
    "dt.plots.plot_implied_timescales(its_data, n_its=12, ax=ax)\n",
    "#ax.set_yscale('log')\n",
    "ax.set_title('Implied timescales')\n",
    "ax.set_xlabel('lag time (steps)')\n",
    "ax.set_ylabel('timescale (steps)')\n",
    "\n"
   ]
  },
  {
   "cell_type": "code",
   "execution_count": null,
   "metadata": {},
   "outputs": [],
   "source": [
    "pccamodel = models[2]\n",
    "pcca = pccamodel.pcca(n_metastable_sets=6)\n"
   ]
  },
  {
   "cell_type": "code",
   "execution_count": null,
   "metadata": {},
   "outputs": [],
   "source": [
    "pcca.memberships"
   ]
  },
  {
   "cell_type": "code",
   "execution_count": null,
   "metadata": {},
   "outputs": [],
   "source": [
    "hgrid = hexagonal_grid.hexagonal_grid(20,20)"
   ]
  },
  {
   "cell_type": "code",
   "execution_count": null,
   "metadata": {},
   "outputs": [],
   "source": [
    "plt.scatter(hgrid[:,0],hgrid[:,1],s=100,c=pcca.memberships[:,0])"
   ]
  },
  {
   "cell_type": "code",
   "execution_count": null,
   "metadata": {},
   "outputs": [],
   "source": [
    "plt.plot(pcca.memberships[:,0])"
   ]
  },
  {
   "cell_type": "code",
   "execution_count": null,
   "metadata": {},
   "outputs": [],
   "source": [
    "np.where(pcca.memberships[:,0]>.5)"
   ]
  },
  {
   "cell_type": "code",
   "execution_count": null,
   "metadata": {},
   "outputs": [],
   "source": [
    "plt.scatter(hgrid[:,0],hgrid[:,1],s=100,c=pcca.memberships[:,5])\n",
    "plt.colorbar()"
   ]
  },
  {
   "cell_type": "code",
   "execution_count": null,
   "metadata": {},
   "outputs": [],
   "source": [
    "pcca.coarse_grained_stationary_probability"
   ]
  },
  {
   "cell_type": "code",
   "execution_count": null,
   "metadata": {},
   "outputs": [],
   "source": [
    "hexagonal_grid.state_plot(hgrid, pcca.assignments)\n",
    "plt.colorbar()"
   ]
  },
  {
   "cell_type": "code",
   "execution_count": null,
   "metadata": {},
   "outputs": [],
   "source": []
  }
 ],
 "metadata": {
  "kernelspec": {
   "display_name": "markov",
   "language": "python",
   "name": "python3"
  },
  "language_info": {
   "codemirror_mode": {
    "name": "ipython",
    "version": 3
   },
   "file_extension": ".py",
   "mimetype": "text/x-python",
   "name": "python",
   "nbconvert_exporter": "python",
   "pygments_lexer": "ipython3",
   "version": "3.11.3"
  }
 },
 "nbformat": 4,
 "nbformat_minor": 2
}
