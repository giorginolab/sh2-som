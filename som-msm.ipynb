{
 "cells": [
  {
   "cell_type": "code",
   "execution_count": null,
   "metadata": {},
   "outputs": [],
   "source": [
    "# AIR: use the mdanalysis environment\n",
    "\n",
    "import pandas as pd\n",
    "import numpy as np\n",
    "import deeptime as dt\n",
    "import matplotlib.pyplot as plt\n",
    "import hexagonal_grid\n",
    "from tqdm import tqdm\n",
    "import os"
   ]
  },
  {
   "cell_type": "code",
   "execution_count": null,
   "metadata": {},
   "outputs": [],
   "source": [
    "%cd {os.environ['HOME']}/Sync/work_in_progress/sh2-som"
   ]
  },
  {
   "cell_type": "code",
   "execution_count": null,
   "metadata": {},
   "outputs": [],
   "source": [
    "d=pd.read_table(\"SOM.neuron.classification.dat.xz\")\n",
    "d[\"RFrame\"]=d.groupby(['Replica']).cumcount()\n",
    "d[\"State\"]=d[\"Neuron.classif\"]-1\n",
    "\n",
    "# Fix: RFrame is the replica's frame\n",
    "#      State is the 0-based neuron assignment"
   ]
  },
  {
   "cell_type": "code",
   "execution_count": null,
   "metadata": {},
   "outputs": [],
   "source": [
    "# Split by replica. Make each replica's state list a list element.\n",
    "# traj_list is therefore a list of numpy arrays holding 0-based states\n",
    "\n",
    "dg=d.groupby(\"Replica\")\n",
    "traj_list=[dg.get_group(x).State.to_numpy() for x in dg.groups]"
   ]
  },
  {
   "cell_type": "code",
   "execution_count": null,
   "metadata": {},
   "outputs": [],
   "source": [
    "models = []\n",
    "#lagtimes = [1,10,20,30,60,100,200,300]\n",
    "lagtimes = np.arange(1, 400, 20)\n",
    "for lagtime in tqdm(lagtimes):\n",
    "    counts = dt.markov.TransitionCountEstimator(lagtime=lagtime, count_mode='sliding').fit_fetch(traj_list)\n",
    "    #mod=dt.markov.msm.BayesianMSM(n_samples=50).fit(counts,ignore_counting_mode=True).fetch()\n",
    "    mod=dt.markov.msm.MaximumLikelihoodMSM().fit_fetch(counts)\n",
    "    models.append(mod)\n",
    "    #models.append()\n"
   ]
  },
  {
   "cell_type": "code",
   "execution_count": null,
   "metadata": {},
   "outputs": [],
   "source": [
    "its_data = dt.util.validation.implied_timescales(models)\n",
    "\n",
    "fig, ax = plt.subplots(1, 1)\n",
    "dt.plots.plot_implied_timescales(its_data, n_its=12, ax=ax)\n",
    "#ax.set_yscale('log')\n",
    "ax.set_title('Implied timescales')\n",
    "ax.set_xlabel('lag time (steps)')\n",
    "ax.set_ylabel('timescale (steps)')\n",
    "\n"
   ]
  },
  {
   "cell_type": "code",
   "execution_count": null,
   "metadata": {},
   "outputs": [],
   "source": [
    "hgrid = hexagonal_grid.hexagonal_grid(20,20)"
   ]
  },
  {
   "cell_type": "code",
   "execution_count": null,
   "metadata": {},
   "outputs": [],
   "source": [
    "chosen_model = hexagonal_grid.index_of_closest(lagtimes, 250)\n",
    "chosen_model"
   ]
  },
  {
   "cell_type": "code",
   "execution_count": null,
   "metadata": {},
   "outputs": [],
   "source": [
    "pccamodel = models[chosen_model]\n",
    "n_macro=10\n",
    "pcca = pccamodel.pcca(n_metastable_sets=n_macro)\n"
   ]
  },
  {
   "cell_type": "code",
   "execution_count": null,
   "metadata": {},
   "outputs": [],
   "source": [
    "for m in range(n_macro):\n",
    "    hexagonal_grid.state_plot(hgrid, pcca.memberships[:,m])\n",
    "    plt.show()"
   ]
  },
  {
   "cell_type": "code",
   "execution_count": null,
   "metadata": {},
   "outputs": [],
   "source": [
    "print(pcca.coarse_grained_stationary_probability)\n",
    "plt.bar(range(n_macro),\n",
    "        -.6*np.log(pcca.coarse_grained_stationary_probability))\n",
    "plt.ylabel(\"dG (kcal/mol)\")\n",
    "plt.xlabel(\"Macrostate\")"
   ]
  },
  {
   "cell_type": "code",
   "execution_count": null,
   "metadata": {},
   "outputs": [],
   "source": [
    "hexagonal_grid.state_plot(hgrid, pcca.assignments)\n",
    "plt.colorbar()"
   ]
  },
  {
   "cell_type": "code",
   "execution_count": null,
   "metadata": {},
   "outputs": [],
   "source": []
  }
 ],
 "metadata": {
  "kernelspec": {
   "display_name": "markov",
   "language": "python",
   "name": "python3"
  },
  "language_info": {
   "codemirror_mode": {
    "name": "ipython",
    "version": 3
   },
   "file_extension": ".py",
   "mimetype": "text/x-python",
   "name": "python",
   "nbconvert_exporter": "python",
   "pygments_lexer": "ipython3",
   "version": "3.10.6"
  }
 },
 "nbformat": 4,
 "nbformat_minor": 2
}
